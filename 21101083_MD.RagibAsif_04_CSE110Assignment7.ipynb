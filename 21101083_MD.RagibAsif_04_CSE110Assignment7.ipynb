{
 "cells": [
  {
   "cell_type": "markdown",
   "metadata": {
    "id": "oMYzsTcnHEll"
   },
   "source": [
    "# CSE110 Lab Assignment 7 on Sorting and Searching\n",
    "\n",
    "Write your name, student id and CSE110 section below:\n"
   ]
  },
  {
   "cell_type": "code",
   "execution_count": 1,
   "metadata": {
    "id": "ljd7OxU2gvWb"
   },
   "outputs": [],
   "source": [
    "#STUDENT NAME: Md. Ragib Asif\n",
    "#STUDENT ID: 21101083\n",
    "#CSE110 SECTION: 04"
   ]
  },
  {
   "cell_type": "markdown",
   "metadata": {
    "id": "jT-t2zlnHEll"
   },
   "source": [
    "## Write the Python code for the following problems:\n",
    "**<font color='red'>[MUST MAINTAIN VARIABLE NAMING CONVENTIONS FOR ALL THE TASKS]</font>**\n",
    "\n",
    "### Task 1\n",
    "\n",
    "Suppose you have a list named my_list as given below. <br/>\n",
    "my_list = [10,1,20,3,6,2,5,11,15,2,12,14,17,18,29] <br/>\n",
    "Now use bubble sort to sort my_list into ascending order.\n",
    "\n",
    "**Output**<br/>\n",
    "[1, 2, 2, 3, 5, 6, 10, 11, 12, 14, 15, 17, 18, 20, 29]"
   ]
  },
  {
   "cell_type": "code",
   "execution_count": 3,
   "metadata": {
    "id": "7qXVakLgHElm"
   },
   "outputs": [
    {
     "name": "stdout",
     "output_type": "stream",
     "text": [
      "Enter elements using comma:10,1,20,3,6,2,5,11,15,2,12,14,17,18,29\n",
      "[1, 2, 2, 3, 5, 6, 10, 11, 12, 14, 15, 17, 18, 20, 29]\n"
     ]
    }
   ],
   "source": [
    "#todo - Bubble sort starts arranging the elements from the top\n",
    "my_list = [int(x) for x in input('Enter elements using comma:').split(',')]\n",
    "\n",
    "for i in range(len(my_list)-1):\n",
    "    for j in range(0, len(my_list)-i-1):\n",
    "        if my_list[j] > my_list[j+1]:\n",
    "            temp=my_list[j]\n",
    "            my_list[j]=my_list[j+1]\n",
    "            my_list[j+1]=temp\n",
    "print(my_list)"
   ]
  },
  {
   "cell_type": "markdown",
   "metadata": {
    "id": "w1QgeWd2HElp"
   },
   "source": [
    "### Task 2\n",
    "\n",
    "Suppose you have a list named my_list as given below. <br/>\n",
    "my_list = [10,1,20,3,6,2,5,11,15,2,12,14,17,18,29] <br/>\n",
    "Now use selection sort to sort my_list into ascending order.\n",
    "\n",
    "**Output**<br/>\n",
    "[1, 2, 2, 3, 5, 6, 10, 11, 12, 14, 15, 17, 18, 20, 29]\n",
    "\n"
   ]
  },
  {
   "cell_type": "code",
   "execution_count": 2,
   "metadata": {
    "id": "am0B_8ICHElq"
   },
   "outputs": [
    {
     "name": "stdout",
     "output_type": "stream",
     "text": [
      "Enter elements using comma:10,1,20,3,6,2,5,11,15,2,12,14,17,18,29\n",
      "[1, 2, 2, 3, 5, 6, 10, 11, 12, 14, 15, 17, 18, 20, 29]\n"
     ]
    }
   ],
   "source": [
    "#todo Selection sort starts arranging the elements from the bottom\n",
    "my_list = [int(x) for x in input('Enter elements using comma:').split(',')]\n",
    "\n",
    "for i in range(len(my_list)-1):\n",
    "    min_index = i\n",
    "    for j in range(i+1, len(my_list)):\n",
    "        if my_list[j] < my_list[min_index]:\n",
    "            min_index = j\n",
    "    temp=my_list[min_index]\n",
    "    my_list[min_index]=my_list[i]\n",
    "    my_list[i]=temp\n",
    "print(my_list)"
   ]
  },
  {
   "cell_type": "markdown",
   "metadata": {
    "id": "j4ffr2CAHElt"
   },
   "source": [
    "### Task  3\n",
    "\n",
    "Suppose you have a list named my_list as given below <br/>\n",
    "my_list=[10,1,20,3,6,2,5,11,15,2,12,14,17,18,29] <br/>\n",
    "Now use any of the two sorting techniques you have used above to sort the list in descending order.\n",
    "\n",
    "**Output**<br/>\n",
    "[29, 20, 18, 17, 15, 14, 12, 11, 10, 6, 5, 3, 2, 2, 1]\n"
   ]
  },
  {
   "cell_type": "code",
   "execution_count": 1,
   "metadata": {
    "id": "n2X3YR-_HElt"
   },
   "outputs": [
    {
     "name": "stdout",
     "output_type": "stream",
     "text": [
      "Enter elements using comma:10,1,20,3,6,2,5,11,15,2,12,14,17,18,29\n",
      "[29, 20, 18, 17, 15, 14, 12, 11, 10, 6, 5, 3, 2, 2, 1]\n"
     ]
    }
   ],
   "source": [
    "my_list=[int(x) for x in input('Enter elements using comma:').split(',')]\n",
    "\n",
    "for i in range(len(my_list)-1):\n",
    "    max_index = i\n",
    "    for j in range(i+1, len(my_list)):\n",
    "        if my_list[j] > my_list[max_index]:\n",
    "            max_index = j\n",
    "    temp=my_list[max_index]\n",
    "    my_list[max_index]=my_list[i]\n",
    "    my_list[i]=temp\n",
    "print(my_list)"
   ]
  },
  {
   "cell_type": "markdown",
   "metadata": {
    "id": "9iYiiTWWHElw"
   },
   "source": [
    "### Task 4\n",
    "\n",
    "Suppose you have a sitting arrangement of the students who will give the final exam in a list. The list contains the last two digits of their student ID as given below.<br/>\n",
    "\n",
    "sitting_list = [10,30,20,70,11,15,22,16,58,100,12,56,70,80] <br/>\n",
    "\n",
    "Now you want to organize the sitting arrangement of the students in your own way. You decide to sort all the students in the even indices of the list in ascending order and all the students in the odd indices of the list in descending order.  <br/>\n",
    "\n",
    "So, write a python program that organizes the list for you in this way.<br/>\n",
    "\n",
    "\n",
    "**Sample Output**<br/>\n",
    "[10, 100, 11, 80, 12, 70, 20, 56, 22, 30, 58, 16, 70, 15]"
   ]
  },
  {
   "cell_type": "code",
   "execution_count": 4,
   "metadata": {},
   "outputs": [
    {
     "name": "stdout",
     "output_type": "stream",
     "text": [
      "Enter elements using comma:10,30,20,70,11,15,22,16,58,100,12,56,70,80\n",
      "[10, 100, 11, 80, 12, 70, 20, 56, 22, 30, 58, 16, 70, 15]\n"
     ]
    }
   ],
   "source": [
    "sitting_list=[int(x) for x in input('Enter elements using comma:').split(',')]\n",
    "    \n",
    "even_lst=sitting_list[0::2]\n",
    "odd_lst=sitting_list[1::2]\n",
    "final_lst=[]\n",
    "\n",
    "for i in range(len(even_lst)-1):\n",
    "    min_index = i\n",
    "    for j in range(i+1, len(even_lst)):\n",
    "        if even_lst[j] < even_lst[min_index]:\n",
    "            min_index = j\n",
    "    temp=even_lst[min_index]\n",
    "    even_lst[min_index]=even_lst[i]\n",
    "    even_lst[i]=temp\n",
    "    \n",
    "\n",
    "for i in range(len(odd_lst)-1):\n",
    "    max_index = i\n",
    "    for j in range(i+1, len(odd_lst)):\n",
    "        if odd_lst[j] > odd_lst[max_index]:\n",
    "            max_index = j\n",
    "    temp=odd_lst[max_index]\n",
    "    odd_lst[max_index]=odd_lst[i]\n",
    "    odd_lst[i]=temp\n",
    "\n",
    "\n",
    "for k in range(len(sitting_list)):\n",
    "    \n",
    "    if k<=len(even_lst)-1:\n",
    "        final_lst.append(even_lst[k])\n",
    "        \n",
    "    if k<=len(odd_lst)-1:\n",
    "        final_lst.append(odd_lst[k])\n",
    "        \n",
    "print(final_lst)"
   ]
  },
  {
   "cell_type": "markdown",
   "metadata": {
    "id": "oVR1Tsa0HElz"
   },
   "source": [
    "### Task 5\n",
    "\n",
    "Suppose a list contains marks earned in the courses CSE110, PHY111, and MAT110 of each student consecutively in a nested list form. Your task is to take a course name as input from the user and sort the list based on the marks obtained in that course in order to finally print the names of the students in descending order of marks obtained i.e. from the student who earned the highest marks to the student who earned the lowest. <br/>\n",
    "\n",
    "For example, the list may look like <br/>\n",
    "lst = [ [\"Alan\", 95, 87, 91], [\"Turing\", 92, 90, 83], [\"Elon\", 87, 92, 80], [\"Musk\", 85, 94, 90] ] <br/>\n",
    "where for each nested list, 1st index holds the name of the student, 2nd index is total marks earned in the CSE110 course, 3rd index is PHY111 marks and 4th index is MAT110 marks. \n",
    "\n",
    "=====================================================\n",
    "\n",
    "**Hint:**<br/>\n",
    "You may create a function for sorting, then call it every time when needed instead of rewriting the code.\n",
    "\n",
    "You may get the data in the individual lists from the given nested list.\n",
    "\n",
    "=====================================================\n",
    "\n",
    "**Sample Input 1**<br/>\n",
    "MAT110\n",
    "\n",
    "**Sample Output 1**<br/>\n",
    "Alan <br/>\n",
    "Musk <br/>\n",
    "Turing <br/>\n",
    "Elon\n",
    "\n",
    "**Explanation:**<br/>\n",
    "Here the user gives us \"MAT110\" as the course name. Now, the students Alan, Turing, Elon and Musk earned 91, 83, 80 and 90 marks respectively in this course. If we sort it, Alan got the highest marks of 91 followed by Musk with 90 marks and Turing with 83 marks. Among these 4 students, Elon obtained the lowest marks in the MAT110 course with 80 marks. All of these has been illustrated in our sample output.\n",
    "\n",
    "=====================================================\n",
    "\n",
    "**Sample Input 2**<br/>\n",
    "PHY111\n",
    "\n",
    "**Sample Output 2**<br/>\n",
    "Musk <br/>\n",
    "Elon <br/>\n",
    "Turing <br/>\n",
    "Alan"
   ]
  },
  {
   "cell_type": "code",
   "execution_count": 7,
   "metadata": {},
   "outputs": [
    {
     "name": "stdout",
     "output_type": "stream",
     "text": [
      "Enter course name:MAT110\n",
      "Alan\n",
      "Musk\n",
      "Turing\n",
      "Elon\n"
     ]
    }
   ],
   "source": [
    "def sorted_list(my_list):\n",
    "    \n",
    "    for i in range(len(my_list)-1):\n",
    "        max_index = i\n",
    "        for j in range(i+1, len(my_list)):\n",
    "            if my_list[j] > my_list[max_index]:\n",
    "                max_index = j\n",
    "        temp=my_list[max_index]\n",
    "        my_list[max_index]=my_list[i]\n",
    "        my_list[i]=temp\n",
    "    \n",
    "    return my_list\n",
    "\n",
    "lst = [ [\"Alan\", 95, 87, 91], [\"Turing\", 92, 90, 83], [\"Elon\", 87, 92, 80], [\"Musk\", 85, 94, 90] ]\n",
    "\n",
    "string = input('Enter course name:')\n",
    "\n",
    "new_lst=[]\n",
    "\n",
    "def output_function(index):\n",
    "    for k in range(len(lst)):\n",
    "        new_lst.append(lst[k][index])\n",
    "    final_lst = sorted_list(new_lst)\n",
    "    index_lst=[]\n",
    "    for l in final_lst:    \n",
    "        for x in lst:\n",
    "            \n",
    "        \n",
    "            if x[index]==l:\n",
    "                s=lst.index(x)\n",
    "            \n",
    "                index_lst.append(s)\n",
    "    for name in index_lst:\n",
    "        print(lst[name][0])\n",
    "    \n",
    "    return \n",
    "        \n",
    "        \n",
    "if string=='CSE110':\n",
    "    output_function(1)\n",
    "elif string=='PHY111':\n",
    "    output_function(2)\n",
    "elif string=='MAT110':\n",
    "    output_function(3)"
   ]
  },
  {
   "cell_type": "markdown",
   "metadata": {
    "id": "B0Rqbyi4HEl2"
   },
   "source": [
    "### Task 6\n",
    "\n",
    "Suppose you have a list named my_list as given below. Your task is to sort the list in ascending order and print the count of numbers that have changed their positions in the process of sorting. <br/>\n",
    "\n",
    "my_list = [4, 2, 3, 1, 6, 5] <br/>\n",
    "\n",
    "Sorted list would be [1, 2, 3, 4, 5, 6] where 4 numbers (4, 1, 6 and 5) have changed their positions. Therefore our sample output here would be 4. Please check if your code is working correctly by changing the above list and using the knowledge given here to verify whether your code gives correct output for all different lists.\n",
    "\n",
    "\n",
    "**Sample Output for the above list**<br/>\n",
    "4"
   ]
  },
  {
   "cell_type": "code",
   "execution_count": 25,
   "metadata": {
    "id": "AMc8jAa7HEl2"
   },
   "outputs": [
    {
     "name": "stdout",
     "output_type": "stream",
     "text": [
      "4\n"
     ]
    }
   ],
   "source": [
    "my_list = [int(x) for x in input('Enter elements using comma:').split(',')]\n",
    "\n",
    "count=0\n",
    "for i in range(len(my_list)):\n",
    "    min_index = i\n",
    "    for j in range(i+1, len(my_list)):\n",
    "        if my_list[j] < my_list[min_index]:\n",
    "            min_index = j\n",
    "    if my_list[i]!=my_list[min_index]:\n",
    "        \n",
    "        temp=my_list[min_index]\n",
    "        my_list[min_index]=my_list[i]\n",
    "        my_list[i]=temp\n",
    "        count+=2\n",
    "    \n",
    "print(count)"
   ]
  },
  {
   "cell_type": "markdown",
   "metadata": {
    "id": "iIH5n0sJHEl5"
   },
   "source": [
    "### Task 7\n",
    "\n",
    "Write a python program that takes two lists from the user, merges the two lists, sorts the resulting list, and then finds the median of the elements in the two lists.\n",
    "\n",
    "=====================================================\n",
    "\n",
    "\n",
    "**Sample Input 1**<br/>\n",
    "list_one = [1, 2, 1, 4] <br/>\n",
    "list_two = [5, 4, 1]\n",
    "\n",
    "\n",
    "**Sample Output 1**<br/>\n",
    "Sorted list = [1, 1, 1, 2, 4, 4, 5] <br/>\n",
    "Median = 2\n",
    "\n",
    "=====================================================\n",
    "\n",
    "\n",
    "**Sample Input 2**<br/>\n",
    "list_one = [1, 7, 9, 10] <br/>\n",
    "list_two = [2, 7, 6, 5]\n",
    "\n",
    "\n",
    "**Sample Output 2**<br/>\n",
    "Sorted list = [1, 2, 5, 6, 7, 7, 9, 10] <br/>\n",
    "Median = 6.5\n",
    "\n"
   ]
  },
  {
   "cell_type": "code",
   "execution_count": 3,
   "metadata": {
    "id": "KsFxC7XbHEl6"
   },
   "outputs": [
    {
     "name": "stdout",
     "output_type": "stream",
     "text": [
      "Enter numbers using comma:1,2,1,4\n",
      "Enter numbers using comma:5,4,1\n",
      "Sorted list= [1, 1, 1, 2, 4, 4, 5]\n",
      "Median= 2\n"
     ]
    }
   ],
   "source": [
    "list1=input('Enter numbers using comma:').split(',')\n",
    "list2=input('Enter numbers using comma:').split(',')\n",
    "list3=list1+list2\n",
    "list4=[int(x) for x in list3]\n",
    "for i in range(len(list4)-1):\n",
    "    for j in range(0, len(list4)-i-1):\n",
    "        if list4[j] > list4[j+1]:\n",
    "            temp=list4[j]\n",
    "            list4[j]=list4[j+1]\n",
    "            list4[j+1]=temp\n",
    "            \n",
    "print('Sorted list=',list4) \n",
    "size=len(list4)\n",
    "if size%2!=0:\n",
    "    median_index=((size+1)//2)\n",
    "    print('Median=',list4[median_index-1])\n",
    "else:\n",
    "    median_idx1=(size//2)-1\n",
    "    median_idx2=median_idx1+1\n",
    "    median=(list4[median_idx2]+list4[median_idx1])/2\n",
    "    \n",
    "    print('Median=',median)"
   ]
  },
  {
   "cell_type": "markdown",
   "metadata": {
    "id": "-XKiwBR1HEl8"
   },
   "source": [
    "### Task 8\n",
    "\n",
    "\n",
    "Write a python program that takes a list from user containing both positive and negative numbers. The program then finds two pairs of values whose summation is closest to zero.\n",
    "\n",
    "=====================================================\n",
    "\n",
    "**Sample Input 1**<br/>\n",
    "list_one = [-10, 15, 2, 4, -4, 7, -8] \n",
    "\n",
    "\n",
    "**Sample Output 1**<br/>\n",
    "Two pairs which have the smallest sum = 4 and -4\n",
    "\n",
    "=====================================================\n",
    "\n",
    "\n",
    "**Sample Input 2**<br/>\n",
    "list_one = [1, -8, 4, -7, -20, 26, 70, -85]\n",
    "\n",
    "\n",
    "**Sample Output 2**<br/>\n",
    "Two pairs which have the smallest sum = 4 and -7"
   ]
  },
  {
   "cell_type": "code",
   "execution_count": 4,
   "metadata": {},
   "outputs": [
    {
     "name": "stdout",
     "output_type": "stream",
     "text": [
      "Enter elements using comma:1,-8,4,-7,-20,26,70,-85\n",
      "Two pairs which have the smallest sum= 4 and -7\n"
     ]
    }
   ],
   "source": [
    "list1=[int(x) for x in input('Enter elements using comma:').split(',')]\n",
    "smallest_sum=9999999999999\n",
    "el1=0\n",
    "el2=0\n",
    "for i in range(len(list1)-1):\n",
    "    sum=list1[i]+list1[i+1]\n",
    "    \n",
    "    if abs(sum)<abs(smallest_sum):\n",
    "        smallest_sum=sum\n",
    "        el1=list1[i]\n",
    "        el2=list1[i+1]\n",
    "print('Two pairs which have the smallest sum= {} and {}'.format(el1,el2))"
   ]
  }
 ],
 "metadata": {
  "colab": {
   "collapsed_sections": [],
   "name": "CSE110 Lab Assignment 7 (Sorting and Searching).ipynb",
   "provenance": []
  },
  "kernelspec": {
   "display_name": "Python 3",
   "language": "python",
   "name": "python3"
  },
  "language_info": {
   "codemirror_mode": {
    "name": "ipython",
    "version": 3
   },
   "file_extension": ".py",
   "mimetype": "text/x-python",
   "name": "python",
   "nbconvert_exporter": "python",
   "pygments_lexer": "ipython3",
   "version": "3.8.8"
  }
 },
 "nbformat": 4,
 "nbformat_minor": 1
}
