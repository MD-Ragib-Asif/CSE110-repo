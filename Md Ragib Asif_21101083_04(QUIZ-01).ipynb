{
 "cells": [
  {
   "cell_type": "code",
   "execution_count": 20,
   "id": "21651a44",
   "metadata": {},
   "outputs": [
    {
     "name": "stdout",
     "output_type": "stream",
     "text": [
      "Enter total student number:1\n",
      "Enter student id:20202020\n",
      "Ciao"
     ]
    }
   ],
   "source": [
    "n=int(input('Enter total student number:'))\n",
    "m=0\n",
    "\n",
    "for i in range(n):\n",
    "    stid=input('Enter student id:')\n",
    "    \n",
    "    for j in str(stid):\n",
    "        m+=int(j)\n",
    "if m>=5 and m<=10:\n",
    "    print('Ciao',end='')\n",
    "elif m>=11 and m<=15:\n",
    "    print('Hello',end='')\n",
    "elif m>=20 and m<=25:\n",
    "    print('Hola',end='')\n",
    "elif m>=30 and m<=35:\n",
    "    print('Salut',end='')\n",
    "else:\n",
    "    print('ByeBye',end='')"
   ]
  },
  {
   "cell_type": "markdown",
   "id": "6f1dce17",
   "metadata": {},
   "source": [
    "𝗤𝘂𝗲𝘀𝘁𝗶𝗼𝗻:\n",
    "Write a python program that takes N student ids as input from the user (N \n",
    "is an input). Then calculates the sum of digits for each student id. \n",
    "Finally, print the statements from the following chart.\n",
    "If the digit total is from 5 to 10 (inclusive), then print “Ciao”.\n",
    "If the digit total is from 11 to 15(inclusive), then print “Hello”.\n",
    "If the digit total is from 20 to 25(inclusive), then print “Hola”.\n",
    "If the digit total is from 30 to 35(inclusive), then print “Salut”.\n",
    "For any other valid number, print “ByeBye”.\n",
    "\n",
    "Assume, the user will give valid student ids with 8 digits. You are not \n",
    "allowed to use lists for this task.\n",
    "================================================\n",
    "Sample Input 1:\n",
    "2\n",
    "21101710\n",
    "15929010\n",
    "\n",
    "Sample Output 1:\n",
    "Hello\n",
    "ByeBye\n",
    "\n",
    "Explanation 1:\n",
    "For 21101710, the total of the digits is 13 which falls in the range of 11 \n",
    "to 15, so it prints “Hello”.\n",
    "For 15929010, the total of the digits is 27 which does not fall in any \n",
    "specified range, so it prints  “ByeBye”.\n",
    "================================================\n",
    "\n",
    "Sample Input2:\n",
    "4\n",
    "20202020\n",
    "10909010\n",
    "17030050\n",
    "13535059\n",
    "\n",
    "Sample Output2:\n",
    "Ciao\n",
    "Hola\n",
    "ByeBye\n",
    "Salut\n",
    "\n",
    "Explanation2:\n",
    "For 20202020, the sum of the digits is 8 which falls in the range of 5 to \n",
    "10, so it prints “Ciao”.\n",
    "For 10909010, the sum of the digits is 20 which falls in the range of 20 to \n",
    "25, so it prints “Hola”.\n",
    "For 17030050, the sum of the digits is 16 which does not fall in any \n",
    "specified range, so it prints “ByeBye”.\n",
    "For 13535059, the sum of the digits is 31 which falls in the range of 30 to \n",
    "35, so it prints “Salut”."
   ]
  },
  {
   "cell_type": "code",
   "execution_count": null,
   "id": "15c4aca0",
   "metadata": {},
   "outputs": [],
   "source": []
  }
 ],
 "metadata": {
  "kernelspec": {
   "display_name": "Python 3",
   "language": "python",
   "name": "python3"
  },
  "language_info": {
   "codemirror_mode": {
    "name": "ipython",
    "version": 3
   },
   "file_extension": ".py",
   "mimetype": "text/x-python",
   "name": "python",
   "nbconvert_exporter": "python",
   "pygments_lexer": "ipython3",
   "version": "3.8.8"
  }
 },
 "nbformat": 4,
 "nbformat_minor": 5
}
