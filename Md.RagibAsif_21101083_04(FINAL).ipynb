{
 "cells": [
  {
   "cell_type": "markdown",
   "id": "f9ca47e7",
   "metadata": {},
   "source": [
    "Question-3:\n",
    "Write a python function called replacer()  that takes two strings as \n",
    "arguments.\n",
    "\n",
    "             Argument1: A sentence where you have to make the changes.\n",
    "             Argument2: A word with the values either “vowel” or “consonant”.\n",
    "Your function should replace the characters of the sentence with “V” or “C” \n",
    "depending on the 2nd argument. If the word is “vowel”, then replace all the \n",
    "vowels with “V”. If the word is “consonant”, then replace all the \n",
    "consonants with “C”.\n",
    "[You are not allowed to use the replace() function]\n",
    "\n",
    "\n",
    "================================================\n",
    "\n",
    "Function call1:\\\n",
    "replacer(\"It is MAT110 final\", \"vowels\")\n",
    "\n",
    "Sample Output1:\\\n",
    "Vt Vs MVT110 fVnVl\n",
    "\n",
    "================================================\n",
    "\n",
    "Function call2:\\\n",
    "replacer(\"It is CSE110 final\", \"consonants\")\n",
    "\n",
    "Sample Output 02:\\\n",
    "IC iC CCE110 CiCaC\n",
    "\n",
    "================================================"
   ]
  },
  {
   "cell_type": "code",
   "execution_count": 1,
   "id": "1d353582",
   "metadata": {},
   "outputs": [
    {
     "name": "stdout",
     "output_type": "stream",
     "text": [
      "Enter a argument:It is MAT110 final\n",
      "enter \"vowels\" or \"consonent\":vowels\n",
      "Vt Vs MVT110 fVnVl\n"
     ]
    }
   ],
   "source": [
    "def replacer(argument,word):\n",
    "    vowel=['a','e','i','o','u','A','E','I','O','U']\n",
    "    str1=word.lower()\n",
    "    new_str=''\n",
    "    change=''\n",
    "    if str1== 'vowels':\n",
    "        change+='V'\n",
    "        for i in argument:\n",
    "            if i in vowel:\n",
    "                new_str+=change\n",
    "            else:\n",
    "                new_str+=i\n",
    "    elif str1== 'consonants':\n",
    "        change+='C'\n",
    "        for i in argument:\n",
    "            if i not in vowel:\n",
    "                new_str+=change\n",
    "            else:\n",
    "                new_str+=i\n",
    "    return new_str\n",
    "\n",
    "print(replacer(input('Enter a argument:'),input('enter \"vowels\" or \"consonent\":')))\n",
    "    "
   ]
  },
  {
   "cell_type": "markdown",
   "id": "84e24bd1",
   "metadata": {},
   "source": [
    "Question-2:\n",
    "Assume, you have been given a list of lists where the student names and \n",
    "their grades of the A-level courses are given. The minimum GPA needs to be \n",
    "calculated for the BEST 2 grades obtained by the student. So, the student \n",
    "must have at least 2 subjects in his/her A levels. According to the scale \n",
    "(A=5, B=4, C=3 & D=2). Subjects with E grades will not be considered. See \n",
    "the sample inputs and outputs below with an explanation to understand \n",
    "better.\n",
    "\n",
    "================================================\n",
    "\n",
    "Given list of list1:\\\n",
    "given_data = [[\"Alice\", [\"A\",\"C\",\"C\",\"A\"]], [\"Sam\", [ \"A\", \"C\", \"B\"]], \n",
    "[\"Amy\", [\"A\",\"E\"]],[\"Robin\", [\"A\"] ] ]\n",
    "\n",
    "Sample Output 1:\\\n",
    "Based on the A level result Alice's minimum GPA is 5.0\\\n",
    "Based on the A level result Sam's minimum GPA is 4.5\\\n",
    "Sorry Amy the grades allowed in your top 2 grades are only A/B/C/D\\\n",
    "Robin: You must have at least 2 subjects in A level.\n",
    "\n",
    "Explanation1:\\\n",
    "Alice's GPA is based on her top 2 grades, A=5 and A=5. Her GPA calculation \n",
    "is GPA = 5+5/2 = 5.0\n",
    "Sam's GPA is based on his top 2 grades, A=5 and B=4. His GPA calculation is \n",
    "GPA = 5+4/2 = 4.5\n",
    "Amy's top 2 grades consist of an E grade. So her GPA is not calculated.\\\n",
    "Robin had only 1 A-level subject so his GPA is also not calculated.\n",
    "\n",
    "Finally, print the dictionary.\n",
    "\n",
    "================================================\n",
    "\n",
    "Given list of list2:\\\n",
    "given_data = [[\"Alice\", [\"A\"]], [\"Sam\", [ \"A\", \"E\", \"B\"]]]\n",
    "\n",
    "Sample Output 2:\\\n",
    "Alice: You must have at least 2 subjects in A level.\\\n",
    "Based on the A level result Sam's minimum GPA is 4.5\\\n",
    "{'Sam': 4.5}\n",
    "\n",
    "Explanation2:\\\n",
    "Alice had only 1 A-level subject so his GPA is also not calculated.\\\n",
    "Sam's GPA is based on his top 2 grades, A=5 and B=4. His GPA calculation is \n",
    "GPA = 5+4/2 = 4.5\n",
    "\n",
    "Finally, print the dictionary.\n",
    "\n",
    "================================================"
   ]
  },
  {
   "cell_type": "code",
   "execution_count": 31,
   "id": "0fd0c281",
   "metadata": {},
   "outputs": [
    {
     "name": "stdout",
     "output_type": "stream",
     "text": [
      "Based on the A level result Alice's GPA is 5.0\n",
      "Based on the A level result Sam's GPA is 4.5\n",
      "Sorry Amy the grades allowed in your top 2 grades are only A/B/C/D\n",
      "Based on the A level result Amy's GPA is 4.5\n",
      "Robin: You must have atleast 2 subjects in A level\n"
     ]
    }
   ],
   "source": [
    "#given_data = [[\"Alice\", [\"A\"]], [\"Sam\", [ \"A\", \"E\", \"B\"]]]\n",
    "given_data = [[\"Alice\", [\"A\",\"C\",\"C\",\"A\"]], [\"Sam\", [ \"A\", \"C\", \"B\"]],  [\"Amy\", [\"A\",\"E\"]],[\"Robin\", [\"A\"] ] ]\n",
    "\n",
    "for name, grades in given_data:\n",
    "    if len(grades) < 2:\n",
    "        print(f\"{name}: You must have atleast 2 subjects in A level\") \n",
    "    else:\n",
    "        grades = sorted(grades)[:2]\n",
    "        if grades[0] == 'E' or grades[1] == 'E':\n",
    "            print(f\"Sorry {name} the grades allowed in your top 2 grades are only A/B/C/D\")\n",
    "        else:\n",
    "            cgpa = 0\n",
    "            count = 0\n",
    "            for gpa in grades:\n",
    "                if gpa == 'A':\n",
    "                    cgpa += 5\n",
    "                    count += 1\n",
    "                elif gpa == 'B':\n",
    "                    cgpa += 4\n",
    "                    count += 1\n",
    "                elif gpa == 'C':\n",
    "                    cgpa += 3\n",
    "                    count += 1\n",
    "                elif gpa == 'D':\n",
    "                    cgpa += 2\n",
    "                    count += 1\n",
    "                else:\n",
    "                    count += 0\n",
    "            \n",
    "\n",
    "        print(f\"Based on the A level result {name}'s GPA is {cgpa/count}\")"
   ]
  },
  {
   "cell_type": "markdown",
   "id": "6d620c43",
   "metadata": {},
   "source": [
    "Question-1:\n",
    "Assume that you have been given a dictionary named cast where the keys are \n",
    "the names of different series and the values are the list of tuples, where \n",
    "each tuple represents a pair of characters and the actors who played the \n",
    "characters. You need to write a code that will take the name of an actor as \n",
    "input and print his/her information according to the output samples.\n",
    "\n",
    "cast = {'Friends': [('Joey', 'Matt'), ('Chandler', 'Matthew')],\n",
    "         'BBT': [('Penny', 'Kaley'), ('Sheldon', 'Jim')],\n",
    "         'Breaking Bad': [('Jesse', 'Aaron'), ('Walter', 'Bryan')]}\n",
    "         \n",
    "================================================\n",
    "\n",
    "Input sample 1:\\\n",
    "Matt\n",
    "\n",
    "Output sample 1:\\\n",
    "Matt played the character Joey in Friends\n",
    "\n",
    "================================================\n",
    "\n",
    "Input sample 2:\\\n",
    "Aaron\n",
    "\n",
    "Output sample 2:\\\n",
    "Aaron played the character Jesse in Breaking Bad\n",
    "\n",
    "================================================"
   ]
  },
  {
   "cell_type": "code",
   "execution_count": 5,
   "id": "c8d6e8a6",
   "metadata": {},
   "outputs": [
    {
     "name": "stdout",
     "output_type": "stream",
     "text": [
      "Enter a name: Aaron\n",
      "Aaron played the character Jesse in Breaking Bad\n"
     ]
    }
   ],
   "source": [
    "def function_name(name):\n",
    "    cast = {'Friends': [('Joey', 'Matt'), ('Chandler', 'Matthew')],\n",
    "         'BBT': [('Penny', 'Kaley'), ('Sheldon', 'Jim')],\n",
    "         'Breaking Bad': [('Jesse', 'Aaron'), ('Walter', 'Bryan')]}\n",
    "    series = ''\n",
    "    character = ''\n",
    "    for a,b in cast.items():\n",
    "        for z in b:\n",
    "            for i in range(len(z)):\n",
    "                if z[i] == name:\n",
    "                    character = z[i-1]\n",
    "                    series = a\n",
    "    print('{} played the character {} in {}'.format(name,character,series))\n",
    "\n",
    "    return \n",
    "function_name(input(\"Enter a name: \"))"
   ]
  },
  {
   "cell_type": "code",
   "execution_count": null,
   "id": "285a0697",
   "metadata": {},
   "outputs": [],
   "source": []
  }
 ],
 "metadata": {
  "kernelspec": {
   "display_name": "Python 3",
   "language": "python",
   "name": "python3"
  },
  "language_info": {
   "codemirror_mode": {
    "name": "ipython",
    "version": 3
   },
   "file_extension": ".py",
   "mimetype": "text/x-python",
   "name": "python",
   "nbconvert_exporter": "python",
   "pygments_lexer": "ipython3",
   "version": "3.8.8"
  }
 },
 "nbformat": 4,
 "nbformat_minor": 5
}
