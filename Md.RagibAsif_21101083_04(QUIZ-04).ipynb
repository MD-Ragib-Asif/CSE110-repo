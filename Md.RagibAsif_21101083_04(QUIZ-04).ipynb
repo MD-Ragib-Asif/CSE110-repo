{
 "cells": [
  {
   "cell_type": "markdown",
   "id": "d4028e69",
   "metadata": {},
   "source": [
    "Write a python function that takes a string as an argument and searches all \n",
    "the characters having multiple occurrences (except the spaces) in that \n",
    "string. Then, prepare and RETURN a dictionary where the keys will be the \n",
    "characters and values will be the positions of those characters in the \n",
    "string.\n",
    "\n",
    "================================================\n",
    "\n",
    "**Function Call1:**\\\n",
    "function_name(\"this is my first semester.\")\n",
    "\n",
    "**Sample Output 1:**\\\n",
    "{‘t’: [0, 15, 22],‘h’:[1], ‘i’: [2, 5, 12], ‘s’:[3, 6, 14, 17, 21], ‘m’: \n",
    "[8,19], ‘y’: [9], ‘f’:[11], ‘r’: [13, 24], ‘e’: [18, 20, 23]}\n",
    "\n",
    "**Explanation1:**\\\n",
    "Here, the character ‘t’ has appeared in indexes 0, 15, and 22. The \n",
    "character ‘h’ has appeared in index 1.  The character ‘i’ has appeared in \n",
    "indexes 2, 5, and 12. And so on.\n",
    "\n",
    "================================================\n",
    "\n",
    "**Function Call2:**\\\n",
    "function_name(\"my student id is 010101.\")\n",
    "\n",
    "**Sample Output 2:**\\\n",
    "{‘m’:[0],’y’:[1],‘s’: [3, 15], ‘t’: [4, 9],’u’:[5],’e’:[7],’n’:[8], ‘d’: \n",
    "[6, 12], ‘i’: [11, 14], ‘0’: [17,19,21],’1’: [18,20,22]}\n",
    "\n",
    "**Explanation2:**\\\n",
    "The character ‘m’ has appeared in index 0. The character ‘s’ has appeared \n",
    "in indexes 3 and 15.  The character ‘1’ has appeared in indexes 18, 20, and \n",
    "22 . And so on."
   ]
  },
  {
   "cell_type": "code",
   "execution_count": 8,
   "id": "0d38ed00",
   "metadata": {},
   "outputs": [
    {
     "name": "stdout",
     "output_type": "stream",
     "text": [
      "this is my first semester\n"
     ]
    },
    {
     "data": {
      "text/plain": [
       "{'t': [0, 15, 22],\n",
       " 'h': [1],\n",
       " 'i': [2, 5, 12],\n",
       " 's': [3, 6, 14, 17, 21],\n",
       " 'm': [8, 19],\n",
       " 'y': [9],\n",
       " 'f': [11],\n",
       " 'r': [13, 24],\n",
       " 'e': [18, 20, 23]}"
      ]
     },
     "execution_count": 8,
     "metadata": {},
     "output_type": "execute_result"
    }
   ],
   "source": [
    "def sentence_loc(string):\n",
    "    x = {}\n",
    "    for i in range (len(string)):\n",
    "        if string[i] != ' ':\n",
    "            if string[i] not in x:\n",
    "                x[string[i]] = [i]\n",
    "            else:\n",
    "                x[string[i]]+= [i]\n",
    "\n",
    "    return x\n",
    "sentence_loc(input())"
   ]
  },
  {
   "cell_type": "code",
   "execution_count": null,
   "id": "b402bb0f",
   "metadata": {},
   "outputs": [],
   "source": []
  }
 ],
 "metadata": {
  "kernelspec": {
   "display_name": "Python 3",
   "language": "python",
   "name": "python3"
  },
  "language_info": {
   "codemirror_mode": {
    "name": "ipython",
    "version": 3
   },
   "file_extension": ".py",
   "mimetype": "text/x-python",
   "name": "python",
   "nbconvert_exporter": "python",
   "pygments_lexer": "ipython3",
   "version": "3.8.8"
  }
 },
 "nbformat": 4,
 "nbformat_minor": 5
}
