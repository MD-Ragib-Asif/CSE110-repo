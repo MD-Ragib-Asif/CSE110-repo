{
 "cells": [
  {
   "cell_type": "markdown",
   "id": "bf97faf2",
   "metadata": {},
   "source": [
    "𝗤𝘂𝗲𝘀𝘁𝗶𝗼𝗻:\n",
    "Write a python program that takes a sentence as an input from the user. \n",
    "Create a dictionary with all the numbers where the keys will be the \n",
    "corresponding string lengths. You should ignore all the signs.\n",
    "\n",
    "================================================\n",
    "Sample Input 1:\n",
    "The two cats approached Bob with fear, but once they saw that Bob was \n",
    "harmless, they bonded with him quickly.\n",
    "\n",
    "Sample Output 1:\n",
    "{3: ['The', 'two', 'Bob', 'but', 'saw', 'Bob', 'was', 'him'], 4: \n",
    "['cats', 'with', 'fear', 'once', 'they', 'that', 'they', 'with'], 10: \n",
    "['approached'], 8: ['harmless'], 6: ['bonded'], 7: ['quickly']}\n",
    "\n",
    "Explanation1:\n",
    "Each word belongs to a key corresponding to its length.\n",
    "\n",
    "================================================\n",
    "Sample Input 2:\n",
    "Hard work is a key to achieving success.\n",
    "\n",
    "Sample Output 2:\n",
    "{4: ['Hard', 'work'], 2: ['is', 'to'], 1: ['a'], 3: ['key'], 9: \n",
    "['achieving'], 7: ['success']}\n",
    "\n",
    "\n",
    "Explanation2:\n",
    "Each word belongs to a key corresponding to its length.\n"
   ]
  },
  {
   "cell_type": "code",
   "execution_count": 4,
   "id": "65c9cc2f",
   "metadata": {},
   "outputs": [
    {
     "name": "stdout",
     "output_type": "stream",
     "text": [
      "Enter a sentence:The two cats approached Bob with fear, but once they saw that Bob was harmless, they bonded with him quickly\n",
      "{3: ['The', 'two', 'Bob', 'but', 'saw', 'Bob', 'was', 'him'], 4: ['cats', 'with', 'fear', 'once', 'they', 'that', 'they', 'with'], 10: ['approached'], 8: ['harmless'], 6: ['bonded'], 7: ['quickly']}\n"
     ]
    }
   ],
   "source": [
    "n=input('Enter a sentence:')\n",
    "list1=n.replace(',', '').split()\n",
    "dic1={}\n",
    "for i in list1:\n",
    "    if len(i) in dic1:\n",
    "        dic1[len(i)].append(i)\n",
    "    else:\n",
    "        dic1[len(i)]=[i]\n",
    "print(dic1)"
   ]
  }
 ],
 "metadata": {
  "kernelspec": {
   "display_name": "Python 3",
   "language": "python",
   "name": "python3"
  },
  "language_info": {
   "codemirror_mode": {
    "name": "ipython",
    "version": 3
   },
   "file_extension": ".py",
   "mimetype": "text/x-python",
   "name": "python",
   "nbconvert_exporter": "python",
   "pygments_lexer": "ipython3",
   "version": "3.8.8"
  }
 },
 "nbformat": 4,
 "nbformat_minor": 5
}
