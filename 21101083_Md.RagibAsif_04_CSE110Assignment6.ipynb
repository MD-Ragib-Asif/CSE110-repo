{
 "cells": [
  {
   "cell_type": "markdown",
   "metadata": {
    "id": "mRHB9cBf5D7V"
   },
   "source": [
    "# CSE110 Lab Assignment 6\n",
    "This assignment is to guide you to solve everything you have learned so far by implementing functions in Python. \n",
    "\n",
    "\n",
    "\n",
    "Write your name, student id and CSE110 section below:"
   ]
  },
  {
   "cell_type": "code",
   "execution_count": 1,
   "metadata": {
    "id": "YzSo433_gwDg"
   },
   "outputs": [],
   "source": [
    "#STUDENT NAME: Md. Ragib Asif\n",
    "#STUDENT ID: 21101083\n",
    "#CSE110 SECTION: 04"
   ]
  },
  {
   "cell_type": "markdown",
   "metadata": {
    "id": "_uzpm0b85D7Z"
   },
   "source": [
    "**<font color='red'>[MUST MAINTAIN VARIABLE NAMING CONVENTIONS FOR ALL THE TASKS]</font>**\n",
    "\n",
    "## Write the Python code of the following problems:\n",
    "\n",
    "### Task 1\n",
    "Write a function called **even_checker** that takes a number as an argument and prints whether the number is even or odd **inside the function**.\n",
    "\n",
    "===================================\n",
    "\n",
    "**Example1:** \\\n",
    "**Function Call:**\\\n",
    "even_checker(5)\\\n",
    "**Output:**\\\n",
    "Odd!!\n",
    "\n",
    "=============================\n",
    "\n",
    "**Example2:** \\\n",
    "**Function Call:**\\\n",
    "even_checker(2)\\\n",
    "**Output:**\\\n",
    "Even!!\n",
    "\n"
   ]
  },
  {
   "cell_type": "code",
   "execution_count": 3,
   "metadata": {
    "id": "tMMBecSe5D7a"
   },
   "outputs": [
    {
     "name": "stdout",
     "output_type": "stream",
     "text": [
      "10\n",
      "Output: Even!!\n"
     ]
    }
   ],
   "source": [
    "# to do\n",
    "def even_checker(n):\n",
    "    \n",
    "    if n%2==0:\n",
    "        print('Output: Even!!')\n",
    "    else:\n",
    "        print('Output: Odd!!')\n",
    "even_checker(int(input('')))"
   ]
  },
  {
   "cell_type": "markdown",
   "metadata": {
    "id": "YFKgn6Yw5D7f"
   },
   "source": [
    "### Task 2\n",
    "Write a python function that takes the limit as an argument of the Fibonacci series and prints till that limit. \n",
    "\n",
    "===================================\n",
    "\n",
    "**Function Call:**\\\n",
    "fibonacci(10)\\\n",
    "**Output:**\\\n",
    "0 1 1 2 3 5 8\\\n",
    "======================\\\n",
    "**Function Call:**\\\n",
    "fibonacci(5)\\\n",
    "**Output:**\\\n",
    "0 1 1 2 3 5 "
   ]
  },
  {
   "cell_type": "code",
   "execution_count": 25,
   "metadata": {},
   "outputs": [
    {
     "name": "stdout",
     "output_type": "stream",
     "text": [
      "Enter the limit:10\n",
      "Sequence: 0 1 1 2 3 5 8 "
     ]
    }
   ],
   "source": [
    "def fibonacci(n):\n",
    "    n1=0\n",
    "    n2=1\n",
    "    count=0\n",
    "    if n<=0:\n",
    "        print('Not possible negative integers')\n",
    "    elif n==1:\n",
    "        print('Sequence:',n1)\n",
    "    else:\n",
    "        print('Sequence:',end=' ')\n",
    "        while count<n:\n",
    "            if n1>=n:\n",
    "                break\n",
    "            print(n1,end=' ')\n",
    "            nth=n1+n2\n",
    "            n1=n2\n",
    "            n2=nth\n",
    "            count+=1\n",
    "fibonacci(int(input('Enter the limit:')))"
   ]
  },
  {
   "cell_type": "markdown",
   "metadata": {
    "id": "rDY_xNcO5D7k"
   },
   "source": [
    "### Task 3\n",
    "Write a function called **foo_moo** that takes a number as an argument and **returns** the following statements according the below mentioned conditions. Then, finally prints the statement in the function call. \n",
    "\n",
    "* \tIf the number is divisible by 2, it should return \"Foo\".\n",
    "*   If the number is divisible by 3, it should return \"Moo\". \n",
    "*   If the number is divisible by both 2 and 3, it should return \"FooMoo\".\n",
    "*   Otherwise, it returns \"Boo\".\n",
    "\n",
    "===================================\n",
    "\n",
    "**Example1:** \\\n",
    "**Function Call:**\\\n",
    "foo_moo(5)\\\n",
    "**Output:**\\\n",
    "Boo\n",
    "\n",
    "=================\n",
    "\n",
    "\n",
    "**Example2:** \\\n",
    "**Function Call:**\\\n",
    "foo_moo(4)\\\n",
    "**Output:**\\\n",
    "Foo\n",
    "\n",
    "=================\n",
    "\n",
    "\n",
    "**Example3:** \\\n",
    "**Function Call:**\\\n",
    "foo_moo(6)\\\n",
    "**Output:**\\\n",
    "FooMoo\n",
    "\n"
   ]
  },
  {
   "cell_type": "code",
   "execution_count": 5,
   "metadata": {},
   "outputs": [
    {
     "name": "stdout",
     "output_type": "stream",
     "text": [
      "Enter a number:12\n",
      "Output: FooMoo\n"
     ]
    }
   ],
   "source": [
    "def foo_moo(n):\n",
    "    if n%2==0 and n%3==0:\n",
    "        output='FooMoo'\n",
    "    elif n%3==0:\n",
    "        output='Moo'\n",
    "    elif n%2==0:\n",
    "        output='Foo'\n",
    "    else:\n",
    "        output='Boo'\n",
    "    return output\n",
    "print('Output:',foo_moo(int(input('Enter a number:'))))"
   ]
  },
  {
   "cell_type": "markdown",
   "metadata": {
    "id": "nemw1U-i5D7s"
   },
   "source": [
    "### Task 4\n",
    "Write a python function that takes a string as an argument. Your task is to calculate the number of uppercase letters and lowercase letters and print them in the function. \n",
    "\n",
    "===================================\n",
    "\n",
    "**Function Call:**\\\n",
    "function_name('The quick Sand Man')\\\n",
    "**Output:**\\\n",
    "No. of Uppercase characters : 3\\\n",
    "No. of Lowercase Characters: 12\\\n",
    "============================\\\n",
    "**Function Call:**\\\n",
    "function_name('HaRRy PotteR')\\\n",
    "**Output:**\\\n",
    "No. of Uppercase characters : 5\\\n",
    "No. of Lowercase Characters: 6\n"
   ]
  },
  {
   "cell_type": "code",
   "execution_count": 37,
   "metadata": {
    "id": "4ZBb4Mcr5D7t"
   },
   "outputs": [
    {
     "name": "stdout",
     "output_type": "stream",
     "text": [
      "Enter a string:HaRRy PotteR\n",
      "Output:\n",
      "No. of Uppercase characters : 5\n",
      "No. of Lowercase characters : 6\n"
     ]
    }
   ],
   "source": [
    "# to do\n",
    "def function_name(n):\n",
    "    upper = 0\n",
    "    lower = 0\n",
    "  \n",
    "    for i in range(len(n)):\n",
    "          \n",
    "        \n",
    "        if (ord(n[i]) >= 97 and ord(n[i]) <= 122):\n",
    "            lower += 1\n",
    "  \n",
    "        \n",
    "        elif (ord(n[i]) >= 65 and ord(n[i]) <= 90):\n",
    "            upper += 1\n",
    "            \n",
    "    print('Output:')\n",
    "    print('No. of Uppercase characters :',upper)\n",
    "    print('No. of Lowercase characters :',lower)\n",
    "function_name(n=input('Enter a string:'))"
   ]
  },
  {
   "cell_type": "markdown",
   "metadata": {
    "id": "e9bojIHe5D7w"
   },
   "source": [
    "### Task 5\n",
    "Write a function called **calculate_tax** that takes 3 arguments: your age, salary, and current job designation.\n",
    "\n",
    "\n",
    "Your first task is to take these arguments as user input and pass these values to the function.\n",
    "\n",
    "Your second task is to implement the function and calculate the tax as the following conditions:\n",
    "*  **NO TAX IF YOU ARE LESS THAN 18 YEARS OLD.**\n",
    "*  **NO TAX IF YOU ARE THE PRESIDENT OF THE COMPANY** \n",
    "*  No tax if you get paid less than 10,000\n",
    "*  5% tax if you get paid between 10K and 20K\n",
    "*  10% tax if you get paid more than 20K\n",
    "\n",
    "\n",
    "Finally return this tax value. Then print the returned value in the function call.\n",
    "\n",
    "===================================\n",
    "\n",
    "**Hints:**\\\n",
    "Here the job designation is a string, so it can be written in both uppercase and lower cases. So, you need to check the value ignoring the case.\n",
    "\n",
    "===================================\n",
    "\n",
    "**Example1:** \\\n",
    "**Input:**\\\n",
    "16\\\n",
    "20000\\\n",
    "Student\\\n",
    "**Function Call:**\\\n",
    "calculate_tax(16, 20000, 'Student')\\\n",
    "**Output:**\\\n",
    "0\n",
    "\n",
    "===================================\n",
    "\n",
    "**Example2:** \\\n",
    "**Input:**\\\n",
    "20\\\n",
    "18000\\\n",
    "assistant manager\\\n",
    "**Function Call:**\\\n",
    "calculate_tax(20, 18000, 'assistant manager')\\\n",
    "**Output:**\\\n",
    "900.0\n",
    "\n",
    "\n",
    "===================================\n",
    "\n",
    "**Example3:** \\\n",
    "**Input:**\\\n",
    "20\\\n",
    "22000\\\n",
    "assistant manager\\\n",
    "**Function Call:**\\\n",
    "calculate_tax(20, 22000, 'Assistant manager')\\\n",
    "**Output:**\\\n",
    "2200.0\n",
    "\n",
    "===================================\n",
    "\n",
    "\n",
    "**Example4:** \\\n",
    "**Input:**\\\n",
    "20\\\n",
    "122000\\\n",
    "president\\\n",
    "**Function Call:**\\\n",
    "calculate_tax(20, 122000, 'president')\\\n",
    "**Output:**\\\n",
    "0\n",
    " \n",
    "\n",
    "\n"
   ]
  },
  {
   "cell_type": "code",
   "execution_count": 4,
   "metadata": {
    "id": "M4oo-FKQ5D7x"
   },
   "outputs": [
    {
     "name": "stdout",
     "output_type": "stream",
     "text": [
      "Enter your age:20\n",
      "Enter your salary:22000\n",
      "Enter your job designation:student\n",
      "Output: 2200.0\n"
     ]
    }
   ],
   "source": [
    "# to do\n",
    "def calculate_tax(age,salary,job):\n",
    "    if age<18:\n",
    "        print('Output: 0')\n",
    "    else:\n",
    "        job_confirm=job.lower()\n",
    "        if job_confirm=='president':\n",
    "            tax=0\n",
    "        else:\n",
    "            if salary<10000:\n",
    "                tax=0\n",
    "            elif salary>=10000 and salary<=20000:\n",
    "                tax=salary*0.05\n",
    "                \n",
    "            else:\n",
    "                tax=salary*0.1\n",
    "            return tax\n",
    "output=calculate_tax(age=int(input('Enter your age:')),salary=int(input('Enter your salary:')),job=input('Enter your job designation:'))\n",
    "print('Output:',output)"
   ]
  },
  {
   "cell_type": "markdown",
   "metadata": {
    "id": "VXLQHyLp5D71"
   },
   "source": [
    "### Task 6\n",
    "Write a function which will take 1 argument, number of days.\n",
    "\n",
    "Your first task is to take the number of days as user input and pass the value to the function.\n",
    " \n",
    "Your second task is to implement the function and calculate the total number of years, number of months, and the remaining number of days as output. No need to return any value, print inside the function. \n",
    "\n",
    "**Note:** Assume, each year to be 365 days and month to be 30 days.\n",
    "\n",
    "=====================================================\n",
    "\n",
    "**Hint(1):** \\\n",
    "Divide and mod the main input to get the desired output.\n",
    "\n",
    "**Hint(2):**\n",
    "This task’s calculation is similar to Assignment-1’s seconds to hours, minutes conversion.\n",
    "\n",
    "=====================================================\n",
    "\n",
    "**Example01**\n",
    "\n",
    "**Input:**\\\n",
    "4330\\\n",
    "**Function Call:**\\\n",
    "function_name(4330)\\\n",
    "**Output:**\\\n",
    "11 years, 10 months and 15 days\n",
    "\n",
    "================================\n",
    "\n",
    "**Example02**\n",
    "\n",
    "**Input:**\\\n",
    "2250\\\n",
    "**Function Call:**\\\n",
    "function_name(2250)\\\n",
    "**Output:**\\\n",
    "6 years, 2 months and 0 days\n",
    "\n",
    "\n"
   ]
  },
  {
   "cell_type": "code",
   "execution_count": 13,
   "metadata": {
    "id": "gkE9d9gs5D72"
   },
   "outputs": [
    {
     "name": "stdout",
     "output_type": "stream",
     "text": [
      "Enter number of days:2250\n",
      "Output: 6 years, 2 months and 0 days\n"
     ]
    }
   ],
   "source": [
    "# todo\n",
    "def function_name(numb):\n",
    "    year=numb//365\n",
    "    numb1=numb%365\n",
    "    month=numb1//30\n",
    "    day=numb1%30\n",
    "    print('Output:',year,'years,',month,'months and',day,'days')\n",
    "function_name(int(input('Enter number of days:')))"
   ]
  },
  {
   "cell_type": "markdown",
   "metadata": {
    "id": "8-vvES0i5D8B"
   },
   "source": [
    "### Task 7\n",
    "Write a function called **show_palindrome** that takes a number as an argument and then returns a palindrome string. Finally, prints the returned value in the function call.\n",
    "\n",
    "=====================================================\n",
    "\n",
    "**Example1:** \\\n",
    "**Function Call:**\\\n",
    "show_palindrome(5)\\\n",
    "**Output:**\\\n",
    "123454321\n",
    "\n",
    "===================\n",
    "\n",
    "**Example2:** \\\n",
    "**Function Call:**\\\n",
    "show_palindrome(3)\\\n",
    "**Output:**\\\n",
    "12321\n"
   ]
  },
  {
   "cell_type": "code",
   "execution_count": 29,
   "metadata": {
    "id": "QN-Iu8sz5D8C"
   },
   "outputs": [
    {
     "name": "stdout",
     "output_type": "stream",
     "text": [
      "Enter a number:10\n",
      "12345678910987654321\n"
     ]
    }
   ],
   "source": [
    "# to do\n",
    "def show_palindrome(n):\n",
    "    string=''\n",
    "    for i in range(1,n+1):\n",
    "        string=string+str(i)\n",
    "    for j in range(n-1,0,-1):\n",
    "        string=string+str(j)\n",
    "    return string\n",
    "print(show_palindrome(int(input('Enter a number:'))))"
   ]
  },
  {
   "cell_type": "markdown",
   "metadata": {
    "id": "V_PVNpx45D8F"
   },
   "source": [
    "### Task 8\n",
    "Write a function called **show_palindromic_triangle** that takes a number as an argument and prints a Palindromic Triangle in the function.\n",
    "\n",
    "**<font color='blue'>[Must reuse the show_palindrome() function of the previous task]</font>**\n",
    "\n",
    "\n",
    "\n",
    "=====================================================\n",
    "\n",
    "**Hints(1):** \\\n",
    "Need to use both print() and print( , end = \" \") functions\n",
    "\n",
    "\n",
    "=====================================================\n",
    "\n",
    "**Example1:** \\\n",
    "**Function Call:**\\\n",
    "show_palindromic_triangle(5)\\\n",
    "**Output:**\n",
    "\n",
    "&emsp; &emsp; &emsp; &emsp; 1\\\n",
    "&emsp; &emsp; &emsp; 1 &nbsp; 2 &nbsp; 1 \\\n",
    "&emsp; &emsp; 1 &nbsp; 2 &nbsp; 3 &nbsp; 2 &nbsp; 1 \\\n",
    "&emsp; 1 &nbsp; 2 &nbsp; 3 &nbsp; 4 &nbsp; 3 &nbsp; 2 &nbsp; 1 \\\n",
    "1 &nbsp; 2 &nbsp; 3 &nbsp; 4 &nbsp; 5 &nbsp; 4 &nbsp; 3 &nbsp; 2 &nbsp; 1\n",
    "\n",
    "=============================================================\n",
    "\n",
    "\n",
    "**Example2:** \\\n",
    "**Function Call:**\\\n",
    "show_palindromic_triangle(3)\\\n",
    "**Output:**\n",
    "\n",
    "&emsp; &emsp; 1 \\\n",
    "&emsp; 1 &nbsp; 2 &nbsp; 1 \\\n",
    "1 &nbsp; 2 &nbsp; 3 &nbsp; 2 &nbsp; 1\n",
    "\n",
    "\n"
   ]
  },
  {
   "cell_type": "code",
   "execution_count": 57,
   "metadata": {
    "id": "fUu0BrHz5D8G"
   },
   "outputs": [
    {
     "name": "stdout",
     "output_type": "stream",
     "text": [
      "Enter a number:5\n",
      "    1\n",
      "   121\n",
      "  12321\n",
      " 1234321\n",
      "123454321\n"
     ]
    }
   ],
   "source": [
    "# to do\n",
    "def show_palindromic_triangle(n):\n",
    "    odd=1\n",
    "    space=n-1\n",
    "    for i in range(1,n+1):\n",
    "        k=0\n",
    "        for j in range(1,space+1):\n",
    "            print(' ',end='')\n",
    "        for j in range(1,odd+1):\n",
    "            if j<=i:\n",
    "                k=k+1\n",
    "            else:\n",
    "                k=k-1\n",
    "            print(k,end='')\n",
    "        print()\n",
    "        odd=odd+2\n",
    "        space=space-1\n",
    "show_palindromic_triangle(int(input('Enter a number:')))"
   ]
  },
  {
   "cell_type": "markdown",
   "metadata": {
    "id": "iLTMEWXg5D8M"
   },
   "source": [
    "### Task 09\n",
    "Write a function called **area_circumference_generator** that takes a radius of a circle as a  function parameter and calculates its circumference and area. Then returns these two results as a **tuple** and prints the results using tuple unpacking in the function call accorrding to the given format. \n",
    "\n",
    "<font color='blue'>**[Must use tuple packing & unpacking]** </font>\n",
    "\n",
    "=====================================================\n",
    "\n",
    "**Example1:** \\\n",
    "**Function Call:**\\\n",
    "area_circumference_generator(1)\\\n",
    "**Output:**\\\n",
    "(3.141592653589793, 6.283185307179586)\\\n",
    "Area of the circle is 3.141592653589793 and circumference is 6.283185307179586\n",
    "\n",
    "====================================\n",
    "\n",
    "**Example2:** \\\n",
    "**Function Call:**\\\n",
    "area_circumference_generator(1.5)\\\n",
    "**Output:**\\\n",
    "(7.0685834705770345, 9.42477796076938)\\\n",
    "Area of the circle is 7.0685834705770345 and circumference is 9.42477796076938\n",
    "\n",
    "====================================\n",
    "\n",
    "\n",
    "**Example3:** \\\n",
    "**Function Call:**\\\n",
    "area_circumference_generator(2.5)\\\n",
    "**Output:**\\\n",
    "(19.634954084936208, 15.707963267948966)\\\n",
    "Area of the circle is 19.634954084936208 and circumference is 15.707963267948966\n"
   ]
  },
  {
   "cell_type": "code",
   "execution_count": 53,
   "metadata": {
    "id": "k8SLTHf35D8N"
   },
   "outputs": [
    {
     "name": "stdout",
     "output_type": "stream",
     "text": [
      "Enter circle radious:2.5\n",
      "Output:\n",
      "(19.634954084936208, 15.707963267948966)\n",
      "Area of the circle is 19.634954084936208 and circumference is 15.707963267948966\n"
     ]
    }
   ],
   "source": [
    "# to do\n",
    "import math\n",
    "def area_circumference_generator(radious):\n",
    "    print('Output:')\n",
    "    circumference=2*radious*math.pi\n",
    "    area=math.pi*(radious**2)\n",
    "    my_tuple=(area,circumference)\n",
    "    \n",
    "    return my_tuple\n",
    "\n",
    "\n",
    "my_tuple=area_circumference_generator(float(input('Enter circle radious:')))\n",
    "print(my_tuple)\n",
    "a,b=my_tuple\n",
    "print('Area of the circle is {} and circumference is {}'.format(a,b))"
   ]
  },
  {
   "cell_type": "markdown",
   "metadata": {
    "id": "NpgEU6ZI5D8S"
   },
   "source": [
    "### Task 10\n",
    "Write a function called **make_square** that takes a tuple in the parameter as a range of numbers (starting point and ending point (included)). The function should **return a dictionary** with the numbers as keys and its squares as values.\n",
    "\n",
    "=====================================================\n",
    "\n",
    "**Hints:** \\\n",
    "You need to declare a dictionary to store the result. You should use the range function to run the “for loop”.\n",
    "\n",
    "\n",
    "=====================================================\n",
    "\n",
    "**Example1:** \\\n",
    "**Function Call:**\\\n",
    "make_square((1,3))\\\n",
    "**Output:**\\\n",
    "{1: 1, 2: 4, 3: 9}\n",
    "\n",
    "====================================\n",
    "\n",
    "**Example2:** \\\n",
    "**Function Call:**\\\n",
    "make_square((5,9))\\\n",
    "**Output:**\\\n",
    "{5: 25, 6: 36, 7: 49, 8: 64, 9: 81}\n",
    "\n",
    "\n",
    "\n"
   ]
  },
  {
   "cell_type": "code",
   "execution_count": 8,
   "metadata": {},
   "outputs": [
    {
     "name": "stdout",
     "output_type": "stream",
     "text": [
      "Enter a tuple:(5,9)\n",
      "{5: 25, 6: 36, 7: 49, 8: 64, 9: 81}\n"
     ]
    }
   ],
   "source": [
    "def make_square(string):\n",
    "    to_rm=['(',')',' ']\n",
    "    new_tup=''\n",
    "    for char in string:\n",
    "        if char in to_rm:\n",
    "            continue\n",
    "        else:\n",
    "            new_tup+= char\n",
    "    my_tuple=tuple(new_tup.split(','))\n",
    "    a,b=my_tuple\n",
    "    my_dic={}\n",
    "    for i in range(int(a),int(b)+1):\n",
    "        my_dic[i]=i**2\n",
    "    return my_dic\n",
    "print(make_square(input('Enter a tuple:')))"
   ]
  },
  {
   "cell_type": "markdown",
   "metadata": {
    "id": "J7xaBB5i5D8c"
   },
   "source": [
    "### Task 11\n",
    "Write a function called **rem_duplicate** that takes a tuple in the parameter and **return a tuple** removing all the duplicate values. Then print the returned tuple in the function call.\n",
    "\n",
    "<font color='red'>**[Cannot use remove() or removed() for this task]** </font>\n",
    "\n",
    "=====================================================\n",
    "\n",
    "**Hints:** \\\n",
    "Unlike lists, tuples are immutable so, the tuple taken as an argument cannot be modified. But list can be modified and lastly for returning the result use type conversion. You need to use membership operators (in, not in) for preventing adding any duplicates values.\n",
    "\n",
    "=====================================================\n",
    "\n",
    "\n",
    "**Example1:** \\\n",
    "**Function Call:**\\\n",
    "rem_duplicate((1,1,1,2,3,4,5,6,6,6,6,4,0,0,0))\\\n",
    "**Output:**\\\n",
    "(1, 2, 3, 4, 5, 6, 0)\n",
    "\n",
    "====================================\n",
    "\n",
    "**Example2:** \\\n",
    "**Function Call:**\\\n",
    "rem_duplicate((\"Hi\", 1, 2, 3, 3, \"Hi\",'a', 'a', [1,2]))\\\n",
    "**Output:**\\\n",
    "('Hi', 1, 2, 3, 'a', [1, 2])\n",
    "\n",
    "\n",
    "\n"
   ]
  },
  {
   "cell_type": "code",
   "execution_count": 18,
   "metadata": {
    "id": "mniLLbJY5D8d"
   },
   "outputs": [
    {
     "name": "stdout",
     "output_type": "stream",
     "text": [
      "('Hi', 1, 2, 3, 'a', [1, 2])\n"
     ]
    }
   ],
   "source": [
    "# to do\n",
    "def rem_duplicate(n):\n",
    "    list1=[]\n",
    "    list2=[]\n",
    "    for i in n:\n",
    "        list1.append(i)\n",
    "    for j in list1:\n",
    "        if j in list2:\n",
    "            pass\n",
    "        else:\n",
    "            list2.append(j)\n",
    "    my_tuple=tuple(list2)\n",
    "    return my_tuple\n",
    "print(rem_duplicate((\"Hi\", 1, 2, 3, 3, \"Hi\",'a', 'a', [1,2])))\n",
    "#print(rem_duplicate((1,1,1,2,3,4,5,6,6,6,6,4,0,0,0)))"
   ]
  },
  {
   "cell_type": "markdown",
   "metadata": {
    "id": "yJxb2yrb5D8h"
   },
   "source": [
    "### Task 12\n",
    "Write a python function that takes a list as an argument. Your task is to create a new list where **each element can be present at max 2 times**. Inside the function, print the number of elements removed from the given list. Finally, return the new list and print the result.\n",
    "\n",
    "=====================================================\n",
    "\n",
    "**Hint:** Use list_name.count(element) to count the total number of times an element is in a list. list_name is your new list for this problem.\n",
    "\n",
    "=====================================================\n",
    "\n",
    "**Function Call:**\\\n",
    "function_name([1, 2, 3, 3, 3, 3, 4, 5, 8, 8])\\\n",
    "**Output:**\\\n",
    "Removed: 2\\\n",
    "[1, 2, 3, 3, 4, 5, 8, 8]\\\n",
    "================================\\\n",
    "**Function Call:**\\\n",
    "function_name([10, 10, 15, 15, 20])\\\n",
    "**Output:**\\\n",
    "Removed: 0\\\n",
    "[10, 10, 15, 15, 20]"
   ]
  },
  {
   "cell_type": "code",
   "execution_count": 22,
   "metadata": {},
   "outputs": [
    {
     "name": "stdout",
     "output_type": "stream",
     "text": [
      "Enter elements using comma:1,2,3,3,3,3,4,5,8,8\n",
      "Removed: 2\n",
      "[1, 2, 3, 3, 4, 5, 8, 8]\n"
     ]
    }
   ],
   "source": [
    "def funtion_name(elements):\n",
    "    output = []\n",
    "    for values in elements:\n",
    "        if output.count(int(values)) < 2 :\n",
    "            output.append(int(values))\n",
    "    return output\n",
    "original = (input('Enter elements using comma:')).split(',')\n",
    "new = funtion_name(original)\n",
    "print('Removed:',len(original) - len(new))\n",
    "print(new)"
   ]
  },
  {
   "cell_type": "markdown",
   "metadata": {
    "id": "vqET24dk5D8u"
   },
   "source": [
    "### Task 13\n",
    "Write a python function that will perform the basic calculation (addition, subtraction, multiplication and division) based on 3 arguments. They are:\n",
    "- Operator ('+', '-', '/', '*')\n",
    "- First Operand (any number)\n",
    "- Second Operand (any number)\n",
    "\n",
    "Your first task is to take these arguments as user input and pass the values to the function parameters.\n",
    "\n",
    "Your second task is to write a function and performs the calculation based on the given operator. Then, finally return the result in the function call and print the result.\n",
    "\n",
    "=====================================================\n",
    "\n",
    "**Input:**\\\n",
    "\"+\"\\\n",
    "10\\\n",
    "20\\\n",
    "**Function Call:**\\\n",
    "function_name(\"+\", 10, 20)\\\n",
    "**Output:**\\\n",
    "30.0\n",
    "\n",
    "================================\n",
    "\n",
    "**Input:**\\\n",
    "\"*\"\\\n",
    "5.5\\\n",
    "2.5\\\n",
    "**Function Call:**\\\n",
    "function_name(\"*\", 5.5, 2.5)\\\n",
    "**Output:**\\\n",
    "13.75\n"
   ]
  },
  {
   "cell_type": "code",
   "execution_count": 24,
   "metadata": {
    "id": "sh7YQRv_5D8v"
   },
   "outputs": [
    {
     "name": "stdout",
     "output_type": "stream",
     "text": [
      "*\n",
      "5.5\n",
      "2.5\n",
      "Output: 13.75\n"
     ]
    }
   ],
   "source": [
    "# to do\n",
    "def function_name(operator,first_number,second_number):\n",
    "    if operator=='+':\n",
    "        output=first_number + second_number\n",
    "    elif operator=='-':\n",
    "        output=first_number - second_number\n",
    "    elif operator=='*':\n",
    "        output=first_number * second_number\n",
    "    elif operator=='/':\n",
    "        output=first_number / second_number\n",
    "    return output\n",
    "print('Output:',function_name(input(),float(input()),float(input())))"
   ]
  },
  {
   "cell_type": "markdown",
   "metadata": {
    "id": "KGitjtfO5D83"
   },
   "source": [
    "### Task 14\n",
    "Write a function which will take 2 arguments. They are:\n",
    "- Sentence \n",
    "- position \n",
    "\n",
    "Your first task is to take these arguments as user input and pass these values to the function parameters.\n",
    "\n",
    "Your second task is to implement the function and remove the characters at the index number which is divisible by the position (Avoid the index number 0 as it will always be divisible by the position, so no need to remove the index 0 character). \n",
    "Finally, add the removed characters at the end of the new string.\n",
    "\n",
    "Return the value and then finally, print the new string at the function call.\n",
    "\n",
    "<font color='red'>**[Cannot use remove() or removed() for this task]** </font>\n",
    "\n",
    "=====================================================\n",
    "\n",
    "**Input:**\\\n",
    "\"I love programming.\"\\\n",
    "3\\\n",
    "**Function call:**\\\n",
    "function_name(\"I love programming.\", 3)\\\n",
    "**Output:**\\\n",
    "I lveprgrmmngo oai.\n",
    "\n",
    "==============================================\n",
    "\n",
    "**Input:**\\\n",
    "\"Python is easy to learn. I love python.\"\\\n",
    "6\\\n",
    "**Function call:**\\\n",
    "function_name(\"Python is easy to learn. I love python.\", 6)\\\n",
    "**Output:**\\\n",
    "Pythonis eay to earn.I lov pythn. sl eo\n"
   ]
  },
  {
   "cell_type": "code",
   "execution_count": 1,
   "metadata": {
    "id": "1Op6YcHY5D84"
   },
   "outputs": [
    {
     "name": "stdout",
     "output_type": "stream",
     "text": [
      "Enter a sentence:Python is easy to learn. I love python\n",
      "Enter position:6\n",
      "Output: Pythonis eay to earn.I lov pythn sl eo\n"
     ]
    }
   ],
   "source": [
    "#todo\n",
    "def function_name(string,numb):\n",
    "    new_str1=''\n",
    "    new_str2=''\n",
    "    for i in range(1,len(string)):\n",
    "        if i%numb==0:\n",
    "            new_str2=new_str2+string[i]\n",
    "        else:\n",
    "            new_str1=new_str1+string[i]\n",
    "    final=string[0]+new_str1+new_str2\n",
    "    return final\n",
    "print('Output:',function_name(input('Enter a sentence:'),int(input('Enter position:'))))"
   ]
  },
  {
   "cell_type": "markdown",
   "metadata": {
    "id": "5Gq0ZAzQ5D8-"
   },
   "source": [
    "### Task 15\n",
    "You have been hired as an app developer for the company. The company plans to make an app for a grocery store where the user can order groceries and see the total amount to be paid in the cart section. \n",
    "\n",
    "To build this feature, you have to write a function that takes 2 arguments. They are:\n",
    "- order_items (must be a list)\n",
    "- location (default value should be set to \"Dhanmondi\")\n",
    "\n",
    "Your first task is to take a list of items from the user. Pass the list into the function parameter along with the optional location (Use default argument technique). (Also, no need to take location as input, pass this any value you want.) \n",
    "\n",
    "Your second task is to implement the function. In the function, create a dictionary for the items shown in the table. Calculate the total price of the items passed as a list to the function. Additionally, add a delivery fee of 30 taka if the location is Dhanmondi. Otherwise, add a delivery fee of 70 taka. Finally, return the value and print it.\n",
    "\n",
    "| Item | Price(Tk) |\n",
    "| --- | --- |\n",
    "| Rice | 105 |\n",
    "| Potato | 20 |\n",
    "| Chicken | 250 |\n",
    "| Beef | 510 |\n",
    "| Oil | 85 |\n",
    "\n",
    "=====================================================\n",
    "\n",
    "**Hint:** The keys are the items and values are the corresponding price. Iterate the items in the list and check if the items in the list are available in the dictionary keys or not. If it is available, add the price.\n",
    "\n",
    "=====================================================\n",
    "\n",
    "**Example1:**\\\n",
    "function_name([\"Rice\", \"Beef\", \"Rice\"], \"Mohakhali\")\n",
    "\n",
    "total = 105 + 510 + 105 = 720 (Take the price of each item and add them.)\\\n",
    "total = 720 + 70 = 790 (Finally, add the delivery fee based on the location.)\n",
    "\n",
    "**Input:**\\\n",
    "[\"Rice\", \"Beef\", \"Rice\"]\\\n",
    "**Function Call:**\\\n",
    "function_name([\"Rice\", \"Beef\", \"Rice\"], \"Mohakhali\")\\\n",
    "**Output:**\\\n",
    "790\n",
    "\n",
    "==============================================\n",
    "\n",
    "**Example2:**\n",
    "\n",
    "function_name([\"Rice\", \"Beef\", \"Rice\"])\n",
    "\n",
    "total = 105 + 510 + 105 = 720 (Take the price of each item and add them.)\\\n",
    "total = 720 + 30 = 750 (Since no location is passed in the parameter, it will use the default location-\"Dhanmondi\". For dhanmondi, delivery fee of 30 taka)\n",
    "\n",
    "**Input:**\\\n",
    "[\"Rice\", \"Beef\", \"Rice\"]\\\n",
    "**Function Call:**\\\n",
    "function_name([\"Rice\", \"Beef\", \"Rice\"])\\\n",
    "**Output:**\\\n",
    "750"
   ]
  },
  {
   "cell_type": "code",
   "execution_count": 4,
   "metadata": {
    "id": "KqbU53QPblRv"
   },
   "outputs": [
    {
     "name": "stdout",
     "output_type": "stream",
     "text": [
      "Enter a list of items:[\"Rice\", \"Beef\", \"Rice\"]\n",
      "Enter a location:DhAnmondi\n",
      "Output: 750\n"
     ]
    }
   ],
   "source": [
    "#todo\n",
    "def function_name(string,location='dhanmondi'):\n",
    "    items = string\n",
    "    to_rm = ['[', ']', '\"', \"'\", ' ']\n",
    "    new_items = ''\n",
    "\n",
    "    for char in items:\n",
    "        if char in to_rm:\n",
    "            continue\n",
    "        else:\n",
    "            new_items+= char\n",
    "            \n",
    "    list1=new_items.split(',')\n",
    "    \n",
    "    dic={'Rice':105,'Potato':20,'Chicken':250,'Beef':510,'Oil':85}\n",
    "    total=0\n",
    "    \n",
    "    for key,value in dic.items():\n",
    "        for i in range(len(list1)):\n",
    "            if list1[i]==key:\n",
    "                total=total+value\n",
    "    if location=='':\n",
    "        location='dhanmondi'\n",
    "        total=total+30\n",
    "    elif location=='dhanmondi':\n",
    "        total=total+30\n",
    "    else:\n",
    "        total=total+70\n",
    "    return total\n",
    "\n",
    "print('Output:',function_name(input('Enter a list of items:'),input('Enter a location:').lower()))"
   ]
  },
  {
   "cell_type": "markdown",
   "metadata": {
    "id": "sWkvpVVmbT5n"
   },
   "source": [
    "## Optional Tasks (16 -21) [Ungraded]"
   ]
  },
  {
   "cell_type": "markdown",
   "metadata": {
    "id": "LIi7SUJLZ4gA"
   },
   "source": [
    "### Task 16\n",
    "Write a function called **splitting_money** that takes an “amount” of money as a argument.\n",
    "\n",
    "Your first task is to take the “amount” of money as user input and pass the value to the function paramater.\n",
    " \n",
    "Your second task is to implement the function and calculate how that money can be split into 500, 100, 50, 20, 10, 5, 2, and 1 taka notes.\n",
    "\n",
    "Then print the returned value in the function call.\n",
    "\n",
    "=====================================================\n",
    "\n",
    "\n",
    "**Hints:** \\\n",
    "This task’s calculation is similar to Assignment-1’s seconds to hours, minutes conversion. To return the result containing multiple strings, you need to store it in a variable and return it at the end of the function.\n",
    "\n",
    "=====================================================\n",
    "\n",
    "\n",
    "**Example1:** \\\n",
    "If the money is 1234, then the function should return \n",
    "\n",
    "\"500 Taka: 2 note(s) \\\n",
    "100 Taka: 2 note(s) \\\n",
    "20 Taka: 1 note(s) \\\n",
    "10 Taka: 1 note(s) \\\n",
    "2 Taka: 2 note(s)\"\n",
    "\n",
    "=====================================================\n",
    "\n",
    "**Example2:** \\\n",
    "If the money is 151, then the function should return\n",
    "\n",
    "\"100 Taka: 1 note(s)\\\n",
    "50 Taka: 1 note(s)\\\n",
    "1 Taka: 1 note(s)\"\n",
    "\n",
    "\n"
   ]
  },
  {
   "cell_type": "code",
   "execution_count": 51,
   "metadata": {
    "id": "XI1uLQ5rb2oH"
   },
   "outputs": [
    {
     "name": "stdout",
     "output_type": "stream",
     "text": [
      "Enter amount:151\n",
      "Output: 100 Taka: 1 note(s)\n",
      "        50 Taka: 1 note(s)\n",
      "        20 Taka: 0 note(s)\n",
      "        10 Taka: 0 note(s)\n",
      "        5 Taka: 0 note(s)\n",
      "        2 Taka: 0 note(s)\n",
      "        1 Taka: 1 note(s)\n"
     ]
    }
   ],
   "source": [
    "#todo\n",
    "def splitting_money(money):\n",
    "    f_hun=money//500\n",
    "    money1=money%500\n",
    "    o_hun=money1//100\n",
    "    money2=money1%100\n",
    "    fifty=money2//50\n",
    "    money3=money2%50\n",
    "    twenty=money3//20\n",
    "    money4=money3%20\n",
    "    ten=money4//10\n",
    "    money5=money4%10\n",
    "    five=money5//5\n",
    "    money6=money5%5\n",
    "    two=money6//2\n",
    "    money7=money6%2\n",
    "    one=money7\n",
    "    if money>500:\n",
    "        output=\"500 Taka: {} note(s)\\n\\\n",
    "        100 Taka: {} note(s)\\n\\\n",
    "        50 Taka: {} note(s)\\n\\\n",
    "        20 Taka: {} note(s)\\n\\\n",
    "        10 Taka: {} note(s)\\n\\\n",
    "        5 Taka: {} note(s)\\n\\\n",
    "        2 Taka: {} note(s)\\n\\\n",
    "        1 Taka: {} note(s)\".format(f_hun,o_hun,fifty,twenty,ten,five,two,one)\n",
    "    elif money<500:\n",
    "        output=\"100 Taka: {} note(s)\\n\\\n",
    "        50 Taka: {} note(s)\\n\\\n",
    "        20 Taka: {} note(s)\\n\\\n",
    "        10 Taka: {} note(s)\\n\\\n",
    "        5 Taka: {} note(s)\\n\\\n",
    "        2 Taka: {} note(s)\\n\\\n",
    "        1 Taka: {} note(s)\".format(o_hun,fifty,twenty,ten,five,two,one)\n",
    "    elif money<100:\n",
    "        output=\"50 Taka: {} note(s)\\n\\\n",
    "        20 Taka: {} note(s)\\n\\\n",
    "        10 Taka: {} note(s)\\n\\\n",
    "        5 Taka: {} note(s)\\n\\\n",
    "        2 Taka: {} note(s)\\n\\\n",
    "        1 Taka: {} note(s)\".format(fifty,twenty,ten,five,two,one)\n",
    "    elif money<50:\n",
    "        output=\"20 Taka: {} note(s)\\n\\\n",
    "        10 Taka: {} note(s)\\n\\\n",
    "        5 Taka: {} note(s)\\n\\\n",
    "        2 Taka: {} note(s)\\n\\\n",
    "        1 Taka: {} note(s)\".format(twenty,ten,five,two,one)\n",
    "    elif money<20:\n",
    "        output=\"10 Taka: {} note(s)\\n\\\n",
    "        5 Taka: {} note(s)\\n\\\n",
    "        2 Taka: {} note(s)\\n\\\n",
    "        1 Taka: {} note(s)\".format(ten,five,two,one)\n",
    "    elif money<10:\n",
    "        output=\"5 Taka: {} note(s)\\n\\\n",
    "        2 Taka: {} note(s)\\n\\\n",
    "        1 Taka: {} note(s)\".format(five,two,one)\n",
    "    elif money<5:\n",
    "        output=\"2 Taka: {} note(s)\\n\\\n",
    "        1 Taka: {} note(s)\".format(two,one)\n",
    "    elif money<2:\n",
    "        output=\"1 Taka: {} note(s)\".format(one)\n",
    "    return output\n",
    "print('Output:',splitting_money(int(input('Enter amount:'))))"
   ]
  },
  {
   "cell_type": "markdown",
   "metadata": {
    "id": "VpnhnPPcab5J"
   },
   "source": [
    "### Task 17\n",
    "Write a function called **remove_odd** that takes a list of numbers that have both even and odd numbers mixed. \\\n",
    "Your function should remove all the odd numbers and **return a compact list** which only contains the even numbers. \n",
    "\n",
    "<font color='red'>**[Cannot use remove() or removed() for this task]** </font>\n",
    "\n",
    "=====================================================\n",
    "\n",
    "**Example1:** \\\n",
    "**Function Call:**\\\n",
    "remove_odd ([21, 33, 44, 66, 11, 1, 88, 45, 10, 9])\\\n",
    "**Output:**\\\n",
    "[44, 66, 88, 10]\n",
    "\n",
    "====================================\n",
    "\n",
    "**Example2:** \\\n",
    "**Function Call:**\\\n",
    "remove_odd ([11,2,3,4,5,2,0,5,3])\\\n",
    "**Output:**\\\n",
    "[2, 4, 2, 0]\n",
    "\n"
   ]
  },
  {
   "cell_type": "code",
   "execution_count": 14,
   "metadata": {
    "id": "y4dR2jV6bAYw"
   },
   "outputs": [
    {
     "name": "stdout",
     "output_type": "stream",
     "text": [
      "Enter numbers using comma:21, 33, 44, 66, 11, 1, 88, 45, 10, 9\n",
      "Output: [44, 66, 88, 10]\n"
     ]
    }
   ],
   "source": [
    "#todo\n",
    "def remove_odd(list1):\n",
    "    list2=[]\n",
    "    for i in list1:\n",
    "        if int(i)%2==0:\n",
    "            list2.append(int(i))\n",
    "    return list2\n",
    "print('Output:',remove_odd(input('Enter numbers using comma:').split(',')))"
   ]
  },
  {
   "cell_type": "markdown",
   "metadata": {
    "id": "8qAKekKWbBnP"
   },
   "source": [
    "### Task 18\n",
    "Write a function which will take 4 arguments. They are:\n",
    "- starting value(inclusive)\n",
    "- ending value(exclusive)\n",
    "- first divisor\n",
    "- second divisor\n",
    "\n",
    "Your first task is to take these arguments as user input and pass these values to the function.\n",
    "\n",
    "Your second task is to implement the function and find all the numbers that are divisible by the <u> **first divisor or second divisor but not both**</u> from the starting value(inclusive) and ending value(exclusive). Add all the numbers that are divisible and finally return this value. Print the returned value in the function call.\n",
    "\n",
    "=====================================================\n",
    "\n",
    "**Input:**\\\n",
    "10\\\n",
    "40\\\n",
    "4\\\n",
    "7\\\n",
    "**Function Call:**\\\n",
    "function_name(10, 40, 4, 7)\\\n",
    "**Output:**\\\n",
    "210\\\n",
    "================================\\\n",
    "**Input:**\\\n",
    "5\\\n",
    "100\\\n",
    "3\\\n",
    "4\\\n",
    "**Function Call:**\\\n",
    "function_name(5, 100, 3, 4)\\\n",
    "**Output:**\\\n",
    "2012\n",
    "\n",
    "\n"
   ]
  },
  {
   "cell_type": "code",
   "execution_count": 5,
   "metadata": {
    "id": "-vQ3gIWm5D8-"
   },
   "outputs": [
    {
     "name": "stdout",
     "output_type": "stream",
     "text": [
      "Enter staring value:10\n",
      "Enter ending value:40\n",
      "Enter first divisor:4\n",
      "Enter second divisor:7\n",
      "Output: 210\n"
     ]
    }
   ],
   "source": [
    "#todo\n",
    "def function_name(first,second,divisor1,divisor2):\n",
    "    add=0\n",
    "    for i in range(first,second):\n",
    "        if i%divisor1==0 and i%divisor2!=0:\n",
    "            add=add+i\n",
    "        elif i%divisor2==0 and i%divisor1!=0:\n",
    "            add=add+i\n",
    "    return add\n",
    "print('Output:',function_name(int(input('Enter staring value:')),int(input('Enter ending value:')),int(input('Enter first divisor:')),int(input('Enter second divisor:'))))"
   ]
  },
  {
   "cell_type": "markdown",
   "metadata": {
    "id": "0poe59Q-aAtP"
   },
   "source": [
    "### Task 19\n",
    "Write a python function which will take a string as an argument. \n",
    "\n",
    "Your first task is to take a string as user input and pass the value to the function.\n",
    "\n",
    "Your second task is to implement a function which will check whether all the alphabets from a to j (convert all the alphabets to lowercase) has appeared at least once in the given string or not. \n",
    "- If all of these alphabets (a to j) appear at least once, then the result will be 5. \n",
    "- If any one of the alphabets (a to j) is not in the given string, then the result will be 6.\n",
    "\n",
    "Return this result and print the statement, \"Chelsea is the best club in England\" that many times.\n",
    "\n",
    "=====================================================\n",
    "\n",
    "**Example01:**\n",
    "\"A black jackal is hunting a full grown deer\" \n",
    "\n",
    "Here all the alphabets from A to J are present at least once. So, the function will return 5 and will print the statement 5 times.\n",
    "\n",
    "**Input:**\\\n",
    "\"A black jackal is hunting a full grown deer\"\\\n",
    "**Function Call:**\\\n",
    "function_name(\"A black jackal is hunting a full grown deer\")\\\n",
    "**Output:**\\\n",
    "Chelsea is the best club in England\\\n",
    "Chelsea is the best club in England\\\n",
    "Chelsea is the best club in England\\\n",
    "Chelsea is the best club in England\\\n",
    "Chelsea is the best club in England\n",
    "\n",
    "==============================================\n",
    "\n",
    "**Example02:**\n",
    "\n",
    "**Input:**\\\n",
    "\"ABBCDEFEFGHI\"\\\n",
    "**Function Call:**\\\n",
    "function_name(\"ABBCDEFEFGHI\")\\\n",
    "**Output:**\\\n",
    "Chelsea is the best club in England\\\n",
    "Chelsea is the best club in England\\\n",
    "Chelsea is the best club in England\\\n",
    "Chelsea is the best club in England\\\n",
    "Chelsea is the best club in England\\\n",
    "Chelsea is the best club in England\n"
   ]
  },
  {
   "cell_type": "code",
   "execution_count": 2,
   "metadata": {},
   "outputs": [
    {
     "name": "stdout",
     "output_type": "stream",
     "text": [
      "Enter a string:A black jackal is hunting a full grown deer\n",
      "Output: Chelsea is the best club in England\n",
      "        Chelsea is the best club in England\n",
      "        Chelsea is the best club in England\n",
      "        Chelsea is the best club in England\n",
      "        Chelsea is the best club in England\n"
     ]
    }
   ],
   "source": [
    "#todo\n",
    "def function_name(string):\n",
    "    string2=string.lower()\n",
    "    list1=['a','b','c','d','e','f','g','h','i','j']\n",
    "    \n",
    "    for i in list1:\n",
    "        if i not in string2:\n",
    "            output='Chelsea is the best club in England\\n\\\n",
    "        Chelsea is the best club in England\\n\\\n",
    "        Chelsea is the best club in England\\n\\\n",
    "        Chelsea is the best club in England\\n\\\n",
    "        Chelsea is the best club in England\\n\\\n",
    "        Chelsea is the best club in England'\n",
    "        else:\n",
    "            output='Chelsea is the best club in England\\n\\\n",
    "        Chelsea is the best club in England\\n\\\n",
    "        Chelsea is the best club in England\\n\\\n",
    "        Chelsea is the best club in England\\n\\\n",
    "        Chelsea is the best club in England'\n",
    "    \n",
    "    \n",
    "    return output\n",
    "print('Output:',function_name(input('Enter a string:')))"
   ]
  },
  {
   "cell_type": "markdown",
   "metadata": {
    "id": "NTujbqM7cz8e"
   },
   "source": [
    "### Task 20\n",
    "Write a function called **individul_bonus_calculation** which will take 4 arguments. They are:\n",
    "\n",
    "- The player name\n",
    "- Yearly earning of that player\n",
    "- The total goal scored this season by that player\n",
    "- Bonus percent per goal.\n",
    "\n",
    "\n",
    "Your task is to implement the above-mentioned function that will calculate the total bonus on the yearly earnings of a player for the total goals he had scored.\n",
    "\n",
    "Additionally, \n",
    " * If the goal scored is above 30, add a (additional) bonus of 10000 taka.\n",
    " * If it is between 20 and 30 inclusive, add an extra 5000 taka.\n",
    "\n",
    "<font color='blue'>[ For this task, no need to take any input from the user. Call the functions and print the values inside the function. ] </font>\n",
    "\n",
    "\n",
    "\n",
    "=====================================================\n",
    "\n",
    "**Example1:**\\\n",
    "individul_bonus_calculation(\"Neymar\", 1200000, 35, 5)\n",
    "\n",
    "bonus = 35 * (5 / 100 * 1200000) + 10000 = 2110000\n",
    "\n",
    "**Function call:**\\\n",
    "individul_bonus_calculation(\"Neymar\", 1200000, 35, 5)\\\n",
    "**Output:**\\\n",
    "Neymar earned a bonus of  2110000 Taka for 35 goals.\n",
    "\n",
    "=====================================================\n",
    "\n",
    "**Example2:**\\\n",
    "individul_bonus_calculation('Jamal', 700000, 19, 8)\n",
    "\n",
    "bonus = 19 * (8 / 100 * 700000) + 0 = 1064000\n",
    "\n",
    "**Function call:**\\\n",
    "individul_bonus_calculation('Jamal', 700000, 19, 8)\\\n",
    "**Output:**\\\n",
    "Jamal earned a bonus of 1064000 Taka for 19 goals.\n",
    "\n",
    "=====================================================\n",
    "\n",
    "**Example3:**\\\n",
    "individul_bonus_calculation('Luis', 80000, 25, 10)\n",
    "\n",
    "bonus = 25 * (10 / 100 * 80000) + 5000 = 205000\n",
    "\n",
    "**Function call:**\\\n",
    "individul_bonus_calculation('Luis', 80000, 25, 10)\\\n",
    "**Output:**\\\n",
    "Luis earned a bonus of 205000 Taka for 25 goals.\n",
    "\n",
    "====================================================="
   ]
  },
  {
   "cell_type": "code",
   "execution_count": 39,
   "metadata": {},
   "outputs": [
    {
     "name": "stdout",
     "output_type": "stream",
     "text": [
      "Output:\n",
      "Luis earned a bonus of 205000.0 Taka for 25 goals\n"
     ]
    }
   ],
   "source": [
    "def individul_bonus_calculation(name,salary,goal,per):\n",
    "    if goal>30:\n",
    "        bonus=goal*((per/100)*salary)+10000\n",
    "    elif goal>=20 and goal<=30:\n",
    "        bonus=goal*((per/100)*salary)+5000\n",
    "    else:\n",
    "        bonus=goal*((per/100)*salary)\n",
    "    print('Output:')\n",
    "    print(name,'earned a bonus of',bonus,'Taka for {} goals'.format(goal))\n",
    "#individul_bonus_calculation(\"Neymar\", 1200000, 35, 5)\n",
    "#individul_bonus_calculation('Jamal', 700000, 19, 8)\n",
    "individul_bonus_calculation('Luis', 80000, 25, 10)"
   ]
  },
  {
   "cell_type": "markdown",
   "metadata": {
    "id": "pRU4EhuSh_r-"
   },
   "source": [
    "### Task 21\n",
    "You have been hired by the Abahani football club to write a function that will calculate the total bonus on the yearly earnings of each player for the total goals they have scored.\n",
    "\n",
    "Since the number of players will vary, you decide to use the \"*args\" technique that you learned in your CSE110 class. \n",
    "\n",
    "For each player: pass the name, yearly earning, the total goal scored this season, bonus percent per goal. \n",
    "\n",
    "Additionally, \n",
    " * If the goal scored is above 30, add an extra bonus of 10000 taka. \n",
    " * If it is between 20 and 30 inclusive, add an extra 5000 taka.\n",
    "\n",
    "<font color='blue'>[ For this task, no need to take any input from the user. Call the functions and print the values inside the function. ] </font>\n",
    "\n",
    "**<font color='blue'>[Must reuse the individul_bonus_calculation() function of the previous task]</font>**\n",
    "\n",
    "\n",
    "=====================================================\n",
    "\n",
    "**Example1:**\\\n",
    "cal_bonus(\"Neymar\", 1200000, 35, 5)\n",
    "\n",
    "bonus = 35 * (5 / 100 * 1200000) + 10000 = 2110000\n",
    "\n",
    "**Function call:**\\\n",
    "cal_bonus(\"Neymar\", 1200000, 35, 5)\\\n",
    "**Output:**\\\n",
    "Neymar earned a bonus of  2110000 Taka for 35 goals.\n",
    "\n",
    "=====================================================\n",
    "\n",
    "**Example2:**\\\n",
    "**Function call:**\\\n",
    "function_name(\"Neymar\", 1200000, 30, 10, \"Jamal\", 700000, 19, 5)\\\n",
    "**Output:**\\\n",
    "Neymar earned a bonus of 3605000 Taka for 30 goals.\\\n",
    "Jamal earned a bonus of 665000 Taka for 19 goals.\n",
    "\n",
    "\n",
    "=====================================================\n",
    "\n",
    "**Example3:**\\\n",
    "**Function call:**\\\n",
    "function_name(\"Neymar\", 1200000, 35, 5, 'Jamal', 700000, 19, 8, 'Luis', 80000, 25, 10))\\\n",
    "**Output:**\\\n",
    "Neymar earned a bonus of 2110000 Taka for 35 goals.\\\n",
    "Jamal earned a bonus of 1064000 Taka for 19 goals.\\\n",
    "Luis earned a bonus of 205000 Taka for 25 goals.\n",
    "\n"
   ]
  },
  {
   "cell_type": "code",
   "execution_count": 44,
   "metadata": {},
   "outputs": [
    {
     "name": "stdout",
     "output_type": "stream",
     "text": [
      "Output:\n",
      "Neymar earned a bonus of 2110000.0 Taka for 35 goals\n",
      "Jamal earned a bonus of 1064000.0 Taka for 19 goals\n",
      "Luis earned a bonus of 205000.0 Taka for 25 goals\n"
     ]
    }
   ],
   "source": [
    "# to do\n",
    "def function_name(*tup1):\n",
    "    list1=[]\n",
    "    name_list=[]\n",
    "    salary_list=[]\n",
    "    goal_list=[]\n",
    "    per_list=[]\n",
    "    bonus_list=[]\n",
    "    for a in tup1:\n",
    "        list1.append(a)\n",
    "    \n",
    "    name_list=list1[0::4]\n",
    "        \n",
    "    salary_list=list1[1::4]\n",
    "        \n",
    "    goal_list=list1[2::4]\n",
    "        \n",
    "    per_list=list1[3::4]\n",
    "            \n",
    "    for char in range(len(name_list)):\n",
    "        \n",
    "        if goal_list[char]>30:\n",
    "            bonus=goal_list[char]*((per_list[char]/100)*salary_list[char])+10000\n",
    "                \n",
    "        elif goal_list[char]>=20 and goal_list[char]<=30:\n",
    "            bonus=goal_list[char]*((per_list[char]/100)*salary_list[char])+5000\n",
    "                \n",
    "        else:\n",
    "            bonus=goal_list[char]*((per_list[char]/100)*salary_list[char])\n",
    "        bonus_list.append(bonus)\n",
    "        \n",
    "    print('Output:')           \n",
    "    for char2 in range(len(name_list)):\n",
    "        print(name_list[char2],'earned a bonus of',bonus_list[char2],'Taka for {} goals'.format(goal_list[char2]))\n",
    "    \n",
    "    \n",
    "#function_name(\"Neymar\", 1200000, 30, 10, \"Jamal\", 700000, 19, 5)\n",
    "function_name(\"Neymar\", 1200000, 35, 5, 'Jamal', 700000, 19, 8, 'Luis', 80000, 25, 10)"
   ]
  },
  {
   "cell_type": "code",
   "execution_count": null,
   "metadata": {},
   "outputs": [],
   "source": []
  }
 ],
 "metadata": {
  "colab": {
   "collapsed_sections": [],
   "name": "CSE110 Lab Assignment 6.ipynb",
   "provenance": []
  },
  "kernelspec": {
   "display_name": "Python 3",
   "language": "python",
   "name": "python3"
  },
  "language_info": {
   "codemirror_mode": {
    "name": "ipython",
    "version": 3
   },
   "file_extension": ".py",
   "mimetype": "text/x-python",
   "name": "python",
   "nbconvert_exporter": "python",
   "pygments_lexer": "ipython3",
   "version": "3.8.8"
  }
 },
 "nbformat": 4,
 "nbformat_minor": 1
}
