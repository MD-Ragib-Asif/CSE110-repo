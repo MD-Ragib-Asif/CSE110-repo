{
 "cells": [
  {
   "cell_type": "markdown",
   "id": "77dc0f79",
   "metadata": {},
   "source": [
    "Write a python program that will take a sentence as an input from the user. \n",
    "Assume the sentence will always contain only the alphabet and numbers. You \n",
    "have to find the words from the sentence whose ASCII values sum up to an \n",
    "EVEN number. Make a list of those words and print the list.\n",
    "================================\n",
    "\n",
    "Sample Input1\n",
    "The first course of CSE is CSE110\n",
    "\n",
    "Sample Output1\n",
    "All words: ['The', 'first', 'course', 'of', 'CSE', 'is', 'CSE110']\n",
    "Words with even ASCII sum: ['first', 'is']\n",
    "\n",
    "Explanation 01:\n",
    "Summation of ‘first’ is (f)102 + (i) 105 + (r) 114 + (s) 115 + (t) 116 = \n",
    "552 which is even. Summation of ‘is’ is (i)105+(s)115 =220 which is even. \n",
    "So, these two words have been added to the answer list.\n",
    "\n",
    "================================\n",
    "Sample Input 2\n",
    "This is CSE110 2nd quiz\n",
    "\n",
    "Sample Output 2\n",
    "All words: ['This', 'is', 'CSE110', '2nd', 'quiz']\n",
    "Words with even ASCII sum: ['This', 'is', '2nd']\n",
    "\n",
    "Explanation 02: Summation of ‘this’ is (T)84+(h)104+(i)105+(s)115 = 408 \n",
    "which is even. Summation of ‘is’ is (i)105+(s)115 =220 which is even. The \n",
    "summation of ‘2nd’ is (2)50+(n)110+(d)100=260 which is even. So, these \n",
    "three words have been added to the answer list."
   ]
  },
  {
   "cell_type": "code",
   "execution_count": 8,
   "id": "0d2bb3d7",
   "metadata": {},
   "outputs": [
    {
     "name": "stdout",
     "output_type": "stream",
     "text": [
      "Enter a sentence:The first course of CSE is CSE110\n",
      "Words with even ASCII sum: ['course']\n",
      "Words with even ASCII sum: ['course', 'of']\n",
      "Words with even ASCII sum: ['course', 'of', 'is']\n",
      "Words with even ASCII sum: ['course', 'of', 'is', 'CSE110']\n",
      "All words: ['The', 'first', 'course', 'of', 'CSE', 'is', 'CSE110']\n"
     ]
    }
   ],
   "source": [
    "n=input('Enter a sentence:')\n",
    "list1=n.split(' ')\n",
    "list2=[]\n",
    "sum=0\n",
    "for i in range(len(list1)):\n",
    "    value=list1[i]\n",
    "    for j in range(len(value)):\n",
    "        asci=ord(value[j])\n",
    "    sum=sum+asci\n",
    "    if sum%2==0:\n",
    "        list2.append(value)\n",
    "    else:\n",
    "        continue\n",
    "    print('Words with even ASCII sum:',list2)\n",
    "print('All words:',list1)"
   ]
  },
  {
   "cell_type": "code",
   "execution_count": null,
   "id": "dc804830",
   "metadata": {},
   "outputs": [],
   "source": [
    "user_input = input(\"Give a sentence: \").split(\" \")\n",
    "eve_word = []\n",
    "\n",
    "for word in user_input:#the\n",
    "    add = 0\n",
    "    if word == \" \":\n",
    "        pass\n",
    "    for char in word:\n",
    "        add = ord(char)+add\n",
    "    if add%2 == 0 :\n",
    "        eve_word.append(word)\n",
    "print(\"All words:\",user_input)\n",
    "print(\"Words with even ASCII sum:\", eve_word)"
   ]
  }
 ],
 "metadata": {
  "kernelspec": {
   "display_name": "Python 3",
   "language": "python",
   "name": "python3"
  },
  "language_info": {
   "codemirror_mode": {
    "name": "ipython",
    "version": 3
   },
   "file_extension": ".py",
   "mimetype": "text/x-python",
   "name": "python",
   "nbconvert_exporter": "python",
   "pygments_lexer": "ipython3",
   "version": "3.8.8"
  }
 },
 "nbformat": 4,
 "nbformat_minor": 5
}
