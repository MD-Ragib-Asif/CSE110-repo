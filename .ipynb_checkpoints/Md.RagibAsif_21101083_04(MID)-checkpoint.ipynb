{
 "cells": [
  {
   "cell_type": "markdown",
   "id": "fec53607",
   "metadata": {},
   "source": [
    "𝗤𝘂𝗲𝘀𝘁𝗶𝗼𝗻 1:\n",
    "Write a python program that takes an INTEGER number as an input from the \n",
    "user. WITHOUT converting it to String, find the reverse of the number, but \n",
    "keep only the EVEN digits (you need to calculate the number).\n",
    "\n",
    "[You cannot use any String operation (including string concat) or built-in \n",
    "methods here. You have to reverse the integer number keeping it integer the \n",
    "whole time.]\n",
    "\n",
    "=======================================================\n",
    "Sample Input 1:\n",
    "4356\n",
    "Sample Output 1:\n",
    "64\n",
    "Explanation 01:\n",
    "The even digits of 4356 are 4, 6. If you reverse the order, the number \n",
    "becomes 64.\n",
    "=======================================================\n",
    "Sample Input 2:\n",
    "12345984\n",
    "Sample Output 2:\n",
    "4842\n",
    "Explanation 02:\n",
    "The even digits of 12345984 are 4, 8, 4, 2. If you reverse the order, the \n",
    "number becomes 4842"
   ]
  },
  {
   "cell_type": "code",
   "execution_count": 1,
   "id": "5e46b359",
   "metadata": {},
   "outputs": [
    {
     "name": "stdout",
     "output_type": "stream",
     "text": [
      "Enter a number:4356\n",
      "64"
     ]
    }
   ],
   "source": [
    "numb=int(input('Enter a number:'))\n",
    "a=[]\n",
    "for i in str(numb):\n",
    "    if int(i)%2==0:\n",
    "        a.append(i)\n",
    "    else:\n",
    "        continue\n",
    "b=[]\n",
    "for j in range(len(a)-1,-1,-1):\n",
    "    b.append(a[j])\n",
    "for k in b:\n",
    "    print(k,end='')"
   ]
  },
  {
   "cell_type": "markdown",
   "id": "89bc43e6",
   "metadata": {},
   "source": [
    "𝗤𝘂𝗲𝘀𝘁𝗶𝗼𝗻 2:\n",
    "Assume you are at war and need to send a message to your team leader. \n",
    "There's a chance that your enemy might read your message, so you should \n",
    "encrypt it.\n",
    "Write a python program that takes a sentence as input from the user and \n",
    "prints the encrypted message ACCORDING TO the GIVEN EXPLANATION. (You can \n",
    "keep ‘space’ as it is)\n",
    "\n",
    "=============================================================\n",
    "Sample Input 1:\n",
    "go attack\n",
    "Sample Output 1:\n",
    "hp cvvcdl\n",
    "Explanation of output 1:\n",
    "Here, we have to count the appearance of a character. In this example,\n",
    "‘g’ has appeared 1 time, so it is converted to ‘h’ because g+1=h.\n",
    "‘o’ has appeared 1 time, so it is converted to ‘p’ because o+1=p.\n",
    "‘a’ has appeared 2 times, so it is converted to ‘c’ because a+2=c.\n",
    "‘t’ has appeared 2 times, so it is converted to ‘v’ because t+2=v  and so \n",
    "on.\n",
    "=============================================================\n",
    "Sample Input 2:\n",
    "soldiers take cover\n",
    "Sample Output 2:\n",
    "uqmejhtu ublh dqwht\n",
    "Explanation of output 2:\n",
    "‘s’ has appeared 2 times, that's why we converted it to ‘u’ because s+2=u.\n",
    "‘o’ has appeared 2 times, that's why we converted it to ‘q’ because o+2=q.\n",
    "‘l’ has appeared 1 time, that's why we converted it to ‘m’ because l+1=m.\n",
    "  ‘d’ has appeared 1 time, that's why we converted it to ‘e’ because d+1=e.\n",
    "‘e’ has appeared 3 times, that's why we converted it to ‘h’ because e+3=h.   \n",
    "And so on."
   ]
  },
  {
   "cell_type": "code",
   "execution_count": 2,
   "id": "9005e55d",
   "metadata": {},
   "outputs": [
    {
     "name": "stdout",
     "output_type": "stream",
     "text": [
      "Input:go attack\n",
      "hp!cvvcdl\n"
     ]
    }
   ],
   "source": [
    "n=input('Input:')\n",
    "n2=n.lower()\n",
    "list1=[]\n",
    "a=''\n",
    "for i in n2:\n",
    "    list1.append(i)\n",
    "for j in list1:\n",
    "    if list1.count(j)==0:\n",
    "        b=chr(ord(j))\n",
    "    elif list1.count(j)==1:\n",
    "        b=chr(ord(j)+1)\n",
    "    elif list1.count(j)==2:\n",
    "        b=chr(ord(j)+2)\n",
    "    elif list1.count(j)==3:\n",
    "        b=chr(ord(j)+3)\n",
    "    a=a+b\n",
    "print(a)"
   ]
  }
 ],
 "metadata": {
  "kernelspec": {
   "display_name": "Python 3",
   "language": "python",
   "name": "python3"
  },
  "language_info": {
   "codemirror_mode": {
    "name": "ipython",
    "version": 3
   },
   "file_extension": ".py",
   "mimetype": "text/x-python",
   "name": "python",
   "nbconvert_exporter": "python",
   "pygments_lexer": "ipython3",
   "version": "3.8.8"
  }
 },
 "nbformat": 4,
 "nbformat_minor": 5
}
