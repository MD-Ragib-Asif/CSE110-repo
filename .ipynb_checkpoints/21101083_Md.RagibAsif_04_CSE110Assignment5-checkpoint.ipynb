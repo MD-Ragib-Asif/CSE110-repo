{
 "cells": [
  {
   "cell_type": "markdown",
   "metadata": {
    "id": "U4PRkuyUtDRw"
   },
   "source": [
    "# CSE110 Lab Assignment 5\n",
    "\n",
    "This Assignment is to help you develop your concept of Tuples and Dictionaries in Python.\n",
    "\n",
    "Write your name, student ID and CSE110 theory section number below:\n"
   ]
  },
  {
   "cell_type": "code",
   "execution_count": 1,
   "metadata": {
    "id": "wl7fu2qrggWI"
   },
   "outputs": [],
   "source": [
    "#STUDENT NAME: Md. Ragib Asif\n",
    "#STUDENT ID: 21101083\n",
    "#CSE110 THEORY SECTION: 04"
   ]
  },
  {
   "cell_type": "markdown",
   "metadata": {
    "id": "PD425BrvtDRy"
   },
   "source": [
    "## Write the code in Python to do the following tasks:\n",
    "\n",
    "**<font color='red'>[MUST MAINTAIN VARIABLE NAMING CONVENTIONS FOR ALL THE TASKS]</font>**\n",
    "\n",
    "## Part 1: Tuple"
   ]
  },
  {
   "cell_type": "markdown",
   "metadata": {
    "id": "FNOorLYXtDRz"
   },
   "source": [
    "### Task 1\n",
    "\n",
    "Assume, you have been given a tuple.\n",
    "\n",
    "a_tuple = (\"The Institute\",\\\n",
    "        (\"Best Mystery & Thriller\", \"The Silent Patient\", 68821),\\\n",
    "        75717,\\\n",
    "        [1, 2, 3, 400, 5, 6, 7],\\\n",
    "        (\"Best Fiction\", \"The Testaments\", 98291)\\\n",
    ")\n",
    "\n",
    "Write **one line** of Python code to access and print the value 400.\n",
    "\n",
    "===================================================================\n",
    "\n",
    "Output: 400\n",
    "\n",
    "===================================================================\n"
   ]
  },
  {
   "cell_type": "code",
   "execution_count": 2,
   "metadata": {
    "id": "NDKB1cIMtDR0"
   },
   "outputs": [
    {
     "name": "stdout",
     "output_type": "stream",
     "text": [
      "Output: 400\n"
     ]
    }
   ],
   "source": [
    "#to do\n",
    "a_tuple = (\"The Institute\",\n",
    "(\"Best Mystery & Thriller\", \"The Silent Patient\", 68821),\n",
    "75717,\n",
    "[1, 2, 3, 400, 5, 6, 7],\n",
    "(\"Best Fiction\", \"The Testaments\", 98291)\n",
    ")\n",
    "print('Output:',a_tuple[3][3])"
   ]
  },
  {
   "cell_type": "markdown",
   "metadata": {
    "id": "BXlIw1svtDR-"
   },
   "source": [
    "### Task 2\n",
    "\n",
    "Assume, you have been given a tuple. Write a Python program that creates a **new tuple** excluding the first and last two elements of the given tuple and prints the new tuple. \n",
    "\n",
    "**Hint:** You may use tuple slicing.\n",
    "\n",
    "===================================================================\n",
    "\n",
    "**Sample Input 1:**\\\n",
    "(10, 20, 24, 25, 26, 35, 70)\n",
    "\n",
    "\n",
    "**Sample Output 1:**\\\n",
    "(24, 25, 26)\n",
    "\n",
    "===================================================================\n",
    "\n",
    "**Sample Input 2:**\\\n",
    "(-10, 20, 30, 40)\n",
    "\n",
    "\n",
    "**Sample Output 2:**\\\n",
    "()\n",
    "\n",
    "===================================================================\n",
    "\n",
    "**Sample Input 3:**\\\n",
    "(-10, 20, 25, 30, 40)\n",
    "\n",
    "\n",
    "**Sample Output 3:**\\\n",
    "(25,)\n",
    "\n",
    "===================================================================\n"
   ]
  },
  {
   "cell_type": "code",
   "execution_count": 53,
   "metadata": {},
   "outputs": [
    {
     "name": "stdout",
     "output_type": "stream",
     "text": [
      "Enter elements using comma:10, 20, 24, 25, 26, 35, 70\n",
      "Output: (24, 25, 26)\n"
     ]
    }
   ],
   "source": [
    "n=input('Enter elements using comma:')\n",
    "my_tuple=tuple(int(x) for x in n.split(','))\n",
    "if len(my_tuple)>=4:\n",
    "    print('Output:',my_tuple[2:-2])\n",
    "else:\n",
    "    print('Output:()')"
   ]
  },
  {
   "cell_type": "markdown",
   "metadata": {
    "id": "Z3GS2TE6tDSG"
   },
   "source": [
    "### Task 3\n",
    "\n",
    "Assume, you have been given a tuple. \n",
    "\n",
    "\n",
    "book_info = (\\\n",
    "    (\"Best Mystery & Thriller\",\"The Silent Patient\",68,821),\\\n",
    "    (\"Best Horror\",\"The Institute\",75,717),\\\n",
    "    (\"Best History & Biography\",\"The five\",31,783 ),\\\n",
    "    (\"Best Fiction\",\"The Testaments\",98,291)\\\n",
    ")\n",
    "\n",
    "Write a Python program that prints the size of the tuple and all its elements as shown below.\n",
    "\n",
    "===================================================================\n",
    "\n",
    "**Output:**\\\n",
    "Size of the tuple is: 4\\\n",
    "('Best Mystery & Thriller', 'The Silent Patient', 68, 821)\\\n",
    "('Best Horror', 'The Institute', 75, 717)\\\n",
    "('Best History & Biography', 'The five', 31, 783)\\\n",
    "('Best Fiction', 'The Testaments', 98, 291)\n",
    "\n",
    "==================================================================="
   ]
  },
  {
   "cell_type": "code",
   "execution_count": 23,
   "metadata": {
    "id": "RPFYcAjntDSG"
   },
   "outputs": [
    {
     "name": "stdout",
     "output_type": "stream",
     "text": [
      "Size of the tuple is: 4\n",
      "('Best Mystery & Thriller', 'The Silent Patient', 68, 821)\n",
      "('Best Horror', 'The Institute', 75, 717)\n",
      "('Best History & Biography', 'The five', 31, 783)\n",
      "('Best Fiction', 'The Testaments', 98, 291)\n"
     ]
    }
   ],
   "source": [
    "#to do\n",
    "book_info = (\n",
    "(\"Best Mystery & Thriller\",\"The Silent Patient\",68,821),\n",
    "(\"Best Horror\",\"The Institute\",75,717),\n",
    "(\"Best History & Biography\",\"The five\",31,783 ),\n",
    "(\"Best Fiction\",\"The Testaments\",98,291)\n",
    ")\n",
    "a,b,c,d=book_info\n",
    "print('Size of the tuple is:',len(book_info))\n",
    "print(a)\n",
    "print(b)\n",
    "print(c)\n",
    "print(d)"
   ]
  },
  {
   "cell_type": "markdown",
   "metadata": {
    "id": "glKgAPlGtDSK"
   },
   "source": [
    "### Task 4\n",
    "\n",
    "Assume, you have been given a tuple with details about books that won the Good Reads Choice Awards. \n",
    "\n",
    "book_info = (\\\n",
    "    (\"Best Mystery & Thriller\",\"The Silent Patient\",68821),\\\n",
    "    (\"Best Horror\",\"The Institute\",75717),\\\n",
    "    (\"Best History & Biography\",\"The five\",31783 ),\\\n",
    "    (\"Best Fiction\",\"The Testaments\",98291)\\\n",
    ")\n",
    "\n",
    "Write a Python program that prints the award category, the book name, and its total votes earned as shown below. \n",
    "\n",
    "**<font color='red'>[Must use Tuple unpacking for printing and need to handle the quotation marks as a part of the output]</font>**\n",
    "\n",
    "===================================================================\n",
    "\n",
    "**Output:**\\\n",
    "The Silent Patient won the 'Best Mystery & Thriller' category with 68821 votes\\\n",
    "The Institute won the 'Best Horror' category with 75717 votes\\\n",
    "The five won the 'Best History & Biography' category with 31783 votes\\\n",
    "The Testaments won the 'Best Fiction' category with 98291 votes\n",
    "\n",
    "==================================================================="
   ]
  },
  {
   "cell_type": "code",
   "execution_count": 1,
   "metadata": {
    "id": "LgTKpSGatDSM"
   },
   "outputs": [
    {
     "name": "stdout",
     "output_type": "stream",
     "text": [
      "The Silent Patient won the 'Best Mystery & Thriller' catagory with 68821 votes\n",
      "The Institute won the 'Best Horror' catagory with 75717 votes\n",
      "The five won the 'Best History & Biography' catagory with 31783 votes\n",
      "The Testaments won the 'Best Fiction' catagory with 98291 votes\n",
      "The Testaments won the 'Best Fiction' catagory with 98291 votes\n"
     ]
    }
   ],
   "source": [
    "#to do\n",
    "book_info = (\n",
    "(\"Best Mystery & Thriller\",\"The Silent Patient\",68821),\n",
    "(\"Best Horror\",\"The Institute\",75717),\n",
    "(\"Best History & Biography\",\"The five\",31783 ),\n",
    "(\"Best Fiction\",\"The Testaments\",98291)\n",
    ")\n",
    "a,b,c,d=book_info\n",
    "print(a[1],\"won the '{}'\".format(a[0]),'catagory with',a[2],'votes')\n",
    "print(b[1],\"won the '{}'\".format(b[0]),'catagory with',b[2],'votes')\n",
    "print(c[1],\"won the '{}'\".format(c[0]),'catagory with',c[2],'votes')\n",
    "print(d[1],\"won the '{}'\".format(d[0]),'catagory with',d[2],'votes')\n",
    "print(\"{} won the '{}' catagory with {} votes\".format(d[1],d[0],d[2]))"
   ]
  },
  {
   "cell_type": "markdown",
   "metadata": {
    "id": "bRe9K_j55zpb"
   },
   "source": [
    "### Task 5\n",
    "Write a python program that takes an input from the user and finds the number of times that the input is present in a given tuple.\n",
    "\n",
    "===================================================================\n",
    "\n",
    "<b>Example 1: </b><br/>\n",
    "\n",
    "Given tuple: (10, 8, 5, 2, 10, 15, 10, 8, 5, 8, 8, 2) <br/>\n",
    "\n",
    "<b>Sample Input 1:</b> \n",
    "\n",
    "8<br/>\n",
    "\n",
    "<b>Sample Output 1: </b> <br/>\n",
    "\n",
    "8 appears 4 times in the tuple<br/>\n",
    "\n",
    "===================================================================\n",
    "\n",
    "<b> Example 2 </b><br/>\n",
    "\n",
    "Given tuple: (10, 8, 5, 2, 10, 15, 10, 8, 5, 8, 8, 2)<br/>\n",
    "\n",
    "<b>Sample Input 2:</b>\n",
    "\n",
    "1<br/>\n",
    "\n",
    "<b>Sample Output 2:</b><br/>\n",
    "\n",
    "1 appears 0 times in the tuple\n",
    "\n",
    "==================================================================="
   ]
  },
  {
   "cell_type": "code",
   "execution_count": 35,
   "metadata": {
    "id": "mC-B1fpStDST"
   },
   "outputs": [
    {
     "name": "stdout",
     "output_type": "stream",
     "text": [
      "Enter a number:1\n",
      "1 appeats 0 times in the tuple\n"
     ]
    }
   ],
   "source": [
    "#to do\n",
    "given_tuple=(10, 8, 5, 2, 10, 15, 10, 8, 5, 8, 8, 2)\n",
    "numb=int(input('Enter a number:'))\n",
    "count=0\n",
    "for i in given_tuple:\n",
    "    if i==numb:\n",
    "        count=count+1\n",
    "print(numb,'appeats {} times in the tuple'.format(count))"
   ]
  },
  {
   "cell_type": "markdown",
   "metadata": {
    "id": "QWNi_JWr6AfC"
   },
   "source": [
    "### Task 6\n",
    "Write a Python program to reverse a given tuple. \n",
    "\n",
    " \n",
    "  <font color='red'>[You are not allowed to use tuple slicing]</font>\n",
    "  \n",
    "===================================================================\n",
    "\n",
    "<b>Note: </b>  Unlike lists, tuples are immutable. So, in order to reverse a tuple, we may need to convert it into a list first, then modify the list, and finally convert it back to a tuple. \n",
    "\n",
    "===================================================================\n",
    "\n",
    "<b>Example 1: </b><br/>\n",
    "\n",
    "Given tuple: ('a', 'b', 'c', 'd', 'e', 'f', 'g', 'h') <br/>\n",
    "\n",
    "<b> Output: </b> <br/>\n",
    "\n",
    "('h', 'g', 'f', 'e', 'd', 'c', 'b', 'a')<br/>\n",
    "\n",
    "\n",
    "===================================================================\n",
    "\n",
    "<b> Example 2: </b><br/>\n",
    "\n",
    "Given tuple: (10, 20, 30, 40, 50, 60)<br/>\n",
    "\n",
    "<b> Output: </b><br/>\n",
    "\n",
    "(60, 50, 40, 30, 20, 10)\n",
    "\n",
    "===================================================================\n"
   ]
  },
  {
   "cell_type": "code",
   "execution_count": 67,
   "metadata": {
    "id": "CJrUcYAN6Bkx"
   },
   "outputs": [
    {
     "name": "stdout",
     "output_type": "stream",
     "text": [
      "(60, 50, 40, 30, 20, 10)\n"
     ]
    }
   ],
   "source": [
    "#to do\n",
    "given_tuple=(10, 20, 30, 40, 50, 60)\n",
    "list1=[]\n",
    "for i in given_tuple:\n",
    "    list1.append(i)\n",
    "list1.reverse()\n",
    "lst_tuple=tuple(x for x in list1)\n",
    "\n",
    "print(lst_tuple)"
   ]
  },
  {
   "cell_type": "markdown",
   "metadata": {
    "id": "km0QurTJtDSX"
   },
   "source": [
    "## Part 2: Dictionary"
   ]
  },
  {
   "cell_type": "markdown",
   "metadata": {
    "id": "kvV-HnCntDSc"
   },
   "source": [
    "### Task 7\n",
    "Suppose you are given two dictionaries.\\\n",
    "Now create a new dictionary \"marks\", merging the two dictionaries, **so that the original two dictionaries remain unchanged.**\n",
    "\n",
    "\n",
    "**Note:** You can use dictionary functions.\n",
    "\n",
    "===================================================================\n",
    "\n",
    "**Given:**\n",
    "\n",
    "{'Harry':15, 'Draco':8, 'Nevil':19}\n",
    "\n",
    "{'Ginie':18, 'Luna': 14}\n",
    "\n",
    "**Output:**\n",
    "\n",
    "{'Harry': 15, 'Draco': 8, 'Nevil': 19, 'Ginie': 18, 'Luna': 14}\n",
    "\n",
    "===================================================================\n",
    "\n",
    "**Given:**\n",
    "\n",
    "{'A':90, 'B': 0}\n",
    "\n",
    "{'C':50}\n",
    "\n",
    "**Output:**\n",
    "\n",
    "{'A': 90, 'B': 0, 'C': 50}\n",
    "\n",
    "===================================================================\n"
   ]
  },
  {
   "cell_type": "code",
   "execution_count": 12,
   "metadata": {
    "id": "BGSyClBPtDSd"
   },
   "outputs": [
    {
     "name": "stdout",
     "output_type": "stream",
     "text": [
      "{'Harry': 15, 'Draco': 8, 'Nevil': 19, 'Ginie': 18, 'Luna': 14}\n"
     ]
    }
   ],
   "source": [
    "#to do\n",
    "dic_1={'Harry':15, 'Draco':8, 'Nevil':19}\n",
    "dic_2={'Ginie':18, 'Luna': 14}\n",
    "for key,value in dic_2.items():\n",
    "    dic_1[key]=value\n",
    "print(dic_1)"
   ]
  },
  {
   "cell_type": "markdown",
   "metadata": {
    "id": "QRzP4HYStDSi"
   },
   "source": [
    "### Task 8\n",
    "Write a Python program that takes a dictionary as an input from the user and then prints the average of all the values in the dictionary.\n",
    "\n",
    " <font color='red'>[You are not allowed to use len() and sum()]</font>\n",
    "\n",
    "===================================================================\n",
    "\n",
    "**Hint (1): For taking dictionary input** \n",
    "\n",
    "Approach(1): For taking dictionary as an input from the user, you may take the whole dictionary as a string using the input() function. Then you can use the split(), strip() functions and conditions to get the keys and values from the string. Finally, you can make the dictionary using the obtained data.\n",
    "\n",
    "Approach(2): If the first approach seems too difficult you can create an empty dictionary and then just run a simple loop. For each iteration ask the user for a key and a value using the input() function and keep updating the dictionary with the key and value.\n",
    "\n",
    "\n",
    "**Hint (2):** After you have a dictionary, you can use dictionary functions to get all the values from it, run loop to calculate the sum and the total number of values in the dictionary in order to find out the average.\n",
    "\n",
    "===================================================================\n",
    "\n",
    "**Sample Input 1:**\n",
    "\n",
    "{'Jon': 100, 'Dan':200, 'Rob':300}\n",
    "\n",
    "**Sample Output 1:**\n",
    "\n",
    "Average is 200.\n",
    "\n",
    "===================================================================\n",
    "\n",
    "\n",
    "**Sample Input 2:**\n",
    "\n",
    "{'Jon': 100, 'Dan':200, 'Rob':30, 'Ned':110}\n",
    "\n",
    "**Sample Output 2:**\n",
    "\n",
    "Average is 110.\n",
    "\n",
    "===================================================================\n"
   ]
  },
  {
   "cell_type": "code",
   "execution_count": 3,
   "metadata": {
    "id": "VMRLnA53tDSk"
   },
   "outputs": [
    {
     "name": "stdout",
     "output_type": "stream",
     "text": [
      "Enter dictionary size:4\n",
      "Enter key:Jon\n",
      "Enter values:100\n",
      "Enter key:Dan\n",
      "Enter values:200\n",
      "Enter key:Rob\n",
      "Enter values:30\n",
      "Enter key:Nerd\n",
      "Enter values:110\n",
      "Average is 110\n"
     ]
    }
   ],
   "source": [
    "#to do\n",
    "numb=int(input('Enter dictionary size:'))\n",
    "my_dic={}\n",
    "\n",
    "for i in range(numb):\n",
    "    keys=input('Enter key:')\n",
    "    values=int(input('Enter values:'))\n",
    "    my_dic[keys]=values\n",
    "sum=0\n",
    "count=0\n",
    "for value in my_dic.values():\n",
    "    sum+=value\n",
    "    count+=1\n",
    "average=sum/count\n",
    "print('Average is',int(average))"
   ]
  },
  {
   "cell_type": "markdown",
   "metadata": {
    "id": "le7fZ8XC9j_x"
   },
   "source": [
    "### Task 9\n",
    "Suppose there is a dictionary named exam_marks as given below.\n",
    "\n",
    "exam_marks = {'Cierra Vega': 175, 'Alden Cantrell': 200, 'Kierra Gentry': 165, 'Pierre Cox': 190}\n",
    "\n",
    "Write a Python program that takes an input from the user and creates a new dictionary with only those elements from 'exam_marks' whose keys have values higher than the user input (inclusive).\n",
    "\n",
    "===================================================================\n",
    "\n",
    "**Sample Input 1:**\n",
    "\n",
    "170\n",
    "\n",
    "**Sample Output 1:**\n",
    "\n",
    "{'Cierra Vega': 175, 'Alden Cantrell': 200, 'Pierre Cox': 190}\n",
    "\n",
    "===================================================================\n",
    "\n",
    "**Sample Input 2:**\n",
    "\n",
    "190\n",
    "\n",
    "**Sample Output 2:**\n",
    "\n",
    "{'Alden Cantrell': 200, 'Pierre Cox': 190}\n",
    "\n",
    "==================================================================="
   ]
  },
  {
   "cell_type": "code",
   "execution_count": 49,
   "metadata": {
    "id": "qJWoUsLN9lBY"
   },
   "outputs": [
    {
     "name": "stdout",
     "output_type": "stream",
     "text": [
      "Enter a number:190\n",
      "{'Alden Cantrell': 200, 'Pierre Cox': 190}\n"
     ]
    }
   ],
   "source": [
    "#to do\n",
    "exam_marks = {'Cierra Vega': 175, 'Alden Cantrell': 200, 'Kierra Gentry': 165, 'Pierre Cox': 190}\n",
    "numb=int(input('Enter a number:'))\n",
    "res={}\n",
    "for key,value in exam_marks.items():\n",
    "    if value>=numb:\n",
    "        res[key]=value\n",
    "print(res)"
   ]
  },
  {
   "cell_type": "markdown",
   "metadata": {
    "id": "IsqFQpqKtDSs"
   },
   "source": [
    "### Task 10\n",
    "Write a Python program that finds the largest value with its key from a given dictionary.  <font color='red'>[without using max() function]</font> \n",
    "\n",
    "**Note:** You do not need to take the dictionaries as an input from the user but your code should work for any given dictionary. Also, you need to handle the quotation marks as a part of the output.\n",
    "\n",
    "**Hint:** Think of membership operators (in and not in). You can use dictionary functions to get the values.\n",
    "\n",
    "===================================================================\n",
    "\n",
    "Sample 1:\n",
    "\n",
    "**Given:**\n",
    "\n",
    "{'sci fi': 12, 'mystery': 15, 'horror': 8, 'mythology': 10, 'young_adult': 4, 'adventure':14}\n",
    "\n",
    "**Output:**\n",
    "\n",
    "The highest selling book genre is 'mystery' and the number of books sold are 15.\n",
    "\n",
    "===================================================================\n",
    "\n",
    "Sample 2:\n",
    "\n",
    "**Given:**\n",
    "\n",
    "{'sci fi': 5, 'mystery': 3, 'horror': 14,\n",
    "             'young_adult': 2, 'adventure':9}\n",
    "\n",
    "**Output:**\n",
    "\n",
    "The highest selling book genre is  'horror'  and the number of books sold are 14.\n",
    "\n",
    "===================================================================\n"
   ]
  },
  {
   "cell_type": "code",
   "execution_count": 27,
   "metadata": {
    "id": "v9Kosgs4tDSt"
   },
   "outputs": [
    {
     "name": "stdout",
     "output_type": "stream",
     "text": [
      "The highest selling book genre is 'mystery' and the number of book sold are 15\n"
     ]
    }
   ],
   "source": [
    "#to do\n",
    "given_dic={'sci fi': 12, 'mystery': 15, 'horror': 8, 'mythology': 10, 'young_adult': 4, 'adventure':14}\n",
    "list1=list(given_dic.values())\n",
    "max=-99999999\n",
    "for i in list1:\n",
    "    if i>max:\n",
    "        max=i\n",
    "for key,value in given_dic.items():\n",
    "    if max==value:\n",
    "        print(\"The highest selling book genre is '{}'\".format(key),\"and the number of book sold are\",value)"
   ]
  },
  {
   "cell_type": "markdown",
   "metadata": {
    "id": "hAqjgwGNtDS2"
   },
   "source": [
    "### Task 11\n",
    "Write a Python program that takes a String as an input from the user and counts the frequency of each character using a dictionary. For solving this problem, you may use each character as a key and its frequency as values. <font color='red'>[You are not allowed to use the count() function]</font> \n",
    "\n",
    "**Hint:** You can create a new dictionary to store the frequencies. You may ignore case for simplicity (i.e. may consider P and p to be the same).\n",
    "\n",
    "\n",
    "===================================================================\n",
    "\n",
    "**Sample Input:**\\\n",
    "\"Python programming is fun\"\n",
    "\n",
    "**Sample Output:**\\\n",
    "{'p': 2, 'y': 1, 't': 1, 'h': 1, 'o': 2, 'n': 3, 'r': 2, 'g': 2, 'a': 1, 'm': 2, 'i': 2, 's': 1, 'f': 1, 'u': 1}\n",
    "\n",
    "===================================================================\n",
    "\n"
   ]
  },
  {
   "cell_type": "code",
   "execution_count": 4,
   "metadata": {},
   "outputs": [
    {
     "name": "stdout",
     "output_type": "stream",
     "text": [
      "Enter a string:python programming is fun\n",
      "{'p': 2, 'y': 1, 't': 1, 'h': 1, 'o': 2, 'n': 3, 'r': 2, 'g': 2, 'a': 1, 'm': 2, 'i': 2, 's': 1, 'f': 1, 'u': 1}\n"
     ]
    }
   ],
   "source": [
    "n1=input('Enter a string:')\n",
    "n=n1.split(' ')\n",
    "n2=''\n",
    "dic={}\n",
    "for char in n:\n",
    "    \n",
    "    if char in n2:\n",
    "        continue\n",
    "    else:\n",
    "        n2=n2+char\n",
    "for j in n2:\n",
    "    numb=n1.count(j)\n",
    "    dic[j]=numb\n",
    "print(dic)"
   ]
  },
  {
   "cell_type": "markdown",
   "metadata": {
    "id": "QWf1zsBctDS6"
   },
   "source": [
    "### Task 12\n",
    "Suppose you are given the following dictionary where the values are lists. \n",
    "\n",
    "dict = {'A': [1, 2, 3], 'b': ['1', '2'], \"c\": [4, 5, 6, 7]}\n",
    "\n",
    "Write a Python program that counts the total number of items in a dictionary’s values and prints it. <font color='red'>[without using sum(), len(), count() functions]</font> \n",
    "\n",
    "**Note:**  Make changes to the above dictionary and see if your code works properly for other dictionaries as well.\n",
    "\n",
    "===================================================================\n",
    "\n",
    "**Output:**\n",
    "\n",
    "9\n",
    "\n",
    "===================================================================\n",
    "\n"
   ]
  },
  {
   "cell_type": "code",
   "execution_count": 51,
   "metadata": {
    "id": "atnD3A1utDS6"
   },
   "outputs": [
    {
     "name": "stdout",
     "output_type": "stream",
     "text": [
      "Output: 9\n"
     ]
    }
   ],
   "source": [
    "#todo\n",
    "dic = {'A': [1, 2, 3], 'b': ['1', '2'], \"c\": [4, 5, 6, 7]}\n",
    "count=0\n",
    "for value in dic.values():\n",
    "    for i in value:\n",
    "        count+=1\n",
    "print('Output:',count)"
   ]
  },
  {
   "cell_type": "markdown",
   "metadata": {
    "id": "-imuPb3EtDTD"
   },
   "source": [
    "### Task 13\n",
    "\n",
    "Suppose you have been given the following list of tuples. \n",
    "\n",
    "list = [(\"a\", 1), (\"b\", 2), (\"a\", 3), (\"b\", 1), (\"a\", 2), (\"c\", 1)]\n",
    "\n",
    "Write a Python program that converts this list of tuples into a dictionary and then prints the dictionary. <font color='red'>[You are not allowed to use set]</font> \n",
    "\n",
    "\n",
    "**Hint:** Think of membership operators (in and not in).\n",
    "\n",
    "===================================================================\n",
    "\n",
    "**Output:**\n",
    "\n",
    "{'a': [1, 3, 2], 'b': [2, 1], 'c': [1]}\n",
    "\n",
    " ===================================================================\n"
   ]
  },
  {
   "cell_type": "code",
   "execution_count": 41,
   "metadata": {
    "id": "bBBcHpgYtDTE"
   },
   "outputs": [
    {
     "name": "stdout",
     "output_type": "stream",
     "text": [
      "{'a': [1, 3, 2], 'b': [2, 1], 'c': [1]}\n"
     ]
    }
   ],
   "source": [
    "#todo\n",
    "list_a = [(\"a\", 1), (\"b\", 2), (\"a\", 3), (\"b\", 1), (\"a\", 2), (\"c\", 1)]\n",
    "\n",
    "new_dict = {}\n",
    "\n",
    "for item in list_a:\n",
    "    \n",
    "    if item[0] in new_dict:\n",
    "        new_dict[item[0]].append(item[1])\n",
    "        \n",
    "    else:\n",
    "        new_dict[item[0]] = [item[1]]\n",
    "        \n",
    "print(new_dict)"
   ]
  },
  {
   "cell_type": "markdown",
   "metadata": {
    "id": "UrxbFOWk5ASO"
   },
   "source": [
    "## Optional Tasks (14-18) [Ungraded]"
   ]
  },
  {
   "cell_type": "markdown",
   "metadata": {
    "id": "vtQRbX994-Se"
   },
   "source": [
    "### Task 14\n",
    "\n",
    "Given a list of tuples, your task is to multiply the elements of the tuple and return a list of multiplied elements as shown below.\n",
    "\n",
    "===================================================================\n",
    "\n",
    "**Example 1:**\n",
    "\n",
    "Given: \n",
    "\n",
    "[(2, 3), (4, 5), (6, 7), (2, 8)]\n",
    "\n",
    "**Output:**\n",
    "\n",
    "[6, 20, 42, 16]\n",
    "\n",
    "===================================================================\n",
    "\n",
    "**Example 2:**\n",
    "\n",
    "Given:\n",
    "\n",
    " [(11, 22), (33, 55), (55, 77), (11, 44)]\n",
    "\n",
    "**Output:**\n",
    "\n",
    "[242, 1815, 4235, 484]\n",
    "\n",
    "==================================================================="
   ]
  },
  {
   "cell_type": "code",
   "execution_count": 7,
   "metadata": {
    "id": "xy-E_k6y5maj"
   },
   "outputs": [
    {
     "name": "stdout",
     "output_type": "stream",
     "text": [
      "[242, 1815, 4235, 484]\n"
     ]
    }
   ],
   "source": [
    "#to do\n",
    "given_list=[(11, 22), (33, 55), (55, 77), (11, 44)]\n",
    "list1=[]\n",
    "for i in given_list:\n",
    "    product=1\n",
    "    for j in i:\n",
    "        product=product*j\n",
    "    list1.append(product)\n",
    "    product=1\n",
    "print(list1)"
   ]
  },
  {
   "cell_type": "markdown",
   "metadata": {
    "id": "jZQHbegc-QBA"
   },
   "source": [
    "### Task 15\n",
    "\n",
    "Assume, you have been given a tuple as below.\n",
    "\n",
    "a_tuple = ( [1, 2, 3], [4, 5, 6], [7, 8, 9], [10, 11, 12])\n",
    "\n",
    "Write a Python program that asks the user for an input (can be any data type) and **replaces the last element of each of the inner lists with the user given value.**\n",
    "\n",
    "===================================================================\n",
    "\n",
    "**Sample Input 1:**\n",
    "\n",
    "abc\n",
    "\n",
    "**Sample Output 1:** \n",
    "\n",
    "([1, 2, 'abc'], [4, 5, 'abc'], [7, 8, 'abc'], [10, 11, 'abc'])\n",
    "\n",
    "===================================================================\n",
    "\n",
    "**Sample Input 1:**\n",
    "\n",
    "1000\n",
    "\n",
    "**Sample Output 1:** \n",
    "\n",
    "([1, 2, '1000'], [4, 5, '1000'], [7, 8, '1000'], [10, 11, '1000'])\n",
    "\n",
    "==================================================================="
   ]
  },
  {
   "cell_type": "code",
   "execution_count": 10,
   "metadata": {
    "id": "SjdnEjCz5op1"
   },
   "outputs": [
    {
     "name": "stdout",
     "output_type": "stream",
     "text": [
      "Enter anything:1000\n",
      "([1, 2, '1000'], [4, 5, '1000'], [7, 8, '1000'], [10, 11, '1000'])\n"
     ]
    }
   ],
   "source": [
    "#todo\n",
    "given_tuple=( [1, 2, 3], [4, 5, 6], [7, 8, 9], [10, 11, 12])\n",
    "n=input('Enter anything:')\n",
    "for i in given_tuple:\n",
    "    i[-1]=n\n",
    "print(given_tuple)"
   ]
  },
  {
   "cell_type": "markdown",
   "metadata": {
    "id": "dVZrZ8Od6WwM"
   },
   "source": [
    "### Task 16\n",
    "\n",
    "Suppose there is a dictionary named my_dictionary.\n",
    "\n",
    "my_dictionary = {'c1':'Red', 'c2':'Green', 'c3':None, 'd4':'Blue', 'a5':None}.\n",
    "\n",
    "Now write a Python program to remove empty items from the dictionary. [Empty items means keys without any values (None)].\n",
    "\n",
    "===================================================================\n",
    "\n",
    "**Output:**\n",
    "\n",
    "{'c1':'Red', 'c2':'Green', 'd4':'Blue'}\n",
    "\n",
    "==================================================================="
   ]
  },
  {
   "cell_type": "code",
   "execution_count": 2,
   "metadata": {
    "id": "cK9Nh7-F6YUE"
   },
   "outputs": [
    {
     "name": "stdout",
     "output_type": "stream",
     "text": [
      "{'c1': 'Red', 'c2': 'Green', 'd4': 'Blue'}\n"
     ]
    }
   ],
   "source": [
    "#to do\n",
    "my_dictionary = {'c1':'Red', 'c2':'Green', 'c3':None, 'd4':'Blue', 'a5':None}\n",
    "new_dic={}\n",
    "for key,value in my_dictionary.items():\n",
    "    if value!=None:\n",
    "        new_dic[key]=value\n",
    "print(new_dic)"
   ]
  },
  {
   "cell_type": "markdown",
   "metadata": {
    "id": "_W2bOMJn62xF"
   },
   "source": [
    "### Task 17\n",
    "\n",
    "Suppose you are given a dictionary as shown below. Write a Python program that takes two inputs from the user representing the lower (inclusive) and upper (exclusive) of a range of values. Your task is to extract all the items from the dictionary whose values lie in the range given as input by the user.\n",
    "\n",
    "dictionary = {'a' : 6, 'b' : 7, 'c' : 9, 'd' : 8, 'e' : 11, 'f' : 12, 'g' : 13}\n",
    "\n",
    "===================================================================\n",
    "\n",
    "**Sample Input 1:**\n",
    "\n",
    "9, 12\n",
    "\n",
    "**Sample Output 1:**\n",
    "\n",
    "{'c': 9, 'e': 11}\n",
    "\n",
    "**Explanation:**  Keys with values within the range of 9 and 11 are extracted.\n",
    "\n",
    "===================================================================\n",
    "\n",
    "**Sample Input 2:** \n",
    "\n",
    "14, 18\n",
    "\n",
    "**Sample Output 2 :**\n",
    "\n",
    "{}\n",
    "\n",
    "**Explanation:**  No values in range.\n",
    "\n",
    "==================================================================="
   ]
  },
  {
   "cell_type": "code",
   "execution_count": 5,
   "metadata": {
    "id": "MLh9VlLD633D"
   },
   "outputs": [
    {
     "name": "stdout",
     "output_type": "stream",
     "text": [
      "9\n",
      "12\n",
      "{'c': 9, 'e': 11}\n"
     ]
    }
   ],
   "source": [
    "#to do\n",
    "dictionary = {'a' : 6, 'b' : 7, 'c' : 9, 'd' : 8, 'e' : 11, 'f' : 12, 'g' : 13}\n",
    "n1=int(input(''))\n",
    "n2=int(input(''))\n",
    "new_dic={}\n",
    "for key,value in dictionary.items():\n",
    "    \n",
    "    if value>=n1 and value<n2:\n",
    "        new_dic[key]=value\n",
    "print(new_dic)"
   ]
  },
  {
   "cell_type": "markdown",
   "metadata": {
    "id": "zC94TVcD7LqM"
   },
   "source": [
    "### Task 18\n",
    "\n",
    "Given a list of tuples, your task is to group the tuples based on the **second** element in the tuples as shown in the examples below. We can achieve this using **dictionary** by checking the second element in each tuple.\n",
    "\n",
    "[You do not need to take tuple as input and can assume that it is given as below]\n",
    "\n",
    "===================================================================\n",
    "\n",
    "**Example 1:**\n",
    "\n",
    "Given:\n",
    "\n",
    "[(20, 80), (31, 80), (1, 22), (88, 11), (27, 11)]\n",
    "\n",
    "**Output:**\n",
    "\n",
    "{80: [(20, 80), (31, 80)],\\\n",
    "         11: [(88, 11), (27, 11)],\\\n",
    "         22: [(1, 22)]}\n",
    "       \n",
    "===================================================================\n",
    "\n",
    "**Example 2:**\n",
    "\n",
    "Given:\n",
    "\n",
    "[(20, 'Sad'), (31, 'Sad'), (88, 'NotSad'), (27, 'NotSad')]\n",
    "\n",
    "**Output:**\n",
    "\n",
    "{'NotSad': [(88, 'NotSad'), (27, 'NotSad')],\\\n",
    "         'Sad: [(20, 'Sad'), (31, 'Sad')]}\n",
    "\n",
    "==================================================================="
   ]
  },
  {
   "cell_type": "code",
   "execution_count": 13,
   "metadata": {},
   "outputs": [
    {
     "name": "stdout",
     "output_type": "stream",
     "text": [
      "{80: [(20, 80), (31, 80)], 22: [(1, 22)], 11: [(88, 11), (27, 11)]}\n"
     ]
    }
   ],
   "source": [
    "given_dic=[(20, 80), (31, 80), (1, 22), (88, 11), (27, 11)]\n",
    "new_dic={}\n",
    "for key,value in given_dic:\n",
    "    if value in new_dic:\n",
    "        new_dic[value].append((key,value))\n",
    "    else:\n",
    "        new_dic[value]=[(key,value)]\n",
    "        \n",
    "print(new_dic)"
   ]
  }
 ],
 "metadata": {
  "colab": {
   "collapsed_sections": [],
   "name": "CSE110 Lab Assignment 5.ipynb",
   "provenance": []
  },
  "kernelspec": {
   "display_name": "Python 3",
   "language": "python",
   "name": "python3"
  },
  "language_info": {
   "codemirror_mode": {
    "name": "ipython",
    "version": 3
   },
   "file_extension": ".py",
   "mimetype": "text/x-python",
   "name": "python",
   "nbconvert_exporter": "python",
   "pygments_lexer": "ipython3",
   "version": "3.8.8"
  }
 },
 "nbformat": 4,
 "nbformat_minor": 1
}
