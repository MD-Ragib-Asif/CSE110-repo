{
 "cells": [
  {
   "cell_type": "markdown",
   "id": "8b8b3ee7",
   "metadata": {},
   "source": [
    "PROBLEM 1) Rectangle Sample input:\n",
    "4\n",
    "6\n",
    "Sample output:\n",
    "123456\n",
    "123456\n",
    "123456\n",
    "123456\n",
    "\n",
    "Hint: 4 and 6 means 4 lines of numbers having 1..6 in each line."
   ]
  },
  {
   "cell_type": "code",
   "execution_count": null,
   "id": "397f20cb",
   "metadata": {},
   "outputs": [],
   "source": []
  },
  {
   "cell_type": "markdown",
   "id": "afe248ad",
   "metadata": {},
   "source": [
    "2) Triangle - Left Justified Draw right angled triangle of given height. Sample input:\n",
    "4\n",
    "Sample output\n",
    "*\n",
    "**\n",
    "*** ****\n",
    "Hint: One loop for lines, another loop for printing i number of starts when it is line i."
   ]
  },
  {
   "cell_type": "code",
   "execution_count": null,
   "id": "bcbfecd8",
   "metadata": {},
   "outputs": [],
   "source": []
  },
  {
   "cell_type": "markdown",
   "id": "256ea1bd",
   "metadata": {},
   "source": [
    "PROBLEM 3) Triangle - Left Justified. Draw right angled triangle of given height . Sample input:\n",
    "4\n",
    "Sample output\n",
    "1\n",
    "12\n",
    "123\n",
    "1234"
   ]
  },
  {
   "cell_type": "code",
   "execution_count": null,
   "id": "7db016e7",
   "metadata": {},
   "outputs": [],
   "source": []
  },
  {
   "cell_type": "markdown",
   "id": "08f1facc",
   "metadata": {},
   "source": [
    "PROBLEM 4) Triangle - Right Justified. Draw right angled triangle of given height. Sample input:\n",
    "4\n",
    "Sample output\n",
    "Page 2 of 5\n",
    "*\n",
    "**\n",
    "***\n",
    "****\n",
    "Hint: Count and print appropriate number of spaces in front of stars. Notice that there is one less space and one more star in each line."
   ]
  },
  {
   "cell_type": "code",
   "execution_count": null,
   "id": "0ed0d27d",
   "metadata": {},
   "outputs": [],
   "source": []
  },
  {
   "cell_type": "markdown",
   "id": "badfa6d9",
   "metadata": {},
   "source": [
    "PROBLEM 5) Triangle - Right Justified, Draw right angled triangle of given height. Sample input:\n",
    "4\n",
    "Sample output\n",
    "1\n",
    "12\n",
    "123\n",
    "1234"
   ]
  },
  {
   "cell_type": "code",
   "execution_count": null,
   "id": "2f197443",
   "metadata": {},
   "outputs": [],
   "source": []
  },
  {
   "cell_type": "markdown",
   "id": "f933a4f6",
   "metadata": {},
   "source": [
    "6) Triangle - Isosceles . Draw triangle of given height . Sample input 1:\n",
    "3\n",
    "Sample output 1:\n",
    "*\n",
    "***\n",
    "*****\n",
    "Sample input 2:\n",
    "4\n",
    "Sample output 2:\n",
    "*\n",
    "***\n",
    "*****\n",
    "*******"
   ]
  },
  {
   "cell_type": "code",
   "execution_count": null,
   "id": "60ce7d86",
   "metadata": {},
   "outputs": [],
   "source": []
  },
  {
   "cell_type": "markdown",
   "id": "38b15e66",
   "metadata": {},
   "source": [
    "PROBLEM 7) Triangle - Isosceles .Draw triangle of given height. Sample input 1:\n",
    "3\n",
    "Sample output 1:\n",
    "1\n",
    "123\n",
    "12345\n",
    "Sample input 2:\n",
    "4\n",
    "Sample output 2:\n",
    "Page 3 of 5\n",
    "1\n",
    "123\n",
    "12345\n",
    "1234567"
   ]
  },
  {
   "cell_type": "code",
   "execution_count": null,
   "id": "23805fd3",
   "metadata": {},
   "outputs": [],
   "source": []
  },
  {
   "cell_type": "markdown",
   "id": "8e05e78e",
   "metadata": {},
   "source": [
    "8) Rhombus .Just draw the image of the above triangle once. And then, the opposite, once. Sample input:\n",
    "3\n",
    "Sample output\n",
    "*\n",
    "***\n",
    "*****\n",
    "***\n",
    "*\n"
   ]
  },
  {
   "cell_type": "code",
   "execution_count": null,
   "id": "bd74eb34",
   "metadata": {},
   "outputs": [],
   "source": []
  },
  {
   "cell_type": "markdown",
   "id": "b0eb78f5",
   "metadata": {},
   "source": [
    "PROBLEM 9) Rhombus . Just draw the image of the above triangle once. And then, the opposite, once. Sample input:\n",
    "3\n",
    "Sample output\n",
    "1\n",
    "123\n",
    "12345\n",
    "123\n",
    "1\n"
   ]
  },
  {
   "cell_type": "code",
   "execution_count": null,
   "id": "4e98bc74",
   "metadata": {},
   "outputs": [],
   "source": []
  },
  {
   "cell_type": "markdown",
   "id": "00c0bf50",
   "metadata": {},
   "source": [
    "PROBLEM 10) Hollow Rectangle . Display a rectangle of given length and width.\n",
    "Sample input:\n",
    "4\n",
    "5\n",
    "Sample output\n",
    "*****\n",
    "* *\n",
    "* *\n",
    "*****\n",
    "Hint 1: Print the character space (‘ ‘) in the middle.\n",
    "Hint 2: You can re-use your solution to PROBLEM 2 and use if condition to selectively print first and last star of each line and all stars of first and last line.\n",
    "Page 4 of 5\n"
   ]
  },
  {
   "cell_type": "code",
   "execution_count": null,
   "id": "4829810a",
   "metadata": {},
   "outputs": [],
   "source": []
  },
  {
   "cell_type": "markdown",
   "id": "b49e6a7e",
   "metadata": {},
   "source": [
    "PROBLEM 11) Hollow Rectangle . Display a rectangle of given length and width.\n",
    "Sample input:\n",
    "4\n",
    "5\n",
    "Sample output\n",
    "12345\n",
    "1 5\n",
    "1 5\n",
    "12345\n"
   ]
  },
  {
   "cell_type": "code",
   "execution_count": null,
   "id": "14f2b7a0",
   "metadata": {},
   "outputs": [],
   "source": []
  },
  {
   "cell_type": "markdown",
   "id": "77c4ddbe",
   "metadata": {},
   "source": [
    "PROBLEM 12) Triangle - Left Justified Draw right angled triangle of given height Sample input: 5\n",
    "Sample output\n",
    "*\n",
    "*\n",
    "*\n",
    "*\n",
    "*\n",
    "*\n",
    "*\n",
    "*\n",
    "*\n",
    "*\n",
    "*\n",
    "*\n"
   ]
  },
  {
   "cell_type": "code",
   "execution_count": null,
   "id": "3301fdbe",
   "metadata": {},
   "outputs": [],
   "source": []
  },
  {
   "cell_type": "markdown",
   "id": "748c5d3f",
   "metadata": {},
   "source": [
    "PROBLEM 13) Hollow Triangle - Left Justified. Draw right angled triangle of given height. Sample input: 5\n",
    "Sample output\n",
    "1\n",
    "1\n",
    "2\n",
    "1\n",
    "3\n",
    "1\n",
    "4\n",
    "1\n",
    "2\n",
    "3\n",
    "4\n",
    "5\n"
   ]
  },
  {
   "cell_type": "code",
   "execution_count": null,
   "id": "cc344865",
   "metadata": {},
   "outputs": [],
   "source": []
  },
  {
   "cell_type": "markdown",
   "id": "50df82fa",
   "metadata": {},
   "source": [
    "PROBLEM 14) Hollow Triangle Draw right angled triangle of given height Sample input: 5\n",
    "Sample output\n",
    "*\n",
    "*\n",
    "*\n",
    "*\n",
    "*\n",
    "*\n",
    "*\n",
    "*\n",
    "*\n",
    "*\n",
    "*\n",
    "*"
   ]
  },
  {
   "cell_type": "code",
   "execution_count": null,
   "id": "ccc516e4",
   "metadata": {},
   "outputs": [],
   "source": []
  },
  {
   "cell_type": "markdown",
   "id": "28a1e17f",
   "metadata": {},
   "source": [
    "PROBLEM 15) Hollow Triangle – Isosceles. Draw triangle of given height. Sample input 1:\n",
    "3\n",
    "Sample output 1:\n",
    "1\n",
    "1 3\n",
    "12345\n",
    "Sample input 2:\n",
    "4\n",
    "Sample output 2:\n",
    "1\n",
    "1 3\n",
    "1 5\n",
    "1234567"
   ]
  },
  {
   "cell_type": "code",
   "execution_count": null,
   "id": "bcc2644d",
   "metadata": {},
   "outputs": [],
   "source": []
  },
  {
   "cell_type": "markdown",
   "id": "efa34585",
   "metadata": {},
   "source": [
    "16) Rhombus\n",
    "Just draw the image of the above triangle once. And then, the opposite, once. Sample input: 3\n",
    "Sample output\n",
    "1\n",
    "1 3\n",
    "1 5\n",
    "1 3\n",
    "1\n"
   ]
  },
  {
   "cell_type": "code",
   "execution_count": null,
   "id": "960a4b73",
   "metadata": {},
   "outputs": [],
   "source": []
  },
  {
   "cell_type": "markdown",
   "id": "519d90db",
   "metadata": {},
   "source": [
    "PROBLEM 17) Palindrome Sample input: 5\n",
    "Sample output\n",
    "123454321"
   ]
  },
  {
   "cell_type": "code",
   "execution_count": 3,
   "id": "47ce783f",
   "metadata": {},
   "outputs": [
    {
     "name": "stdout",
     "output_type": "stream",
     "text": [
      "5\n",
      "123454321"
     ]
    }
   ],
   "source": [
    "numb=int(input(''))\n",
    "a=[]\n",
    "b=[]\n",
    "c=[]\n",
    "for i in range(1,numb+1):\n",
    "    a.append(i)\n",
    "for j in range(numb-1,0,-1):\n",
    "    b.append(j)\n",
    "c=a+b\n",
    "for char in c:\n",
    "    print(char,end='')"
   ]
  },
  {
   "cell_type": "markdown",
   "id": "58972dc4",
   "metadata": {},
   "source": [
    "PROBLEM18) Palindromic Triangle Sample input: 5\n",
    "Sample output\n",
    "1\n",
    "121\n",
    "12321\n",
    "1234321\n",
    "123454321"
   ]
  },
  {
   "cell_type": "code",
   "execution_count": 5,
   "id": "7628f464",
   "metadata": {},
   "outputs": [
    {
     "name": "stdout",
     "output_type": "stream",
     "text": [
      "Enter a number:5\n",
      "    1\n",
      "   121\n",
      "  12321\n",
      " 1234321\n",
      "123454321\n"
     ]
    }
   ],
   "source": [
    "# to do\n",
    "def show_palindromic_triangle(n):\n",
    "    odd=1\n",
    "    space=n-1\n",
    "    for i in range(1,n+1):\n",
    "        k=0\n",
    "        for j in range(1,space+1):\n",
    "            print(' ',end='')\n",
    "        for j in range(1,odd+1):\n",
    "            if j<=i:\n",
    "                k=k+1\n",
    "            else:\n",
    "                k=k-1\n",
    "            print(k,end='')\n",
    "        print()\n",
    "        odd=odd+2\n",
    "        space=space-1\n",
    "show_palindromic_triangle(int(input('Enter a number:')))"
   ]
  },
  {
   "cell_type": "code",
   "execution_count": null,
   "id": "f2adeeae",
   "metadata": {},
   "outputs": [],
   "source": []
  }
 ],
 "metadata": {
  "kernelspec": {
   "display_name": "Python 3",
   "language": "python",
   "name": "python3"
  },
  "language_info": {
   "codemirror_mode": {
    "name": "ipython",
    "version": 3
   },
   "file_extension": ".py",
   "mimetype": "text/x-python",
   "name": "python",
   "nbconvert_exporter": "python",
   "pygments_lexer": "ipython3",
   "version": "3.8.8"
  }
 },
 "nbformat": 4,
 "nbformat_minor": 5
}
