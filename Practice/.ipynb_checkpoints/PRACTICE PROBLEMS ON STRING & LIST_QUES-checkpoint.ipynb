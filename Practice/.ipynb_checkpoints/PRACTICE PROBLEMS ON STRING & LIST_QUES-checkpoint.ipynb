{
 "cells": [
  {
   "cell_type": "markdown",
   "metadata": {},
   "source": [
    "# PRACTICE PROBLEMS ON STRING & LIST\n",
    "\n",
    "\n",
    "**<font color='red'>[MUST MAINTAIN VARIABLE NAMING CONVENTIONS FOR ALL THE TASKS]</font>**\n",
    "**<font color='red'>[Solve all the tasks sequentially]</font>**\n"
   ]
  },
  {
   "cell_type": "markdown",
   "metadata": {},
   "source": [
    "### Task 1\n",
    "Write a python program that will take a number as an input and check whether the number is Awesome or not. If the number is Awesome, it prints True. Otherwise False.\n",
    "\n",
    "**Awesome number**: a number where every digit is less than its immediate left digit is called an Awesome number. A single-digit number cannot be an awesome number(e.g. 5421 is an Awesome number.)\n",
    "\n",
    "==========================================================\n",
    "\n",
    "**Sample Input1:**\\\n",
    "976321\\\n",
    "**Sample Output1:**\\\n",
    "True\n",
    "\n",
    "==========================================================\n",
    "\n",
    "**Sample Input2:**\\\n",
    "9766321\\\n",
    "**Sample Output2:**\\\n",
    "False\n",
    "\n",
    "==========================================================\n",
    "\n",
    "**Sample Input3:**\\\n",
    "9\\\n",
    "**Sample Output3:**\\\n",
    "False\n",
    "\n",
    "==========================================================\n",
    "\n",
    "**Sample Input4:**\\\n",
    "78\\\n",
    "**Sample Output4:**\\\n",
    "False\n",
    "\n",
    "==========================================================\n",
    "\n",
    "**Sample Input5:**\\\n",
    "87\\\n",
    "**Sample Output4:**\\\n",
    "True\n"
   ]
  },
  {
   "cell_type": "code",
   "execution_count": 3,
   "metadata": {},
   "outputs": [
    {
     "name": "stdout",
     "output_type": "stream",
     "text": [
      "Enter number:9768321\n",
      "True\n",
      "\n"
     ]
    }
   ],
   "source": [
    "#TODO\n",
    "x=int(input(\"Enter number:\"))\n",
    "count=0\n",
    "y=x\n",
    "list1=[]\n",
    "list2=[]\n",
    "max=-9999999999\n",
    "while(y>0):\n",
    "    count=count+1\n",
    "    y=y//10\n",
    "a=10**(count-1)\n",
    "while a>0:\n",
    "    list1.append(x//a)\n",
    "    if x//a>max:\n",
    "        max=x//a\n",
    "        list2.append(max)\n",
    "    x=x%a\n",
    "    a=a//10\n",
    "if len(list1)==len(list2):\n",
    "    print('False')\n",
    "else:\n",
    "    print('True')\n",
    "print()"
   ]
  },
  {
   "cell_type": "code",
   "execution_count": 3,
   "metadata": {},
   "outputs": [
    {
     "name": "stdout",
     "output_type": "stream",
     "text": [
      "97654\n",
      "True\n"
     ]
    }
   ],
   "source": [
    "given = int(input())\n",
    "given = [int(x) for x in str(given)]\n",
    "new = []\n",
    "right = given[0]+1\n",
    "\n",
    "for i in range(len(given)):\n",
    "    if right > given[i]:\n",
    "        new.append(given[i])\n",
    "        right = given[i]\n",
    "\n",
    "if len(given) == 1:\n",
    "    print(False)\n",
    "elif len(given) == len(new):\n",
    "    print(True)\n",
    "else:\n",
    "    print(False)"
   ]
  },
  {
   "cell_type": "markdown",
   "metadata": {},
   "source": [
    "### Task 2\n",
    "\n",
    "Write a python program that will take a number in a list of numbers(integer) as an input from the user and print whether the number is Awesome or not. \n",
    "\n",
    "==========================================================\n",
    "\n",
    "**Sample Input1:**\\\n",
    "[976321, 321, 9763221, 9742, 876, 3211]\\\n",
    "**Sample Output1:**\\\n",
    "976321 is an awesome number.\\\n",
    "321 is an awesome number.\\\n",
    "9763221 is a not-so-awesome number.\\\n",
    "9742 is an awesome number.\\\n",
    "876 is an awesome number.\\\n",
    "3211 is a not-so-awesome number.\n",
    "\n",
    "==========================================================\n",
    "\n",
    "**Sample Input2:**\\\n",
    "[97821, 97210, 979210]\\\n",
    "**Sample Output2:**\\\n",
    "97821 is a not-so-awesome number.\\\n",
    "97210 is an awesome number.\\\n",
    "979210 is a not-so-awesome number.\n"
   ]
  },
  {
   "cell_type": "code",
   "execution_count": 21,
   "metadata": {},
   "outputs": [
    {
     "name": "stdout",
     "output_type": "stream",
     "text": [
      "Enter how many number wil enter:2\n",
      "Enter numbers:97821\n",
      "Enter numbers:97210\n",
      "97821 is a not-so-awesome number\n",
      "97210 is an awesome number\n"
     ]
    }
   ],
   "source": [
    "#TODO\n",
    "n=int(input('Enter how many number wil enter:'))\n",
    "list1=[]\n",
    "for i in range(n):\n",
    "    numb=int(input('Enter numbers:'))\n",
    "    list1.append(numb)\n",
    "new=[]\n",
    "for j in list1:\n",
    "    given = [int(x) for x in str(j)]\n",
    "    right = given[0]+1\n",
    "\n",
    "    for k in range(len(given)):\n",
    "        if right > given[k]:\n",
    "            new.append(given[k])\n",
    "            right = given[k]\n",
    "    value=j\n",
    "    if len(given) == 1:\n",
    "        print(value,'is a not-so-awesome number')\n",
    "    elif len(given) == len(new):\n",
    "        print(value,'is an awesome number')\n",
    "    else:\n",
    "        print(value,'is a not-so-awesome number')\n",
    "    new=[]"
   ]
  },
  {
   "cell_type": "markdown",
   "metadata": {},
   "source": [
    "### Task 3\n",
    "\n",
    "\n",
    "Write a python program that will take a string as input from the user where each number is separated by a comma. Then gets the numbers from the given string and removes all extra spaces. Stores the clean numbers in a list and prints it.\n",
    "\n",
    "**Hints:** For obtaining the numbers from the string, use split(). For cleaning the data, use strip().\n",
    "\n",
    "==========================================================\n",
    "\n",
    "**Sample Input1:**\\\n",
    "\"97821, 1 &nbsp;&nbsp;&nbsp;  , 97210,&nbsp;&nbsp; 963, &nbsp;&nbsp;&nbsp;979210 , 979210 \"\\\n",
    "**Sample Output1:**\\\n",
    "Data after cleaning: [97821, 1, 97210, 963, 979210, 979210]\n",
    "\n",
    "==========================================================\n",
    "\n",
    "**Sample Input2:**\\\n",
    "\"976321, 321&nbsp;&nbsp;,&nbsp;&nbsp;&nbsp;9763221, &nbsp;&nbsp;&nbsp;9742, 876,&nbsp;&nbsp;&nbsp;&nbsp;&nbsp;&nbsp;&nbsp; 3211\"\\\n",
    "**Sample Output2:**\\\n",
    "Data after cleaning: [976321, 321, 9763221, 9742, 876, 3211]\n",
    "\n",
    "==========================================================\n",
    "\n",
    "**Sample Input3:**\\\n",
    "\"976321, 321 ,&nbsp;&nbsp;&nbsp; 9763221, 9742, &nbsp;&nbsp;&nbsp;&nbsp;&nbsp;876, &nbsp;&nbsp;&nbsp;&nbsp;&nbsp;&nbsp;3211, 976321&nbsp;&nbsp;&nbsp;&nbsp;, 9742\"\\\n",
    "**Sample Output3:**\\\n",
    "Data after cleaning: [976321, 321, 9763221, 9742, 876, 3211, 976321, 9742]\n"
   ]
  },
  {
   "cell_type": "code",
   "execution_count": 7,
   "metadata": {},
   "outputs": [
    {
     "name": "stdout",
     "output_type": "stream",
     "text": [
      "Enter digits separated by comma:976321, 321  ,   9763221,    9742, 876,        3211\n",
      "Data after cleaning: [976321, 321, 9763221, 9742, 876, 3211]\n"
     ]
    }
   ],
   "source": [
    "list1=input('Enter digits separated by comma:')\n",
    "list2=list1.split(',')\n",
    "list3=[]\n",
    "for i in list2:\n",
    "    list3.append(int(i))\n",
    "print('Data after cleaning:',list3)"
   ]
  },
  {
   "cell_type": "markdown",
   "metadata": {},
   "source": [
    "### Task 4\n",
    "\n",
    "Write a python program that will take a list of numbers(integer) as an input from the user and does the following.\n",
    "* counts the number of valid, invalid, and duplicate numbers and prints these to the user.\n",
    "* stores the valid and invalid numbers in a list format and prints these to the user. You need to make sure that a number is stored only Once. **Valid numbers:** A number with a minimum length of 4 and a maximum length of 6 is considered to be valid for this assignment.\n",
    "* Calculate and print the percentage of valid numbers, invalid numbers, and duplicate numbers to the user. \n",
    "\n",
    "\n",
    "**Hints:** Use membership operator in and not in for checking the duplicates. For calculating the percentage, count the numbers of a particular number type.\n",
    "\n",
    "==================================================\n",
    "\n",
    "\n",
    "**Sample Input1:**\\\n",
    "[97821, 1, 97210, 963, 979210, 979210]\\\n",
    "**Sample Output1:**\\\n",
    "================================================\\\n",
    "Total numbers present in the given string: 6\\\n",
    "Valid number count: 3\\\n",
    "Valid numbers in list: [97821, 97210, 979210]\\\n",
    "Invalid number count: 2\\\n",
    "Invalid numbers in list: [1, 963]\\\n",
    "Duplicate number count: 1\\\n",
    "================================================\\\n",
    "Valid number percentage(%): 50.0\\\n",
    "Invalid number percentage(%): 33.333333333333336\\\n",
    "Duplicate number percentage(%): 16.666666666666668\\\n",
    "================================================\\\n",
    "\n",
    "\n",
    "**Sample Input2:**\\\n",
    "[976321, 321, 9763221, 9742, 876, 3211]\\\n",
    "**Sample Output2:**\\\n",
    "================================================\\\n",
    "Total numbers present in the given string: 6\\\n",
    "Valid number count: 3\\\n",
    "Valid numbers in list: [976321, 9742, 3211]\\\n",
    "Invalid number count: 3\\\n",
    "Invalid numbers in list: [321, 9763221, 876]\\\n",
    "Duplicate number count: 0\\\n",
    "================================================\\\n",
    "Valid number percentage(%): 50.0\\\n",
    "Invalid number percentage(%): 50.0\\\n",
    "Duplicate number percentage(%): 0.0\\\n",
    "================================================\\\n",
    "\n",
    "**Sample Input3:**\\\n",
    "[976321, 321, 9763221, 9742, 876, 3211, 976321, 9742]\\\n",
    "**Sample Output3:**\\\n",
    "================================================\\\n",
    "Total numbers present in the given string: 8\\\n",
    "Valid number count: 3\\\n",
    "Valid numbers in list: [976321, 9742, 3211]\\\n",
    "Invalid number count: 3\\\n",
    "Invalid numbers in list: [321, 9763221, 876]\\\n",
    "Duplicate number count: 2\\\n",
    "================================================\\\n",
    "Valid number percentage(%): 37.5\\\n",
    "Invalid number percentage(%): 37.5\\\n",
    "Duplicate number percentage(%): 25.0\\\n",
    "================================================\\\n"
   ]
  },
  {
   "cell_type": "code",
   "execution_count": 6,
   "metadata": {},
   "outputs": [
    {
     "name": "stdout",
     "output_type": "stream",
     "text": [
      "Enter digits using space:97821 1 97210 963 979210 979210\n",
      "The total numbers present in the given string: 6\n",
      "Valid number count: 3\n",
      "Valid number in list: [97821, 97210, 979210]\n",
      "Invalid number count: 2\n",
      "Invalid number in list: [1, 963]\n",
      "Duplicate number count: 1\n",
      "Valid number percentage(%): 50.0\n",
      "Invalid number percentage(%): 33.333333333333336\n",
      "Duplicate number percentage(%): 16.666666666666668\n"
     ]
    }
   ],
   "source": [
    "#TODO\n",
    "list1=input('Enter digits using space:')\n",
    "list2=list1.split(' ')\n",
    "list3=[]\n",
    "list4=[]\n",
    "list5=[]\n",
    "a=[]\n",
    "for i in list2:\n",
    "    if len(i)>=4 and len(i)<=6:\n",
    "        list3.append(int(i))\n",
    "    else:\n",
    "        list4.append(int(i))\n",
    "for j in list2:\n",
    "    if j in a:\n",
    "        continue\n",
    "    else:\n",
    "        a.append(j)\n",
    "for k in list3:\n",
    "    if k in list5:\n",
    "        continue\n",
    "    else:\n",
    "        list5.append(k)\n",
    "percentage=100/len(list2)\n",
    "print('The total numbers present in the given string:',len(list2))\n",
    "print('Valid number count:',len(list5))\n",
    "print('Valid number in list:',list5)\n",
    "print('Invalid number count:',len(list4))\n",
    "print('Invalid number in list:',list4)\n",
    "print('Duplicate number count:',len(list2)-len(a))\n",
    "print('Valid number percentage(%):',percentage*len(list5))\n",
    "print('Invalid number percentage(%):',percentage*len(list4))\n",
    "print('Duplicate number percentage(%):',percentage*(len(list2)-len(a)))"
   ]
  },
  {
   "cell_type": "markdown",
   "metadata": {},
   "source": [
    "### Task 5\n",
    "\n",
    "Write a python program that will take a list of numbers(integer) as an input from the user. Then stores the valid numbers, the sum of digits, and multiplication of the digits for each valid number in a list where each number is the 1st element of the list, the sum of digits is the 2nd element of the list and the multiplication of digits is the 3rd element of the list. Finally, print the nested list to the user. \n",
    "\n",
    "**Sample Input1:**\\\n",
    "[97821, 97210, 979210]\\\n",
    "**Sample Output1:**\\\n",
    "Data [number, sum of digits, product of digits]: [[97821, 27, 1008], [97210, 19, 0], [979210, 28, 0]]\n",
    "\n",
    "================================================\n",
    "\n",
    "**Sample Input2:**\\\n",
    "[976321, 9742, 3211, 30987]\\\n",
    "**Sample Output2:**\\\n",
    "Data [number, sum of digits, product of digits]: [[976321, 28, 2268], [9742, 22, 504], [3211, 7, 6], [30987, 27, 0]]\n",
    "\n",
    "================================================\n",
    "\n",
    "**Sample Input3:**\\\n",
    "[976321, 9640, 3211]\\\n",
    "**Sample Output3:**\\\n",
    "Data [number, sum of digits, product of digits]: [[976321, 28, 2268], [9640, 19, 0], [3211, 7, 6]]\n",
    "\n",
    "================================================\n"
   ]
  },
  {
   "cell_type": "code",
   "execution_count": 2,
   "metadata": {},
   "outputs": [
    {
     "name": "stdout",
     "output_type": "stream",
     "text": [
      "Enter digits using space:976321 9742 3211 30987\n",
      "Data[number,sum of digits,product of digits]: [[976321, 28, 2268], [9742, 22, 504], [3211, 7, 6], [30987, 27, 0]]\n"
     ]
    }
   ],
   "source": [
    "list1=input('Enter digits using space:')\n",
    "list2=list1.split(' ')\n",
    "list3=[]\n",
    "a=[]\n",
    "sum=0\n",
    "product=1\n",
    "for i in list2:\n",
    "    for j in range(len(i)):\n",
    "        sum+=int(i[j])\n",
    "        product*=int(i[j])\n",
    "    b=[int(i),sum,product]\n",
    "    a.append(b)\n",
    "    sum=0\n",
    "    product=1\n",
    "list3.extend(a)\n",
    "print('Data[number,sum of digits,product of digits]:',list3)"
   ]
  },
  {
   "cell_type": "markdown",
   "metadata": {},
   "source": [
    "### Task 6 (Merger of Task1-Task5)\n",
    "\n",
    "Write a python program that will take a string as input from the user where each number is separated by a comma. The numbers must have a minimum length of 4 and a maximum length of 6 to be considered valid for this assignment. Then, you need to complete the following. \n",
    "\n",
    "* Part1: get the numbers from the given string, remove all extra spaces. (clean the data). Print the clean data to the user.\n",
    "* Part2:count the number of valid, invalid, and duplicate numbers and print these to the user.\n",
    "* Part3: store the valid and invalid numbers in a list format and print these to the user. You need to make sure that a number is stored only Once.\n",
    "* Part4: Calculate and print the percentage of valid numbers, invalid numbers, and duplicate numbers to the user.\n",
    "* Part5:store the valid numbers, the sum of digits, and multiplication of the digits for each valid number in a list where each number is the 1st element of the list, the sum of digits is the 2nd element of the list and the multiplication of digits is the 3rd element of the list. Finally, print the nested list to the user. \n",
    "* Part6: Check whether the valid numbers are Awesome or not. **Awesome number:** a number where every digit is less than its immediate left digit is called is an awesome number. (e.g. 5421 is an awesome number).\n",
    "\n",
    "==============================================================================================\n",
    "\n",
    "**Sample Input1:**\\\n",
    "\"97821, 1 &nbsp;&nbsp;&nbsp;  , 97210,&nbsp;&nbsp; 963, &nbsp;&nbsp;&nbsp;979210 , 979210 \"\\\n",
    "**Sample Output1:**\\\n",
    "Data after cleaning: [97821, 1, 97210, 963, 979210, 979210]\\\n",
    "XXXXXXXXXXXXXXXXXXXXXXXXXXXXXXXXXXXXXXXXXXXXXXXXX\\\n",
    "================================================\\\n",
    "Total numbers present in the given string: 6\\\n",
    "Valid number count: 3\\\n",
    "Valid numbers in list: [97821, 97210, 979210]\\\n",
    "Invalid number count: 2\\\n",
    "Invalid numbers in list: [1, 963]\\\n",
    "Duplicate number count: 1\\\n",
    "================================================\\\n",
    "Valid number percentage(%): 50.0\\\n",
    "Invalid number percentage(%): 33.333333333333336\\\n",
    "Duplicate number percentage(%): 16.666666666666668\\\n",
    "================================================\\\n",
    "XXXXXXXXXXXXXXXXXXXXXXXXXXXXXXXXXXXXXXXXXXXXXXXXX\\\n",
    "Data of valid numbers:\\\n",
    "[number, sum of digits, product of digits]:\\\n",
    "[[976321, 28, 2268], [9640, 19, 0], [3211, 7, 6]]\\\n",
    "XXXXXXXXXXXXXXXXXXXXXXXXXXXXXXXXXXXXXXXXXXXXXXXXX\\\n",
    "^_^ Awesomeness checking of the Valid numbers ^_^\\\n",
    "976321 is an awesome number.\\\n",
    "9640 is an awesome number.\\\n",
    "3211 is a not-so-awesome number.\\\n",
    "XXXXXXXXXXXXXXXXXXXXXXXXXXXXXXXXXXXXXXXXXXXXXXXXX\n",
    "\n",
    "==============================================================================================\n",
    "\n",
    "\n",
    "**Sample Input2:**\\\n",
    "\"976321, 321&nbsp;&nbsp;,&nbsp;&nbsp;&nbsp;9763221, &nbsp;&nbsp;&nbsp;9742, 876,&nbsp;&nbsp;&nbsp;&nbsp;&nbsp;&nbsp;&nbsp; 3211\"\\\n",
    "**Sample Output2:**\\\n",
    "Data after cleaning: [976321, 321, 9763221, 9742, 876, 3211]\\\n",
    "XXXXXXXXXXXXXXXXXXXXXXXXXXXXXXXXXXXXXXXXXXXXXXXXX\\\n",
    "================================================\\\n",
    "Total numbers present in the given string: 6\\\n",
    "Valid number count: 3\\\n",
    "Valid numbers in list: [976321, 9742, 3211]\\\n",
    "Invalid number count: 3\\\n",
    "Invalid numbers in list: [321, 9763221, 876]\\\n",
    "Duplicate number count: 0\\\n",
    "================================================\\\n",
    "Valid number percentage(%): 50.0\\\n",
    "Invalid number percentage(%): 50.0\\\n",
    "Duplicate number percentage(%): 0.0\\\n",
    "================================================\\\n",
    "XXXXXXXXXXXXXXXXXXXXXXXXXXXXXXXXXXXXXXXXXXXXXXXXX\\\n",
    "Data of valid numbers:\\\n",
    "[number, sum of digits, product of digits]:\\\n",
    "[[976321, 28, 2268], [9640, 19, 0], [3211, 7, 6]]\\\n",
    "XXXXXXXXXXXXXXXXXXXXXXXXXXXXXXXXXXXXXXXXXXXXXXXXX\\\n",
    "^_^ Awesomeness checking of the Valid numbers ^_^\\\n",
    "976321 is an awesome number.\\\n",
    "9640 is an awesome number.\\\n",
    "3211 is a not-so-awesome number.\\\n",
    "XXXXXXXXXXXXXXXXXXXXXXXXXXXXXXXXXXXXXXXXXXXXXXXXX\n",
    "\n",
    "\n",
    "==============================================================================================\n",
    "\n",
    "**Sample Input3:**\\\n",
    "\"976321, 321 ,&nbsp;&nbsp;&nbsp; 9763221, 9742, &nbsp;&nbsp;&nbsp;&nbsp;&nbsp;876, &nbsp;&nbsp;&nbsp;&nbsp;&nbsp;&nbsp;3211, 976321&nbsp;&nbsp;&nbsp;&nbsp;, 9742\"\\\n",
    "**Sample Output3:**\\\n",
    "Data after cleaning: [976321, 321, 9763221, 9742, 876, 3211, 976321, 9742]\\\n",
    "XXXXXXXXXXXXXXXXXXXXXXXXXXXXXXXXXXXXXXXXXXXXXXXXX\\\n",
    "================================================\\\n",
    "Total numbers present in the given string: 8\\\n",
    "Valid number count: 3\\\n",
    "Valid numbers in list: [976321, 9742, 3211]\\\n",
    "Invalid number count: 3\\\n",
    "Invalid numbers in list: [321, 9763221, 876]\\\n",
    "Duplicate number count: 2\\\n",
    "================================================\\\n",
    "Valid number percentage(%): 37.5\\\n",
    "Invalid number percentage(%): 37.5\\\n",
    "Duplicate number percentage(%): 25.0\\\n",
    "================================================\\\n",
    "XXXXXXXXXXXXXXXXXXXXXXXXXXXXXXXXXXXXXXXXXXXXXXXXX\\\n",
    "Data of valid numbers:\\\n",
    "[number, sum of digits, product of digits]:\\\n",
    "[[976321, 28, 2268], [9640, 19, 0], [3211, 7, 6]]\\\n",
    "XXXXXXXXXXXXXXXXXXXXXXXXXXXXXXXXXXXXXXXXXXXXXXXXX\\\n",
    "^_^ Awesomeness checking of the Valid numbers ^_^\\\n",
    "976321 is an awesome number.\\\n",
    "9640 is an awesome number.\\\n",
    "3211 is a not-so-awesome number.\\\n",
    "XXXXXXXXXXXXXXXXXXXXXXXXXXXXXXXXXXXXXXXXXXXXXXXXX"
   ]
  },
  {
   "cell_type": "code",
   "execution_count": null,
   "metadata": {},
   "outputs": [],
   "source": [
    "#TODO"
   ]
  },
  {
   "cell_type": "markdown",
   "metadata": {},
   "source": [
    "Task 23\n",
    "Write a python program that will convert a decimel number into a bynary number."
   ]
  },
  {
   "cell_type": "code",
   "execution_count": 6,
   "metadata": {},
   "outputs": [
    {
     "name": "stdout",
     "output_type": "stream",
     "text": [
      "Enter a decimel number:10\n",
      "1010"
     ]
    }
   ],
   "source": [
    "numb=int(input('Enter a decimel number:'))\n",
    "a_list=[]\n",
    "\n",
    "while numb>0:\n",
    "    reminder=numb%2\n",
    "    numb=numb//2\n",
    "    a_list.append(reminder)\n",
    "b_list=a_list[-1::-1]\n",
    "for i in b_list:\n",
    "    print(i,end='')"
   ]
  },
  {
   "cell_type": "code",
   "execution_count": 13,
   "metadata": {},
   "outputs": [
    {
     "name": "stdout",
     "output_type": "stream",
     "text": [
      "Enter a decimel number:10\n",
      "1010"
     ]
    }
   ],
   "source": [
    "numb=int(input('Enter a decimel number:'))\n",
    "a_list=[]\n",
    "\n",
    "while numb>0:\n",
    "    reminder=numb%2\n",
    "    numb=numb//2\n",
    "    a_list.append(reminder)\n",
    "\n",
    "for count in range(len(a_list)-1,-1,-1):#or can use range(-1,-len(a_list),-1)\n",
    "    print(a_list[count],end='')"
   ]
  },
  {
   "cell_type": "markdown",
   "metadata": {},
   "source": [
    "Write a python programme that gives code like below but Limitation is 'H'.\n",
    "Input:\n",
    "ABCDEFGHIJKL\n",
    "Output:\n",
    "65B67D69F71H"
   ]
  },
  {
   "cell_type": "code",
   "execution_count": 17,
   "metadata": {},
   "outputs": [
    {
     "name": "stdout",
     "output_type": "stream",
     "text": [
      "Enter a string:ABCDEFGHIJKL\n",
      "65B67D69F71H\n"
     ]
    }
   ],
   "source": [
    "word=input('Enter a string:')\n",
    "for count in range(0,len(word)):\n",
    "    if word[count]=='I':\n",
    "        break\n",
    "    if count%2==0:\n",
    "        numb=ord(word[count])\n",
    "        print(numb, end='')\n",
    "    else:\n",
    "        print(word[count], end='')    \n",
    "print()"
   ]
  },
  {
   "cell_type": "markdown",
   "metadata": {},
   "source": [
    "Write a python code that bring out the char only from any string and tell how many char is there.\n",
    "Input:\n",
    "65B67D69F71H\n",
    "Output:\n",
    "BDFH"
   ]
  },
  {
   "cell_type": "code",
   "execution_count": 19,
   "metadata": {},
   "outputs": [
    {
     "name": "stdout",
     "output_type": "stream",
     "text": [
      "Enter a string:65B67D69F71H\n",
      "The final output is: BDFH\n",
      "There are total 4 char\n"
     ]
    }
   ],
   "source": [
    "word=input('Enter a string:')\n",
    "a_string=''\n",
    "count=0\n",
    "for letter in word:\n",
    "    if ord(letter) in range(65,91):\n",
    "        a_string=a_string+letter\n",
    "        count=count+1\n",
    "print('The final output is:',a_string)\n",
    "#print('There are total',count,'char')\n",
    "print('There are total {} char'.format(count))"
   ]
  },
  {
   "cell_type": "code",
   "execution_count": null,
   "metadata": {},
   "outputs": [],
   "source": []
  }
 ],
 "metadata": {
  "kernelspec": {
   "display_name": "Python 3",
   "language": "python",
   "name": "python3"
  },
  "language_info": {
   "codemirror_mode": {
    "name": "ipython",
    "version": 3
   },
   "file_extension": ".py",
   "mimetype": "text/x-python",
   "name": "python",
   "nbconvert_exporter": "python",
   "pygments_lexer": "ipython3",
   "version": "3.8.8"
  }
 },
 "nbformat": 4,
 "nbformat_minor": 4
}
