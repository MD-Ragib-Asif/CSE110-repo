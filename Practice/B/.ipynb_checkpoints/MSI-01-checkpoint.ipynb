{
 "cells": [
  {
   "cell_type": "code",
   "execution_count": 3,
   "id": "bcc6fa97",
   "metadata": {},
   "outputs": [
    {
     "name": "stdout",
     "output_type": "stream",
     "text": [
      "Enter 1st value:3\n",
      "Enter 2nd value:4\n",
      "Enter 3rd value:5\n",
      "Area of triangle is: 14.6969\n"
     ]
    }
   ],
   "source": [
    "#1\n",
    "import math\n",
    "x=int(input('Enter 1st value:'))\n",
    "y=int(input('Enter 2nd value:'))\n",
    "z=int(input('Enter 3rd value:'))\n",
    "s=(x+y+z)/2\n",
    "Area=s*math.sqrt((s-x)*(s-y)*(s-z))\n",
    "print('Area of triangle is:',format(Area,'.4f'))"
   ]
  },
  {
   "cell_type": "code",
   "execution_count": null,
   "id": "e218d985",
   "metadata": {},
   "outputs": [],
   "source": [
    "x=int(input('Enter 1st number:'))\n",
    "y=int(input('Enter 2nd number:'))\n",
    "z=int(input('Enter 3rd number:'))\n",
    "if x>y and x>z:\n",
    "    print(x,'is greatest')\n",
    "elif y>x and y>z:\n",
    "    print(y,'is greatest')\n",
    "else:\n",
    "    print(z,'is greatest')"
   ]
  },
  {
   "cell_type": "code",
   "execution_count": 6,
   "id": "2f363557",
   "metadata": {},
   "outputs": [
    {
     "name": "stdout",
     "output_type": "stream",
     "text": [
      "Enter 1st number:7\n",
      "Enter 2nd number:9\n",
      "Enter 3rd number:12\n",
      "Triangle is valid\n"
     ]
    }
   ],
   "source": [
    "#2\n",
    "x=float(input('Enter 1st number:'))\n",
    "y=float(input('Enter 2nd number:'))\n",
    "z=float(input('Enter 3rd number:'))\n",
    "if x+y>z and y+z>x and z+x>y:\n",
    "    print('Triangle is valid')\n",
    "else:\n",
    "    print('Triangle is not valid')"
   ]
  },
  {
   "cell_type": "code",
   "execution_count": 7,
   "id": "4f4c5ade",
   "metadata": {},
   "outputs": [
    {
     "name": "stdout",
     "output_type": "stream",
     "text": [
      "Enter year:2100\n",
      "2100 is not a leap year\n"
     ]
    }
   ],
   "source": [
    "#3\n",
    "# Python program to check if year is a leap year or not\n",
    "\n",
    "year =int(input('Enter year:'))\n",
    "\n",
    "if (year % 4) == 0:\n",
    "    if (year % 100) == 0:\n",
    "        if (year % 400) == 0:\n",
    "            print(\"{} is a leap year\".format(year))\n",
    "        else:\n",
    "            print(\"{} is not a leap year\".format(year))\n",
    "    else:\n",
    "        print(\"{} is a leap year\".format(year))\n",
    "else:\n",
    "    print(\"{} is not a leap year\".format(year))"
   ]
  },
  {
   "cell_type": "code",
   "execution_count": 9,
   "id": "9359279c",
   "metadata": {},
   "outputs": [
    {
     "name": "stdout",
     "output_type": "stream",
     "text": [
      "Enter a number:8\n",
      "Sum of 1+11+111+...+N terms is: 12345678\n"
     ]
    }
   ],
   "source": [
    "#4\n",
    "numb=int(input('Enter a number:'))\n",
    "sum = 0\n",
    "j = 1\n",
    "     \n",
    "for i in range(1, numb + 1):\n",
    "    sum = sum + j\n",
    "    j = (j * 10) + 1\n",
    "print('Sum of 1+11+111+...+N terms is:',sum)"
   ]
  },
  {
   "cell_type": "code",
   "execution_count": 10,
   "id": "a8458145",
   "metadata": {},
   "outputs": [
    {
     "name": "stdout",
     "output_type": "stream",
     "text": [
      " Enter the number : 10\n",
      "Multiplication Table of : \n",
      "10 x 1 = 10\n",
      "10 x 2 = 20\n",
      "10 x 3 = 30\n",
      "10 x 4 = 40\n",
      "10 x 5 = 50\n",
      "10 x 6 = 60\n",
      "10 x 7 = 70\n",
      "10 x 8 = 80\n",
      "10 x 9 = 90\n",
      "10 x 10 = 100\n"
     ]
    }
   ],
   "source": [
    "#5\n",
    "num = int(input(\" Enter the number : \"))    \n",
    "# using for loop to iterate multiplication 10 times     \n",
    "print(\"Multiplication Table of : \")  \n",
    "for i in range(1,11):    \n",
    "    print(num,'x',i,'=',num*i)"
   ]
  },
  {
   "cell_type": "code",
   "execution_count": 16,
   "id": "a77cbdad",
   "metadata": {},
   "outputs": [
    {
     "name": "stdout",
     "output_type": "stream",
     "text": [
      "Enter size:5\n",
      "*****\n",
      "   * \n",
      "  *  \n",
      " *   \n",
      "*****\n"
     ]
    }
   ],
   "source": [
    "#9\n",
    "numb=int(input('Enter size:'))\n",
    "i=1\n",
    "j=numb-2\n",
    "for row in range(numb):\n",
    "    for col in range(numb):\n",
    "        if (row==0 or row==numb-1):\n",
    "            print('*',end='')\n",
    "        elif col==j and row==i:\n",
    "            print('*',end='')\n",
    "            j=j-1\n",
    "            i=i+1\n",
    "        else:\n",
    "            print(end=' ')\n",
    "    print()"
   ]
  },
  {
   "cell_type": "code",
   "execution_count": 12,
   "id": "10e7023d",
   "metadata": {},
   "outputs": [
    {
     "name": "stdout",
     "output_type": "stream",
     "text": [
      "Type \"Stop\" to end this code\n",
      "Enter numbers you want:1\n",
      "Enter numbers you want:2\n",
      "Enter numbers you want:3\n",
      "Enter numbers you want:4\n",
      "Enter numbers you want:5\n",
      "Enter numbers you want:Stop\n",
      "Average is 3.0\n",
      "Product is 120\n"
     ]
    }
   ],
   "source": [
    "#6\n",
    "list1=[]\n",
    "sum=0\n",
    "product=1\n",
    "print('Type \"Stop\" to end this code')\n",
    "while True:\n",
    "    numb=input('Enter numbers you want:')\n",
    "    if numb=='Stop':\n",
    "        break\n",
    "    list1.append(numb)\n",
    "for char in list1:\n",
    "    sum=sum+int(char)\n",
    "    product=product*int(char)\n",
    "print('Average is {}'.format(sum/len(list1)))\n",
    "print('Product is {}'.format(product))"
   ]
  },
  {
   "cell_type": "code",
   "execution_count": 13,
   "id": "5184d3fb",
   "metadata": {},
   "outputs": [
    {
     "name": "stdout",
     "output_type": "stream",
     "text": [
      "Please Enter your Own String : Welcome to geeksforgeeks.com\n",
      "\n",
      "Total Number of Alphabets in this String :   25\n",
      "Total Number of Digits in this String :   0\n",
      "Total Number of Special Characters in this String :   3\n"
     ]
    }
   ],
   "source": [
    "#7\n",
    "# Python program to Count Alphabets Digits and Special Characters in a String\n",
    " \n",
    "string = input(\"Please Enter your Own String : \")\n",
    "alphabets = digits = special = 0\n",
    "\n",
    "for i in range(len(string)):\n",
    "    if(string[i].isalpha()):\n",
    "        alphabets = alphabets + 1\n",
    "    elif(string[i].isdigit()):\n",
    "        digits = digits + 1\n",
    "    else:\n",
    "        special = special + 1\n",
    "        \n",
    "print(\"\\nTotal Number of Alphabets in this String :  \", alphabets)\n",
    "print(\"Total Number of Digits in this String :  \", digits)\n",
    "print(\"Total Number of Special Characters in this String :  \", special)"
   ]
  },
  {
   "cell_type": "code",
   "execution_count": 15,
   "id": "5e9e1327",
   "metadata": {},
   "outputs": [
    {
     "name": "stdout",
     "output_type": "stream",
     "text": [
      "In the string: It is a string with the smallest and largest word \n",
      "Longest word is: smallest\n",
      "and smallest word is: a\n"
     ]
    }
   ],
   "source": [
    "#8\n",
    "Line='It is a string with the smallest and largest word '\n",
    "\n",
    "words=[x for x in Line.split()]\n",
    "sorted_words = sorted(words, key= lambda y: len(y), reverse = True)\n",
    "longest_word = sorted_words[0]\n",
    "shortest_word = sorted_words[-1]\n",
    "\n",
    "print('In the string:', end=' ')\n",
    "for j in words:\n",
    "    print(j, end=' ')\n",
    "print()\n",
    "print('Longest word is:',longest_word)\n",
    "print('and smallest word is:',shortest_word)"
   ]
  },
  {
   "cell_type": "code",
   "execution_count": 18,
   "id": "3c83061a",
   "metadata": {},
   "outputs": [
    {
     "name": "stdout",
     "output_type": "stream",
     "text": [
      "Enter first string:india is great\n",
      "Enter second string:is\n",
      "nda  great\n"
     ]
    }
   ],
   "source": [
    "#10\n",
    "n1=input('Enter first string:')\n",
    "n2=input('Enter second string:')\n",
    "a=''\n",
    "\n",
    "for i in n1:\n",
    "    if i not in n2:\n",
    "        a=a+i\n",
    "print(a)"
   ]
  },
  {
   "cell_type": "code",
   "execution_count": 21,
   "id": "43b0b999",
   "metadata": {},
   "outputs": [
    {
     "name": "stdout",
     "output_type": "stream",
     "text": [
      "Enter digits separated by space:i love python programming\n",
      "I Love Python Programming "
     ]
    }
   ],
   "source": [
    "#11\n",
    "list1=input('Enter digits separated by space:')\n",
    "list2=list1.split(' ')\n",
    "for i in list2:\n",
    "    if ord(i[0])>=97 and ord(i[0])<=122:\n",
    "        new=i.replace(i[0],chr(ord(i[0])-32))\n",
    "    print(new,end=' ')"
   ]
  },
  {
   "cell_type": "code",
   "execution_count": 23,
   "id": "f03c70ff",
   "metadata": {},
   "outputs": [
    {
     "name": "stdout",
     "output_type": "stream",
     "text": [
      "1,2,3,4,5\n",
      "Product: 120\n"
     ]
    }
   ],
   "source": [
    "#12\n",
    "list1=input('')\n",
    "list2=list1.split(',')\n",
    "product=1\n",
    "for i in list2:\n",
    "    product=product*int(i)\n",
    "print('Product:',product)"
   ]
  },
  {
   "cell_type": "code",
   "execution_count": 24,
   "id": "9a307063",
   "metadata": {},
   "outputs": [
    {
     "name": "stdout",
     "output_type": "stream",
     "text": [
      "1 2 3 4 5\n",
      "6 7 8 9 10\n",
      "1 10\n",
      "2 9\n",
      "3 8\n",
      "4 7\n",
      "5 6\n"
     ]
    }
   ],
   "source": [
    "#13\n",
    "list1=input('')\n",
    "list2=input('')\n",
    "list3=list1.split(' ')\n",
    "list4=list2.split(' ')\n",
    "list5=list4[-1::-1]\n",
    "for i in range(len(list3)):\n",
    "    print(list3[i],list5[i])"
   ]
  },
  {
   "cell_type": "code",
   "execution_count": 25,
   "id": "b2bbce78",
   "metadata": {},
   "outputs": [
    {
     "name": "stdout",
     "output_type": "stream",
     "text": [
      "red,green,blue,white,black\n",
      "['der', 'neerg', 'eulb', 'etihw', 'kcalb']\n"
     ]
    }
   ],
   "source": [
    "#14\n",
    "list1=input('')\n",
    "list2=list1.split(',')\n",
    "a=''\n",
    "b=[]\n",
    "for i in list2:\n",
    "    for j in range(len(i)-1,-1,-1):\n",
    "        a=a+i[j]\n",
    "    b.append(a)\n",
    "    a=''\n",
    "print(b)"
   ]
  },
  {
   "cell_type": "code",
   "execution_count": 26,
   "id": "5b6ed9f3",
   "metadata": {},
   "outputs": [
    {
     "name": "stdout",
     "output_type": "stream",
     "text": [
      "14,112,16,1\n",
      "First even is: 14\n",
      "First odd is: 1\n"
     ]
    }
   ],
   "source": [
    "#15\n",
    "list1=input('')\n",
    "list2=list1.split(',')\n",
    "eve=[]\n",
    "od=[]\n",
    "for i in list2:\n",
    "    if int(i)%2==0:\n",
    "        eve.append(i)\n",
    "    else:\n",
    "        od.append(i)\n",
    "print('First even is:',eve[0])\n",
    "print('First odd is:',od[0])"
   ]
  },
  {
   "cell_type": "code",
   "execution_count": 27,
   "id": "7aa91463",
   "metadata": {},
   "outputs": [
    {
     "name": "stdout",
     "output_type": "stream",
     "text": [
      "1,2,3,4\n",
      "4\n",
      "['11', '21', '31', '41', '12', '22', '32', '42', '13', '23', '33', '43', '14', '24', '34', '44']\n"
     ]
    }
   ],
   "source": [
    "#16\n",
    "list1=input('')\n",
    "list2=list1.split(',')\n",
    "a=[]\n",
    "numb=int(input(''))\n",
    "for i in range(1,numb+1):\n",
    "    for j in list2:\n",
    "        a.append(j+str(i))\n",
    "print(a)"
   ]
  },
  {
   "cell_type": "markdown",
   "id": "f00a57e6",
   "metadata": {},
   "source": [
    "𝗤𝘂𝗲𝘀𝘁𝗶𝗼𝗻 2:\n",
    "Write a Python program that takes a word as an input from the user and does \n",
    "the following. While printing, use a space after each letter or ASCII value.\n",
    "\n",
    "If the word has an even number of letters, then print the middle two \n",
    "letters replaced with their ASCII values.\n",
    "If the word has an odd number of letters, then  print the middle three \n",
    "letters replaced with their ASCII values\n",
    "If the word is less than four letters long, simply print the word itself.\n",
    "\n",
    "[Do not use any built-in functions of String class except len() and ord()]\n",
    "=========================================================\n",
    "Sample Input 1:\n",
    "computer\n",
    "\n",
    "Sample Output 1:\n",
    "c o m 112 117 t e r\n",
    "\n",
    "Explanation 1:\n",
    "The word 'computer' has 8 letters which is an even number and the length is \n",
    "not less than 4. Hence, the middle 2 letters 'p' and 'u' are replaced with \n",
    "the ASCII values of 'p' and 'u' which are 112 and 117. Notice the spaces \n",
    "after each letter or ASCII value in the output.\n",
    "\n",
    "=========================================================\n",
    "Sample Input 2:\n",
    "programming\n",
    "\n",
    "Sample Output 2:\n",
    "p r o g 114 97 109 m i n g\n",
    "\n",
    "Explanation 2:\n",
    "The word 'programming' has 11 letters which is an odd number and the length \n",
    "is not less than 4. Hence, the middle 3 letters 'r', 'a' and 'm' are \n",
    "replaced with the ASCII values of 'r', 'a', and 'm' which are 114 and 97 \n",
    "and 109. Notice the spaces after each letter or ASCII value in the output.\n",
    "=========================================================\n",
    "Sample Input 3:\n",
    "mid\n",
    "\n",
    "Sample Output 3:\n",
    "mid\n",
    "\n",
    "Explanation 3:\n",
    "The word 'mid' has 3 letters which is an odd number. But the length is less \n",
    "than 4. So, the original word was printed."
   ]
  },
  {
   "cell_type": "code",
   "execution_count": 10,
   "id": "9bd05143",
   "metadata": {},
   "outputs": [
    {
     "name": "stdout",
     "output_type": "stream",
     "text": [
      "compputer\n",
      "c o m 1 1 2 1 1 2 1 1 7 t e r "
     ]
    }
   ],
   "source": [
    "n=input('')\n",
    "if len(n)<4:\n",
    "    print(n)\n",
    "else:\n",
    "    if len(n)%2==0:\n",
    "        b=n.replace(n[int(((len(n))/2)-1)],str(ord(n[int(((len(n))/2)-1)])))\n",
    "        c=b.replace(n[int((len(n))/2)],str(ord(n[int((len(n))/2)])))\n",
    "        for i in c:\n",
    "            print(i,end=' ')\n",
    "    else:\n",
    "        b=n.replace(n[int(((len(n)-1)/2)-1)],str(ord(n[int(((len(n)-1)/2)-1)])))\n",
    "        c=b.replace(n[int(((len(n)-1)/2))],str(ord(n[int(((len(n)-1)/2))])))\n",
    "        d=c.replace(n[int(((len(n)-1)/2)+1)],str(ord(n[int(((len(n)-1)/2)+1)])))\n",
    "        for j in d:\n",
    "            print(j,end=' ')"
   ]
  },
  {
   "cell_type": "code",
   "execution_count": 13,
   "id": "487ee2c9",
   "metadata": {},
   "outputs": [
    {
     "name": "stdout",
     "output_type": "stream",
     "text": [
      "computer\n",
      "c o m 112 117 t e r "
     ]
    }
   ],
   "source": [
    "n=input('')\n",
    "if len(n)<4:\n",
    "    print(n)\n",
    "else:\n",
    "\n",
    "    if len(n)%2==0:\n",
    "        ev1=((len(n))/2)-1\n",
    "        ev2=(len(n))/2\n",
    "        for i in range(len(n)):\n",
    "            ev1=((len(n))/2)-1\n",
    "            ev2=(len(n))/2\n",
    "            if ev1<=i<=ev2:\n",
    "                print(ord(n[i]),end=' ')\n",
    "            else:\n",
    "                print(n[i],end=' ')\n",
    "    else:\n",
    "        for j in range(len(n)):\n",
    "            as1=((len(n)-1)/2)-1\n",
    "            as2=((len(n)-1)/2)+1\n",
    "            if as1<=j<=as2:\n",
    "                print(ord(n[j]),end=' ')\n",
    "            else:\n",
    "                print(n[j],end=' ')"
   ]
  },
  {
   "cell_type": "markdown",
   "id": "299472fb",
   "metadata": {},
   "source": [
    "𝗤𝘂𝗲𝘀𝘁𝗶𝗼𝗻 1:\n",
    "Write a python program that takes two numbers (Integer) as inputs from the \n",
    "user. Consider the 1st number to be the total number of rows and the 2nd \n",
    "number to be the total number of columns of a rectangle. [For this \n",
    "question, you can assume the second input is always greater than the first \n",
    "input. So, no checking is needed for ensuring this condition.] Finally, \n",
    "print a rectangle as shown in the output.\n",
    "=============================================================\n",
    "Sample Input 1:\n",
    "3\n",
    "6\n",
    "\n",
    "Sample Output 1:\n",
    "1=====\n",
    "12====\n",
    "123===\n",
    "Explanation 01:\n",
    "3 is the total number of rows and  6 is the total number of columns. For \n",
    "each row, numbers starting from 1 to that row number are printed and the \n",
    "rest of the columns are filled by equal 😊) to sign.\n",
    "=============================================================\n",
    "Sample Input 2:\n",
    "6\n",
    "7\n",
    "Sample Output 2:\n",
    "1======\n",
    "12=====\n",
    "123====\n",
    "1234===\n",
    "12345==\n",
    "123456=\n",
    "Explanation 02:\n",
    "6, is the total number of rows, and 7 is the total number of columns. For \n",
    "each row, numbers starting from 1 to that row number are printed and the \n",
    "rest of the columns are filled by equal 😊) to sign.\n",
    "\n"
   ]
  },
  {
   "cell_type": "code",
   "execution_count": null,
   "id": "4fc66458",
   "metadata": {},
   "outputs": [],
   "source": []
  },
  {
   "cell_type": "markdown",
   "id": "e776a2a0",
   "metadata": {},
   "source": [
    "𝗤𝘂𝗲𝘀𝘁𝗶𝗼𝗻 2:\n",
    "Take a lowercase word as an input from the user. Modify the word in such a \n",
    "way that the letters in the multiple of 3 positions become uppercase except \n",
    "position 0. Lastly, print the newly modified word.\n",
    "\n",
    "[You are not allowed to use upper() method]\n",
    "=============================================================\n",
    "Sample Input1:\n",
    "jupyter\n",
    "Sample Output1:\n",
    "jupYteR\n",
    "Explanation 1:\n",
    "The characters ‘y’ and ‘r’ are in positions 3 and 6 respectively. So, these \n",
    "two characters will be converted to uppercase in the modified string.\n",
    "=============================================================\n",
    "Sample Input2:\n",
    "python notebook\n",
    "Sample Output2:\n",
    "pytHon noTebOok\n",
    "Explanation 2:\n",
    "The characters ‘h’, ‘t’, and ‘o’ are in positions 3, 9, and 12 \n",
    "respectively. So, these three characters will be converted to uppercase in \n",
    "the modified string."
   ]
  },
  {
   "cell_type": "code",
   "execution_count": null,
   "id": "79b48966",
   "metadata": {},
   "outputs": [],
   "source": []
  },
  {
   "cell_type": "markdown",
   "id": "dff7063f",
   "metadata": {},
   "source": [
    "𝗤𝘂𝗲𝘀𝘁𝗶𝗼𝗻 1:\n",
    "You will be given three inputs M, N, and P. The M indicates the number of \n",
    "chocolates you have. And there is a shop where you can get P new chocolates \n",
    "if you return N empty chocolate packets.\n",
    "You need to find the total number of chocolates that you can have and print \n",
    "it.\n",
    "================================\n",
    "Sample Input 1:\n",
    "100\n",
    "4\n",
    "1\n",
    "Sample Output 1:\n",
    "133\n",
    "\n",
    "Explanation 1:\n",
    "In this input, the shop will return 1 new chocolate for every 4 empty \n",
    "packets. So if you have 100 chocolates in the beginning, you can have more \n",
    "chocolates through the following steps.\n",
    "\n",
    "Eat 100 chocolates -> 100 empty packs.\n",
    "100 empty packs -> 25 new chocolates.\n",
    "Eat 25 chocolates -> 25 empty packets.\n",
    "25 empty packets -> 6 new chocolates and 1 empty packet.\n",
    "Eat 6 chocolates -> (6 + 1 remaining) = 7 empty packs.\n",
    "7 empty packets -> 1 new chocolate and 3 empty packets.\n",
    "Eat 1 chocolate -> (1 + 3 remaining)  = 4 empty packs.\n",
    "4 empty packs -> 1 new chocolate.\n",
    "Eat 1 chocolate -> 1 empty packet.\n",
    "\n",
    "No new chocolate can be obtained using only 1 packet.\n",
    "Now counting all the chocolates you have eaten you’ll get\n",
    "(100 + 25 + 6 + 1 + 1) = 133 chocolates in total. So, the output is 133.\n",
    "\n",
    "================================\n",
    "Sample Input 2:\n",
    "100\n",
    "10\n",
    "3\n",
    "Sample Output 2:\n",
    "139\n",
    "\n",
    "Explanation 2:\n",
    "In this input, the shop will return 3 new chocolates for every 10 empty \n",
    "packets. So if you have 100 chocolates in the beginning, you can have more \n",
    "chocolates through the following steps.\n",
    "\n",
    "Eat 100 chocolates -> 100 empty packs.\n",
    "100 empty packets -> 30 new chocolates. (3 for each 10)\n",
    "Eat 30 chocolates -> 30 empty packs.\n",
    "30 empty packs -> 9 new chocolates.(3 for each 10)\n",
    "Eat 9 chocolates -> 9 empty packs.\n",
    "You can’t get any more new chocolates with 9 empty packs since 9 is less \n",
    "than 10.\n",
    "Now counting all the chocolates you have eaten. You’ll get\n",
    "(100 + 30 + 9) = 139 chocolates in total. So, the output is 139."
   ]
  },
  {
   "cell_type": "code",
   "execution_count": null,
   "id": "896ecb29",
   "metadata": {},
   "outputs": [],
   "source": []
  },
  {
   "cell_type": "markdown",
   "id": "6ceec3a5",
   "metadata": {},
   "source": [
    "𝗤𝘂𝗲𝘀𝘁𝗶𝗼𝗻 2:\n",
    "Write a Python program that takes a word as an input from the user and does \n",
    "the following. While printing, use a space after each letter or ASCII value.\n",
    "\n",
    "If the word has an even number of letters, then print the middle two \n",
    "letters replaced with their ASCII values.\n",
    "If the word has an odd number of letters, then  print the middle three \n",
    "letters replaced with their ASCII values\n",
    "If the word is less than four letters long, simply print the word itself.\n",
    "\n",
    "[Do not use any built-in functions of String class except len() and ord()]\n",
    "=========================================================\n",
    "Sample Input 1:\n",
    "computer\n",
    "\n",
    "Sample Output 1:\n",
    "c o m 112 117 t e r\n",
    "\n",
    "Explanation 1:\n",
    "The word 'computer' has 8 letters which is an even number and the length is \n",
    "not less than 4. Hence, the middle 2 letters 'p' and 'u' are replaced with \n",
    "the ASCII values of 'p' and 'u' which are 112 and 117. Notice the spaces \n",
    "after each letter or ASCII value in the output.\n",
    "\n",
    "=========================================================\n",
    "Sample Input 2:\n",
    "programming\n",
    "\n",
    "Sample Output 2:\n",
    "p r o g 114 97 109 m i n g\n",
    "\n",
    "Explanation 2:\n",
    "The word 'programming' has 11 letters which is an odd number and the length \n",
    "is not less than 4. Hence, the middle 3 letters 'r', 'a' and 'm' are \n",
    "replaced with the ASCII values of 'r', 'a', and 'm' which are 114 and 97 \n",
    "and 109. Notice the spaces after each letter or ASCII value in the output.\n",
    "=========================================================\n",
    "Sample Input 3:\n",
    "mid\n",
    "\n",
    "Sample Output 3:\n",
    "mid\n",
    "\n",
    "Explanation 3:\n",
    "The word 'mid' has 3 letters which is an odd number. But the length is less \n",
    "than 4. So, the original word was printed."
   ]
  },
  {
   "cell_type": "code",
   "execution_count": null,
   "id": "23a8875f",
   "metadata": {},
   "outputs": [],
   "source": []
  },
  {
   "cell_type": "markdown",
   "id": "0b783e01",
   "metadata": {},
   "source": [
    "Write a python program that asks the user for a range (a starting number(inclusive) and an ending number(inclusive)). Then take another input to check, if the product of all the digits of each number is divisible by this input or not. If it is divisible, then print it.\n",
    "\n",
    "Sample Input 1:\n",
    "25\n",
    "30\n",
    "4\n",
    "Sample Output 1:\n",
    "12 16 0\n",
    "\n",
    "Explanation 1:\n",
    "The product of all the digits of each number from 25 to 30 is 2x5, 2x6, 2x7, 2x8, 2x9, 3x0. The final product is 10,12,14,16,18,0 respectively. Out of these numbers only 12, 16 and 0 is divisible by 4 and therefore it is printed.\n",
    "\n",
    "Sample Input 2:\n",
    "351\n",
    "356\n",
    "9\n",
    "Sample output 2:\n",
    "45 90"
   ]
  },
  {
   "cell_type": "code",
   "execution_count": 1,
   "id": "2b8143e4",
   "metadata": {},
   "outputs": [
    {
     "name": "stdout",
     "output_type": "stream",
     "text": [
      "Enter start and end using comma:25,30\n",
      "[12, 16, 0]\n"
     ]
    }
   ],
   "source": [
    "n=input('Enter start and end using comma:')\n",
    "list1=n.split(',')\n",
    "list2=[]\n",
    "list3=[]\n",
    "list4=[]\n",
    "for i in range(int(list1[0]),int(list1[-1])+1):\n",
    "    list2.append(str(i))\n",
    "for j in list2:\n",
    "    multi=int(j[0])*int(j[-1])\n",
    "    list3.append(multi)\n",
    "for k in list3:\n",
    "    if k%4==0:\n",
    "        list4.append(k)\n",
    "    else:\n",
    "        continue\n",
    "\n",
    "print(list4)"
   ]
  },
  {
   "cell_type": "code",
   "execution_count": null,
   "id": "a4e07924",
   "metadata": {},
   "outputs": [],
   "source": []
  }
 ],
 "metadata": {
  "kernelspec": {
   "display_name": "Python 3",
   "language": "python",
   "name": "python3"
  },
  "language_info": {
   "codemirror_mode": {
    "name": "ipython",
    "version": 3
   },
   "file_extension": ".py",
   "mimetype": "text/x-python",
   "name": "python",
   "nbconvert_exporter": "python",
   "pygments_lexer": "ipython3",
   "version": "3.8.8"
  }
 },
 "nbformat": 4,
 "nbformat_minor": 5
}
